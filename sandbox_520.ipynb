{
 "cells": [
  {
   "cell_type": "code",
   "execution_count": 1,
   "metadata": {},
   "outputs": [],
   "source": [
    "import pandas as pd\n",
    "import numpy as np\n",
    "import matplotlib.pyplot as plt\n",
    "import seaborn as sns\n",
    "from sklearn.linear_model import LinearRegression\n",
    "from sklearn.model_selection import train_test_split\n",
    "from sklearn.linear_model import LassoCV\n",
    "from sklearn import metrics\n",
    "from sklearn.preprocessing import PolynomialFeatures\n",
    "\n",
    "%matplotlib inline\n",
    "\n",
    "pd.set_option('display.max_columns',100)\n",
    "pd.set_option('display.max_rows',200)"
   ]
  },
  {
   "cell_type": "code",
   "execution_count": 2,
   "metadata": {},
   "outputs": [],
   "source": [
    "df = pd.read_csv('../US_births.csv', low_memory=False)"
   ]
  },
  {
   "cell_type": "code",
   "execution_count": 3,
   "metadata": {},
   "outputs": [],
   "source": [
    "df = df.sample(n=100_000, random_state=42)"
   ]
  },
  {
   "cell_type": "code",
   "execution_count": null,
   "metadata": {},
   "outputs": [],
   "source": []
  },
  {
   "cell_type": "code",
   "execution_count": 4,
   "metadata": {},
   "outputs": [
    {
     "data": {
      "text/plain": [
       "(100000, 55)"
      ]
     },
     "execution_count": 4,
     "metadata": {},
     "output_type": "execute_result"
    }
   ],
   "source": [
    "df.shape"
   ]
  },
  {
   "cell_type": "code",
   "execution_count": 5,
   "metadata": {},
   "outputs": [],
   "source": [
    "df.drop(df[df['DBWT'].eq(9999)].index, inplace=True)"
   ]
  },
  {
   "cell_type": "code",
   "execution_count": 6,
   "metadata": {},
   "outputs": [],
   "source": [
    "df.drop(df[df['BMI'].eq(99.9)].index, inplace=True)\n",
    "df.drop(df[df['DBWT'].eq(9999)].index, inplace=True)\n",
    "df.drop(df[df['WTGAIN'].eq(99)].index, inplace=True)\n",
    "df.drop(df[df['PWgt_R'].eq(999)].index, inplace=True)\n",
    "df['binary_sex'] = np.where(df['SEX'] == 'M', 1, 0)\n",
    "df.drop(df[df['FAGECOMB'].eq(99)].index, inplace=True)\n",
    "df['first_birth'] = np.where(df['ILLB_R'].eq(888), 1, 0)"
   ]
  },
  {
   "cell_type": "code",
   "execution_count": 7,
   "metadata": {},
   "outputs": [
    {
     "data": {
      "text/plain": [
       "(85804, 57)"
      ]
     },
     "execution_count": 7,
     "metadata": {},
     "output_type": "execute_result"
    }
   ],
   "source": [
    "df.shape"
   ]
  },
  {
   "cell_type": "code",
   "execution_count": 8,
   "metadata": {},
   "outputs": [],
   "source": [
    "conditions = [df['CIG_0'].eq(0),\n",
    "              df['CIG_0'].eq(99),\n",
    "              \n",
    "    \n",
    "]\n",
    "choices = ['None',\n",
    "           'Unknown',\n",
    "]\n",
    "\n",
    "df['smoked'] = np.select(conditions, choices, 'Daily')"
   ]
  },
  {
   "cell_type": "code",
   "execution_count": 9,
   "metadata": {},
   "outputs": [],
   "source": [
    "conditions = [df['PRIORDEAD'].eq(0),\n",
    "              df['PRIORDEAD'].eq(99),\n",
    "              \n",
    "    \n",
    "]\n",
    "choices = ['None',\n",
    "           'Unknown',\n",
    "]\n",
    "\n",
    "df['PRIORDEAD_cat'] = np.select(conditions, choices, 'Yes')"
   ]
  },
  {
   "cell_type": "code",
   "execution_count": 10,
   "metadata": {},
   "outputs": [],
   "source": [
    "conditions = [df['PRIORTERM'].eq(0),\n",
    "              df['PRIORTERM'].eq(99),\n",
    "              \n",
    "    \n",
    "]\n",
    "choices = ['None',\n",
    "           'Unknown',\n",
    "]\n",
    "\n",
    "df['PRIORTERM_cat'] = np.select(conditions, choices, 'Yes')"
   ]
  },
  {
   "cell_type": "code",
   "execution_count": 11,
   "metadata": {},
   "outputs": [],
   "source": [
    "conditions = [df['PRIORLIVE'].eq(0),\n",
    "              df['PRIORLIVE'].eq(99),\n",
    "              \n",
    "    \n",
    "]\n",
    "choices = ['None',\n",
    "           'Unknown',\n",
    "]\n",
    "\n",
    "df['PRIORLIVE_cat'] = np.select(conditions, choices, 'Yes')"
   ]
  },
  {
   "cell_type": "code",
   "execution_count": null,
   "metadata": {},
   "outputs": [],
   "source": []
  },
  {
   "cell_type": "code",
   "execution_count": 12,
   "metadata": {},
   "outputs": [
    {
     "data": {
      "text/plain": [
       "<matplotlib.axes._subplots.AxesSubplot at 0x1384f648>"
      ]
     },
     "execution_count": 12,
     "metadata": {},
     "output_type": "execute_result"
    },
    {
     "data": {
      "image/png": "[encoded data removed]",
      "text/plain": [
       "<Figure size 432x288 with 1 Axes>"
      ]
     },
     "metadata": {
      "needs_background": "light"
     },
     "output_type": "display_data"
    }
   ],
   "source": [
    "df[df['WTGAIN'].eq(99)]['BMI'].plot(kind='hist')"
   ]
  },
  {
   "cell_type": "code",
   "execution_count": 13,
   "metadata": {},
   "outputs": [
    {
     "data": {
      "text/plain": [
       "(85804, 61)"
      ]
     },
     "execution_count": 13,
     "metadata": {},
     "output_type": "execute_result"
    }
   ],
   "source": [
    "df.shape"
   ]
  },
  {
   "cell_type": "code",
   "execution_count": 14,
   "metadata": {},
   "outputs": [
    {
     "data": {
      "text/plain": [
       "<matplotlib.axes._subplots.AxesSubplot at 0x1391e488>"
      ]
     },
     "execution_count": 14,
     "metadata": {},
     "output_type": "execute_result"
    },
    {
     "data": {
      "image/png": "[encoded data removed]",
      "text/plain": [
       "<Figure size 432x288 with 1 Axes>"
      ]
     },
     "metadata": {
      "needs_background": "light"
     },
     "output_type": "display_data"
    }
   ],
   "source": [
    "sns.distplot(df['BMI'])"
   ]
  },
  {
   "cell_type": "code",
   "execution_count": 15,
   "metadata": {},
   "outputs": [
    {
     "data": {
      "text/plain": [
       "<matplotlib.axes._subplots.AxesSubplot at 0x141b3ec8>"
      ]
     },
     "execution_count": 15,
     "metadata": {},
     "output_type": "execute_result"
    },
    {
     "data": {
      "image/png": "[encoded data removed]",
      "text/plain": [
       "<Figure size 432x288 with 1 Axes>"
      ]
     },
     "metadata": {
      "needs_background": "light"
     },
     "output_type": "display_data"
    }
   ],
   "source": [
    "df['BMI_log'] = np.log(df['BMI'])\n",
    "sns.distplot(df['BMI_log'])"
   ]
  },
  {
   "cell_type": "code",
   "execution_count": 16,
   "metadata": {},
   "outputs": [
    {
     "data": {
      "text/plain": [
       "<seaborn.axisgrid.JointGrid at 0x14221908>"
      ]
     },
     "execution_count": 16,
     "metadata": {},
     "output_type": "execute_result"
    },
    {
     "data": {
      "image/png": "[encoded data removed]",
      "text/plain": [
       "<Figure size 432x432 with 3 Axes>"
      ]
     },
     "metadata": {
      "needs_background": "light"
     },
     "output_type": "display_data"
    }
   ],
   "source": [
    "sns.jointplot(x='BMI_log', y= 'DBWT', data =df, kind='reg')"
   ]
  },
  {
   "cell_type": "code",
   "execution_count": 17,
   "metadata": {},
   "outputs": [
    {
     "data": {
      "text/plain": [
       "<seaborn.axisgrid.JointGrid at 0x152670c8>"
      ]
     },
     "execution_count": 17,
     "metadata": {},
     "output_type": "execute_result"
    },
    {
     "data": {
      "image/png": "[encoded data removed]",
      "text/plain": [
       "<Figure size 432x432 with 3 Axes>"
      ]
     },
     "metadata": {
      "needs_background": "light"
     },
     "output_type": "display_data"
    }
   ],
   "source": [
    "sns.jointplot(x='BMI', y= 'DBWT', data =df, kind='reg')"
   ]
  },
  {
   "cell_type": "code",
   "execution_count": 18,
   "metadata": {},
   "outputs": [
    {
     "data": {
      "text/plain": [
       "<seaborn.axisgrid.JointGrid at 0x15637108>"
      ]
     },
     "execution_count": 18,
     "metadata": {},
     "output_type": "execute_result"
    },
    {
     "data": {
      "image/png": "[encoded data removed]",
      "text/plain": [
       "<Figure size 432x432 with 3 Axes>"
      ]
     },
     "metadata": {
      "needs_background": "light"
     },
     "output_type": "display_data"
    }
   ],
   "source": [
    "sns.jointplot(x='MAGER', y= 'DBWT', data =df, kind='reg')"
   ]
  },
  {
   "cell_type": "code",
   "execution_count": null,
   "metadata": {},
   "outputs": [],
   "source": []
  },
  {
   "cell_type": "code",
   "execution_count": 19,
   "metadata": {},
   "outputs": [
    {
     "data": {
      "text/plain": [
       "<seaborn.axisgrid.JointGrid at 0x17e14148>"
      ]
     },
     "execution_count": 19,
     "metadata": {},
     "output_type": "execute_result"
    },
    {
     "data": {
      "image/png": "[encoded data removed]",
      "text/plain": [
       "<Figure size 432x432 with 3 Axes>"
      ]
     },
     "metadata": {
      "needs_background": "light"
     },
     "output_type": "display_data"
    }
   ],
   "source": [
    "sns.jointplot(x='WTGAIN', y= 'DBWT', data =df, kind='reg')"
   ]
  },
  {
   "cell_type": "code",
   "execution_count": null,
   "metadata": {},
   "outputs": [],
   "source": []
  },
  {
   "cell_type": "code",
   "execution_count": null,
   "metadata": {},
   "outputs": [],
   "source": []
  },
  {
   "cell_type": "code",
   "execution_count": null,
   "metadata": {},
   "outputs": [],
   "source": []
  },
  {
   "cell_type": "code",
   "execution_count": null,
   "metadata": {},
   "outputs": [],
   "source": []
  },
  {
   "cell_type": "code",
   "execution_count": 20,
   "metadata": {},
   "outputs": [
    {
     "data": {
      "text/plain": [
       "<matplotlib.axes._subplots.AxesSubplot at 0x1610c588>"
      ]
     },
     "execution_count": 20,
     "metadata": {},
     "output_type": "execute_result"
    },
    {
     "data": {
      "image/png": "[encoded data removed]",
      "text/plain": [
       "<Figure size 432x288 with 1 Axes>"
      ]
     },
     "metadata": {
      "needs_background": "light"
     },
     "output_type": "display_data"
    }
   ],
   "source": [
    "sns.distplot(df['DBWT'])"
   ]
  },
  {
   "cell_type": "code",
   "execution_count": 21,
   "metadata": {},
   "outputs": [
    {
     "data": {
      "text/plain": [
       "array(['F', 'M'], dtype=object)"
      ]
     },
     "execution_count": 21,
     "metadata": {},
     "output_type": "execute_result"
    }
   ],
   "source": [
    "df['SEX'].unique()"
   ]
  },
  {
   "cell_type": "code",
   "execution_count": 22,
   "metadata": {},
   "outputs": [],
   "source": [
    "_M_df = df[df['SEX'].eq('M')]\n",
    "_F_df = df[df['SEX'].eq('F')]"
   ]
  },
  {
   "cell_type": "code",
   "execution_count": 23,
   "metadata": {},
   "outputs": [
    {
     "data": {
      "text/plain": [
       "<matplotlib.axes._subplots.AxesSubplot at 0x17e66988>"
      ]
     },
     "execution_count": 23,
     "metadata": {},
     "output_type": "execute_result"
    },
    {
     "data": {
      "image/png": "[encoded data removed]",
      "text/plain": [
       "<Figure size 432x288 with 1 Axes>"
      ]
     },
     "metadata": {
      "needs_background": "light"
     },
     "output_type": "display_data"
    }
   ],
   "source": [
    "sns.distplot(_M_df['DBWT'])\n",
    "sns.distplot(_F_df['DBWT'])"
   ]
  },
  {
   "cell_type": "code",
   "execution_count": 24,
   "metadata": {},
   "outputs": [
    {
     "data": {
      "text/html": [
       "<table class=\"simpletable\">\n",
       "<caption>OLS Regression Results</caption>\n",
       "<tr>\n",
       "  <th>Dep. Variable:</th>          <td>DBWT</td>       <th>  R-squared:         </th>  <td>   0.010</td>  \n",
       "</tr>\n",
       "<tr>\n",
       "  <th>Model:</th>                   <td>OLS</td>       <th>  Adj. R-squared:    </th>  <td>   0.010</td>  \n",
       "</tr>\n",
       "<tr>\n",
       "  <th>Method:</th>             <td>Least Squares</td>  <th>  F-statistic:       </th>  <td>   908.0</td>  \n",
       "</tr>\n",
       "<tr>\n",
       "  <th>Date:</th>             <td>Wed, 29 Jul 2020</td> <th>  Prob (F-statistic):</th>  <td>1.97e-198</td> \n",
       "</tr>\n",
       "<tr>\n",
       "  <th>Time:</th>                 <td>14:34:21</td>     <th>  Log-Likelihood:    </th> <td>-6.6698e+05</td>\n",
       "</tr>\n",
       "<tr>\n",
       "  <th>No. Observations:</th>      <td> 85804</td>      <th>  AIC:               </th>  <td>1.334e+06</td> \n",
       "</tr>\n",
       "<tr>\n",
       "  <th>Df Residuals:</th>          <td> 85802</td>      <th>  BIC:               </th>  <td>1.334e+06</td> \n",
       "</tr>\n",
       "<tr>\n",
       "  <th>Df Model:</th>              <td>     1</td>      <th>                     </th>      <td> </td>     \n",
       "</tr>\n",
       "<tr>\n",
       "  <th>Covariance Type:</th>      <td>nonrobust</td>    <th>                     </th>      <td> </td>     \n",
       "</tr>\n",
       "</table>\n",
       "<table class=\"simpletable\">\n",
       "<tr>\n",
       "       <td></td>         <th>coef</th>     <th>std err</th>      <th>t</th>      <th>P>|t|</th>  <th>[0.025</th>    <th>0.975]</th>  \n",
       "</tr>\n",
       "<tr>\n",
       "  <th>Intercept</th>  <td> 3224.9878</td> <td>    2.813</td> <td> 1146.528</td> <td> 0.000</td> <td> 3219.475</td> <td> 3230.501</td>\n",
       "</tr>\n",
       "<tr>\n",
       "  <th>binary_sex</th> <td>  118.3388</td> <td>    3.927</td> <td>   30.133</td> <td> 0.000</td> <td>  110.641</td> <td>  126.036</td>\n",
       "</tr>\n",
       "</table>\n",
       "<table class=\"simpletable\">\n",
       "<tr>\n",
       "  <th>Omnibus:</th>       <td>13652.131</td> <th>  Durbin-Watson:     </th> <td>   1.999</td> \n",
       "</tr>\n",
       "<tr>\n",
       "  <th>Prob(Omnibus):</th>  <td> 0.000</td>   <th>  Jarque-Bera (JB):  </th> <td>39533.358</td>\n",
       "</tr>\n",
       "<tr>\n",
       "  <th>Skew:</th>           <td>-0.849</td>   <th>  Prob(JB):          </th> <td>    0.00</td> \n",
       "</tr>\n",
       "<tr>\n",
       "  <th>Kurtosis:</th>       <td> 5.859</td>   <th>  Cond. No.          </th> <td>    2.65</td> \n",
       "</tr>\n",
       "</table><br/><br/>Warnings:<br/>[1] Standard Errors assume that the covariance matrix of the errors is correctly specified."
      ],
      "text/plain": [
       "<class 'statsmodels.iolib.summary.Summary'>\n",
       "\"\"\"\n",
       "                            OLS Regression Results                            \n",
       "==============================================================================\n",
       "Dep. Variable:                   DBWT   R-squared:                       0.010\n",
       "Model:                            OLS   Adj. R-squared:                  0.010\n",
       "Method:                 Least Squares   F-statistic:                     908.0\n",
       "Date:                Wed, 29 Jul 2020   Prob (F-statistic):          1.97e-198\n",
       "Time:                        14:34:21   Log-Likelihood:            -6.6698e+05\n",
       "No. Observations:               85804   AIC:                         1.334e+06\n",
       "Df Residuals:                   85802   BIC:                         1.334e+06\n",
       "Df Model:                           1                                         \n",
       "Covariance Type:            nonrobust                                         \n",
       "==============================================================================\n",
       "                 coef    std err          t      P>|t|      [0.025      0.975]\n",
       "------------------------------------------------------------------------------\n",
       "Intercept   3224.9878      2.813   1146.528      0.000    3219.475    3230.501\n",
       "binary_sex   118.3388      3.927     30.133      0.000     110.641     126.036\n",
       "==============================================================================\n",
       "Omnibus:                    13652.131   Durbin-Watson:                   1.999\n",
       "Prob(Omnibus):                  0.000   Jarque-Bera (JB):            39533.358\n",
       "Skew:                          -0.849   Prob(JB):                         0.00\n",
       "Kurtosis:                       5.859   Cond. No.                         2.65\n",
       "==============================================================================\n",
       "\n",
       "Warnings:\n",
       "[1] Standard Errors assume that the covariance matrix of the errors is correctly specified.\n",
       "\"\"\""
      ]
     },
     "execution_count": 24,
     "metadata": {},
     "output_type": "execute_result"
    }
   ],
   "source": [
    "from statsmodels.formula.api import ols\n",
    "formula = 'DBWT~binary_sex'\n",
    "model = ols(formula=formula, data = df).fit()\n",
    "model.summary()"
   ]
  },
  {
   "cell_type": "code",
   "execution_count": 25,
   "metadata": {},
   "outputs": [
    {
     "data": {
      "text/plain": [
       "F_onewayResult(statistic=907.9886499804788, pvalue=1.9652764524556107e-198)"
      ]
     },
     "execution_count": 25,
     "metadata": {},
     "output_type": "execute_result"
    }
   ],
   "source": [
    "from scipy import stats\n",
    "stats.f_oneway(_M_df['DBWT'], _F_df['DBWT'])"
   ]
  },
  {
   "cell_type": "code",
   "execution_count": null,
   "metadata": {},
   "outputs": [],
   "source": []
  },
  {
   "cell_type": "code",
   "execution_count": 26,
   "metadata": {},
   "outputs": [],
   "source": [
    "del _M_df\n",
    "del _F_df"
   ]
  },
  {
   "cell_type": "code",
   "execution_count": null,
   "metadata": {},
   "outputs": [],
   "source": []
  },
  {
   "cell_type": "code",
   "execution_count": null,
   "metadata": {},
   "outputs": [],
   "source": []
  },
  {
   "cell_type": "code",
   "execution_count": null,
   "metadata": {},
   "outputs": [],
   "source": []
  },
  {
   "cell_type": "code",
   "execution_count": 27,
   "metadata": {},
   "outputs": [
    {
     "data": {
      "text/plain": [
       "array([1, 2, 4, 3, 6, 5], dtype=int64)"
      ]
     },
     "execution_count": 27,
     "metadata": {},
     "output_type": "execute_result"
    }
   ],
   "source": [
    "df['MRAVE6'].unique()"
   ]
  },
  {
   "cell_type": "code",
   "execution_count": 28,
   "metadata": {},
   "outputs": [],
   "source": [
    "_1_race = df[df['MRAVE6'].eq(1)]\n",
    "_2_race = df[df['MRAVE6'].eq(2)]\n",
    "_3_race = df[df['MRAVE6'].eq(3)]\n",
    "_4_race = df[df['MRAVE6'].eq(4)]\n",
    "_5_race = df[df['MRAVE6'].eq(5)]\n",
    "_6_race = df[df['MRAVE6'].eq(6)]"
   ]
  },
  {
   "cell_type": "code",
   "execution_count": 29,
   "metadata": {},
   "outputs": [
    {
     "data": {
      "text/plain": [
       "<matplotlib.axes._subplots.AxesSubplot at 0x1e96d3c8>"
      ]
     },
     "execution_count": 29,
     "metadata": {},
     "output_type": "execute_result"
    },
    {
     "data": {
      "image/png": "[encoded data removed]",
      "text/plain": [
       "<Figure size 432x288 with 1 Axes>"
      ]
     },
     "metadata": {
      "needs_background": "light"
     },
     "output_type": "display_data"
    }
   ],
   "source": [
    "sns.distplot(_1_race['DBWT'])\n",
    "sns.distplot(_2_race['DBWT'])\n",
    "sns.distplot(_3_race['DBWT'])\n",
    "sns.distplot(_4_race['DBWT'])\n",
    "sns.distplot(_5_race['DBWT'])\n",
    "sns.distplot(_6_race['DBWT'])"
   ]
  },
  {
   "cell_type": "code",
   "execution_count": 30,
   "metadata": {},
   "outputs": [
    {
     "data": {
      "text/plain": [
       "F_onewayResult(statistic=345.65160602265075, pvalue=0.0)"
      ]
     },
     "execution_count": 30,
     "metadata": {},
     "output_type": "execute_result"
    }
   ],
   "source": [
    "stats.f_oneway(_1_race['DBWT'], _2_race['DBWT'], _3_race['DBWT'], _4_race['DBWT'], _5_race['DBWT'], _6_race['DBWT'])"
   ]
  },
  {
   "cell_type": "code",
   "execution_count": null,
   "metadata": {},
   "outputs": [],
   "source": []
  },
  {
   "cell_type": "code",
   "execution_count": null,
   "metadata": {},
   "outputs": [],
   "source": []
  },
  {
   "cell_type": "code",
   "execution_count": 31,
   "metadata": {},
   "outputs": [],
   "source": [
    "del _1_race\n",
    "del _2_race\n",
    "del _3_race\n",
    "del _4_race\n",
    "del _5_race\n",
    "del _6_race"
   ]
  },
  {
   "cell_type": "code",
   "execution_count": null,
   "metadata": {},
   "outputs": [],
   "source": []
  },
  {
   "cell_type": "code",
   "execution_count": null,
   "metadata": {},
   "outputs": [],
   "source": []
  },
  {
   "cell_type": "code",
   "execution_count": 32,
   "metadata": {},
   "outputs": [
    {
     "data": {
      "text/plain": [
       "<matplotlib.axes._subplots.AxesSubplot at 0x201b2dc8>"
      ]
     },
     "execution_count": 32,
     "metadata": {},
     "output_type": "execute_result"
    },
    {
     "data": {
      "image/png": "[encoded data removed]",
      "text/plain": [
       "<Figure size 432x288 with 1 Axes>"
      ]
     },
     "metadata": {
      "needs_background": "light"
     },
     "output_type": "display_data"
    }
   ],
   "source": [
    "sns.distplot(df['MAGER'], bins = 39)"
   ]
  },
  {
   "cell_type": "code",
   "execution_count": null,
   "metadata": {},
   "outputs": [],
   "source": []
  },
  {
   "cell_type": "code",
   "execution_count": null,
   "metadata": {},
   "outputs": [],
   "source": []
  },
  {
   "cell_type": "code",
   "execution_count": 33,
   "metadata": {},
   "outputs": [
    {
     "data": {
      "text/plain": [
       "(85804, 62)"
      ]
     },
     "execution_count": 33,
     "metadata": {},
     "output_type": "execute_result"
    }
   ],
   "source": [
    "df.shape"
   ]
  },
  {
   "cell_type": "code",
   "execution_count": 34,
   "metadata": {},
   "outputs": [
    {
     "data": {
      "text/plain": [
       "1    83908\n",
       "0     1764\n",
       "9      132\n",
       "Name: NO_INFEC, dtype: int64"
      ]
     },
     "execution_count": 34,
     "metadata": {},
     "output_type": "execute_result"
    }
   ],
   "source": [
    "df['NO_INFEC'].value_counts()"
   ]
  },
  {
   "cell_type": "code",
   "execution_count": 35,
   "metadata": {},
   "outputs": [
    {
     "data": {
      "text/plain": [
       "1    65374\n",
       "2    11109\n",
       "4     6270\n",
       "6     2078\n",
       "3      702\n",
       "5      271\n",
       "Name: MRAVE6, dtype: int64"
      ]
     },
     "execution_count": 35,
     "metadata": {},
     "output_type": "execute_result"
    }
   ],
   "source": [
    "df['MRAVE6'].value_counts()"
   ]
  },
  {
   "cell_type": "code",
   "execution_count": 36,
   "metadata": {},
   "outputs": [
    {
     "data": {
      "text/plain": [
       "0     62226\n",
       "1     15325\n",
       "2      5155\n",
       "3      1764\n",
       "4       641\n",
       "5       236\n",
       "99      192\n",
       "6       122\n",
       "7        58\n",
       "8        34\n",
       "10       22\n",
       "9        16\n",
       "11        3\n",
       "12        2\n",
       "14        2\n",
       "16        2\n",
       "20        1\n",
       "13        1\n",
       "15        1\n",
       "18        1\n",
       "Name: PRIORTERM, dtype: int64"
      ]
     },
     "execution_count": 36,
     "metadata": {},
     "output_type": "execute_result"
    }
   ],
   "source": [
    "df['PRIORTERM'].value_counts()"
   ]
  },
  {
   "cell_type": "code",
   "execution_count": 37,
   "metadata": {},
   "outputs": [
    {
     "data": {
      "text/plain": [
       "1    59287\n",
       "2    12100\n",
       "9     6184\n",
       "4     5357\n",
       "6     2016\n",
       "3      608\n",
       "5      252\n",
       "Name: FRACE6, dtype: int64"
      ]
     },
     "execution_count": 37,
     "metadata": {},
     "output_type": "execute_result"
    }
   ],
   "source": [
    "df['FRACE6'].value_counts()\n"
   ]
  },
  {
   "cell_type": "code",
   "execution_count": 38,
   "metadata": {},
   "outputs": [
    {
     "data": {
      "text/plain": [
       "M    44017\n",
       "F    41787\n",
       "Name: SEX, dtype: int64"
      ]
     },
     "execution_count": 38,
     "metadata": {},
     "output_type": "execute_result"
    }
   ],
   "source": [
    "df['SEX'].value_counts()"
   ]
  },
  {
   "cell_type": "code",
   "execution_count": 39,
   "metadata": {},
   "outputs": [
    {
     "data": {
      "text/plain": [
       "2    45944\n",
       "1    32371\n",
       "3     3680\n",
       "8     1587\n",
       "5     1160\n",
       "6      640\n",
       "9      370\n",
       "4       52\n",
       "Name: PAY, dtype: int64"
      ]
     },
     "execution_count": 39,
     "metadata": {},
     "output_type": "execute_result"
    }
   ],
   "source": [
    "df['PAY'].value_counts()"
   ]
  },
  {
   "cell_type": "code",
   "execution_count": 40,
   "metadata": {},
   "outputs": [
    {
     "data": {
      "text/plain": [
       "array(['1', '2', ' '], dtype=object)"
      ]
     },
     "execution_count": 40,
     "metadata": {},
     "output_type": "execute_result"
    }
   ],
   "source": [
    "df['DMAR'].unique()"
   ]
  },
  {
   "cell_type": "code",
   "execution_count": 41,
   "metadata": {},
   "outputs": [
    {
     "data": {
      "text/plain": [
       "array(['N', 'Y', 'U'], dtype=object)"
      ]
     },
     "execution_count": 41,
     "metadata": {},
     "output_type": "execute_result"
    }
   ],
   "source": [
    "df['LD_INDL'].unique()"
   ]
  },
  {
   "cell_type": "code",
   "execution_count": 42,
   "metadata": {},
   "outputs": [
    {
     "data": {
      "text/plain": [
       "array(['N', 'Y', 'U'], dtype=object)"
      ]
     },
     "execution_count": 42,
     "metadata": {},
     "output_type": "execute_result"
    }
   ],
   "source": [
    "df['RF_CESAR'].unique()"
   ]
  },
  {
   "cell_type": "code",
   "execution_count": 43,
   "metadata": {},
   "outputs": [
    {
     "data": {
      "text/plain": [
       "array([1, 0, 9], dtype=int64)"
      ]
     },
     "execution_count": 43,
     "metadata": {},
     "output_type": "execute_result"
    }
   ],
   "source": [
    "df['NO_RISKS'].unique()"
   ]
  },
  {
   "cell_type": "code",
   "execution_count": 44,
   "metadata": {},
   "outputs": [
    {
     "data": {
      "text/plain": [
       "array([1, 0, 9], dtype=int64)"
      ]
     },
     "execution_count": 44,
     "metadata": {},
     "output_type": "execute_result"
    }
   ],
   "source": [
    "df['NO_MMORB'].unique()"
   ]
  },
  {
   "cell_type": "code",
   "execution_count": 45,
   "metadata": {},
   "outputs": [
    {
     "data": {
      "text/plain": [
       "array([' ', '1'], dtype=object)"
      ]
     },
     "execution_count": 45,
     "metadata": {},
     "output_type": "execute_result"
    }
   ],
   "source": [
    "df['MAGE_IMPFLG'].unique()"
   ]
  },
  {
   "cell_type": "code",
   "execution_count": 46,
   "metadata": {},
   "outputs": [
    {
     "data": {
      "text/plain": [
       "888    32554\n",
       "999     2442\n",
       "24      1212\n",
       "22      1191\n",
       "23      1185\n",
       "       ...  \n",
       "295        1\n",
       "270        1\n",
       "277        1\n",
       "242        1\n",
       "293        1\n",
       "Name: ILLB_R, Length: 279, dtype: int64"
      ]
     },
     "execution_count": 46,
     "metadata": {},
     "output_type": "execute_result"
    }
   ],
   "source": [
    "df['ILLB_R'].value_counts()"
   ]
  },
  {
   "cell_type": "code",
   "execution_count": 47,
   "metadata": {},
   "outputs": [
    {
     "data": {
      "text/plain": [
       "888    26327\n",
       "999     9764\n",
       "12      1267\n",
       "21      1223\n",
       "24      1206\n",
       "       ...  \n",
       "270        1\n",
       "252        1\n",
       "268        1\n",
       "266        1\n",
       "284        1\n",
       "Name: ILP_R, Length: 273, dtype: int64"
      ]
     },
     "execution_count": 47,
     "metadata": {},
     "output_type": "execute_result"
    }
   ],
   "source": [
    "df['ILP_R'].value_counts()"
   ]
  },
  {
   "cell_type": "code",
   "execution_count": null,
   "metadata": {},
   "outputs": [],
   "source": []
  },
  {
   "cell_type": "code",
   "execution_count": null,
   "metadata": {},
   "outputs": [],
   "source": []
  },
  {
   "cell_type": "code",
   "execution_count": 48,
   "metadata": {},
   "outputs": [],
   "source": [
    "df['first_birth'] = np.where(df['ILLB_R'].eq(888), 1, 0)"
   ]
  },
  {
   "cell_type": "code",
   "execution_count": 421,
   "metadata": {},
   "outputs": [],
   "source": [
    "df['plural_delivery'] = np.where(df['ILLB_R'].lt(4), 'Yes', 0)"
   ]
  },
  {
   "cell_type": "code",
   "execution_count": 50,
   "metadata": {},
   "outputs": [],
   "source": [
    "df['first_pregnancy'] = np.where(df['ILP_R'].eq(888), 1, 0)"
   ]
  },
  {
   "cell_type": "code",
   "execution_count": 184,
   "metadata": {},
   "outputs": [
    {
     "data": {
      "text/plain": [
       "1118"
      ]
     },
     "execution_count": 184,
     "metadata": {},
     "output_type": "execute_result"
    }
   ],
   "source": [
    "len(df[df['ILLB_R'].lt(4)])"
   ]
  },
  {
   "cell_type": "code",
   "execution_count": 183,
   "metadata": {},
   "outputs": [
    {
     "data": {
      "text/plain": [
       "8"
      ]
     },
     "execution_count": 183,
     "metadata": {},
     "output_type": "execute_result"
    }
   ],
   "source": [
    "len(df[df['ILOP_R'].lt(4)])"
   ]
  },
  {
   "cell_type": "code",
   "execution_count": 182,
   "metadata": {},
   "outputs": [
    {
     "data": {
      "text/plain": [
       "1022"
      ]
     },
     "execution_count": 182,
     "metadata": {},
     "output_type": "execute_result"
    }
   ],
   "source": [
    "len(df[df['ILP_R'].lt(4)])"
   ]
  },
  {
   "cell_type": "code",
   "execution_count": 185,
   "metadata": {},
   "outputs": [
    {
     "data": {
      "text/plain": [
       "32554"
      ]
     },
     "execution_count": 185,
     "metadata": {},
     "output_type": "execute_result"
    }
   ],
   "source": [
    "len(df[df['ILLB_R'].eq(888)])"
   ]
  },
  {
   "cell_type": "code",
   "execution_count": 186,
   "metadata": {},
   "outputs": [
    {
     "data": {
      "text/plain": [
       "62226"
      ]
     },
     "execution_count": 186,
     "metadata": {},
     "output_type": "execute_result"
    }
   ],
   "source": [
    "len(df[df['ILOP_R'].eq(888)])"
   ]
  },
  {
   "cell_type": "code",
   "execution_count": 187,
   "metadata": {},
   "outputs": [
    {
     "data": {
      "text/plain": [
       "26327"
      ]
     },
     "execution_count": 187,
     "metadata": {},
     "output_type": "execute_result"
    }
   ],
   "source": [
    "len(df[df['ILP_R'].eq(888)])"
   ]
  },
  {
   "cell_type": "code",
   "execution_count": 188,
   "metadata": {},
   "outputs": [],
   "source": [
    "df['first_natal'] = np.where(df['ILOP_R'].eq(888),1, 0)"
   ]
  },
  {
   "cell_type": "code",
   "execution_count": null,
   "metadata": {},
   "outputs": [],
   "source": []
  },
  {
   "cell_type": "code",
   "execution_count": 51,
   "metadata": {},
   "outputs": [
    {
     "data": {
      "text/plain": [
       "0    53250\n",
       "1    32554\n",
       "Name: first_birth, dtype: int64"
      ]
     },
     "execution_count": 51,
     "metadata": {},
     "output_type": "execute_result"
    }
   ],
   "source": [
    "df['first_birth'].value_counts()"
   ]
  },
  {
   "cell_type": "code",
   "execution_count": 52,
   "metadata": {},
   "outputs": [
    {
     "data": {
      "text/plain": [
       "0    84686\n",
       "1     1118\n",
       "Name: plural_delivery, dtype: int64"
      ]
     },
     "execution_count": 52,
     "metadata": {},
     "output_type": "execute_result"
    }
   ],
   "source": [
    "df['plural_delivery'].value_counts()"
   ]
  },
  {
   "cell_type": "code",
   "execution_count": 53,
   "metadata": {},
   "outputs": [
    {
     "data": {
      "text/plain": [
       "2     35357\n",
       "3     26838\n",
       "4      7206\n",
       "1      5109\n",
       "5      3562\n",
       "0      2501\n",
       "6      2041\n",
       "7      1605\n",
       "8      1154\n",
       "9       419\n",
       "10       12\n",
       "Name: PRECARE, dtype: int64"
      ]
     },
     "execution_count": 53,
     "metadata": {},
     "output_type": "execute_result"
    }
   ],
   "source": [
    "df['PRECARE'] = np.where(df['PRECARE'].eq(99), 0, df['PRECARE'])\n",
    "df['PRECARE'].value_counts()"
   ]
  },
  {
   "cell_type": "code",
   "execution_count": 54,
   "metadata": {},
   "outputs": [],
   "source": [
    "df['PREVIS'] = np.where(df['PREVIS'].eq(99), 0, df['PREVIS'])"
   ]
  },
  {
   "cell_type": "code",
   "execution_count": 55,
   "metadata": {},
   "outputs": [
    {
     "data": {
      "text/plain": [
       "Yes        53013\n",
       "None       32698\n",
       "Unknown       93\n",
       "Name: PRIORLIVE_cat, dtype: int64"
      ]
     },
     "execution_count": 55,
     "metadata": {},
     "output_type": "execute_result"
    }
   ],
   "source": [
    "df['PRIORLIVE_cat'].value_counts()"
   ]
  },
  {
   "cell_type": "code",
   "execution_count": 56,
   "metadata": {},
   "outputs": [
    {
     "data": {
      "text/plain": [
       "130    3563\n",
       "140    3211\n",
       "150    3180\n",
       "135    2764\n",
       "120    2682\n",
       "       ... \n",
       "349       1\n",
       "78        1\n",
       "369       1\n",
       "373       1\n",
       "367       1\n",
       "Name: PWgt_R, Length: 298, dtype: int64"
      ]
     },
     "execution_count": 56,
     "metadata": {},
     "output_type": "execute_result"
    }
   ],
   "source": [
    "df['PWgt_R'].value_counts()"
   ]
  },
  {
   "cell_type": "code",
   "execution_count": 57,
   "metadata": {},
   "outputs": [
    {
     "data": {
      "text/plain": [
       "30    4229\n",
       "20    3127\n",
       "25    2987\n",
       "35    2784\n",
       "40    2612\n",
       "32    2381\n",
       "28    2340\n",
       "33    2326\n",
       "0     2307\n",
       "27    2284\n",
       "31    2221\n",
       "23    2211\n",
       "24    2195\n",
       "22    2182\n",
       "26    2172\n",
       "29    2102\n",
       "34    2099\n",
       "36    1908\n",
       "21    1822\n",
       "37    1717\n",
       "15    1706\n",
       "38    1693\n",
       "18    1580\n",
       "19    1489\n",
       "39    1484\n",
       "45    1473\n",
       "17    1419\n",
       "16    1334\n",
       "42    1312\n",
       "41    1292\n",
       "10    1235\n",
       "14    1172\n",
       "43    1157\n",
       "50    1116\n",
       "44    1097\n",
       "13    1076\n",
       "12    1036\n",
       "46     921\n",
       "11     906\n",
       "47     809\n",
       "48     794\n",
       "49     672\n",
       "8      669\n",
       "9      665\n",
       "55     589\n",
       "6      567\n",
       "5      561\n",
       "7      544\n",
       "52     523\n",
       "51     512\n",
       "53     454\n",
       "4      449\n",
       "54     439\n",
       "60     428\n",
       "2      383\n",
       "3      382\n",
       "56     339\n",
       "1      329\n",
       "57     310\n",
       "58     307\n",
       "59     225\n",
       "65     224\n",
       "62     218\n",
       "61     181\n",
       "70     173\n",
       "63     147\n",
       "64     144\n",
       "98     125\n",
       "66     112\n",
       "67     110\n",
       "68     103\n",
       "75      81\n",
       "69      80\n",
       "71      62\n",
       "72      60\n",
       "80      59\n",
       "73      58\n",
       "76      42\n",
       "74      42\n",
       "78      37\n",
       "77      34\n",
       "83      26\n",
       "81      25\n",
       "85      25\n",
       "82      21\n",
       "79      21\n",
       "90      20\n",
       "88      18\n",
       "86      16\n",
       "95      15\n",
       "84      14\n",
       "87      11\n",
       "91      10\n",
       "89       9\n",
       "92       7\n",
       "96       7\n",
       "93       6\n",
       "94       5\n",
       "97       2\n",
       "Name: WTGAIN, dtype: int64"
      ]
     },
     "execution_count": 57,
     "metadata": {},
     "output_type": "execute_result"
    }
   ],
   "source": [
    "df['WTGAIN'].value_counts()"
   ]
  },
  {
   "cell_type": "code",
   "execution_count": 83,
   "metadata": {},
   "outputs": [],
   "source": [
    "df['MAGER^2'] = df['MAGER'] ** 2"
   ]
  },
  {
   "cell_type": "code",
   "execution_count": 189,
   "metadata": {},
   "outputs": [],
   "source": [
    "df['35AGE_older'] = np.where(df['MAGER'].gt(34), 1, 0)"
   ]
  },
  {
   "cell_type": "code",
   "execution_count": 392,
   "metadata": {},
   "outputs": [
    {
     "data": {
      "text/plain": [
       "<seaborn.axisgrid.JointGrid at 0x2056f608>"
      ]
     },
     "execution_count": 392,
     "metadata": {},
     "output_type": "execute_result"
    },
    {
     "data": {
      "image/png": "[encoded data removed]",
      "text/plain": [
       "<Figure size 432x432 with 3 Axes>"
      ]
     },
     "metadata": {
      "needs_background": "light"
     },
     "output_type": "display_data"
    }
   ],
   "source": [
    "sns.jointplot(x='PRECARE', y='DBWT', data=df,kind='reg')"
   ]
  },
  {
   "cell_type": "code",
   "execution_count": 422,
   "metadata": {},
   "outputs": [],
   "source": [
    "X = df[['ATTEND','BFACIL', 'BMI','smoked', 'DOB_MM', 'DMAR','FAGECOMB','FHISPX','FEDUC', 'FRACE6', 'first_birth', 'plural_delivery', 'first_pregnancy', 'plural_delivery', 'first_natal',\n",
    "        'IP_GON', 'LD_INDL', 'MAGER', '35AGE_older','MAR_IMP', 'MBSTATE_REC', 'MEDUC', 'MHISPX', 'MRAVE6', 'MTRAN',\n",
    "        'NO_INFEC','NO_MMORB','NO_RISKS','PAY', 'PAY_REC','PRECARE','PREVIS', 'PRIORDEAD_cat', 'PRIORLIVE_cat', 'PRIORTERM_cat', 'PWgt_R', 'BMI_log','M_Ht_In',\n",
    "        'RDMETH_REC', 'RESTATUS', 'RF_CESAR', 'SEX', 'WTGAIN'\n",
    "]]\n",
    "_X = pd.get_dummies(X, columns=['ATTEND', 'BFACIL','smoked', 'DOB_MM','DMAR','FHISPX','FEDUC','FRACE6', 'plural_delivery',\n",
    "                                'IP_GON','LD_INDL', '35AGE_older','MAR_IMP', 'MBSTATE_REC', 'MEDUC', 'MHISPX', 'MRAVE6', 'MTRAN',\n",
    "                                'NO_INFEC','NO_MMORB','NO_RISKS', 'PAY', 'PAY_REC','PRIORDEAD_cat', 'PRIORLIVE_cat','PRIORTERM_cat',\n",
    "                                'RDMETH_REC', 'RESTATUS', 'RF_CESAR', 'SEX'])\n",
    "y = df['DBWT']"
   ]
  },
  {
   "cell_type": "code",
   "execution_count": 222,
   "metadata": {},
   "outputs": [],
   "source": [
    "# _X['DBWT'] = y"
   ]
  },
  {
   "cell_type": "code",
   "execution_count": 223,
   "metadata": {},
   "outputs": [
    {
     "data": {
      "text/plain": [
       "DummyRegressor(constant=None, quantile=None, strategy='median')"
      ]
     },
     "execution_count": 223,
     "metadata": {},
     "output_type": "execute_result"
    }
   ],
   "source": [
    "from sklearn.dummy import DummyRegressor\n",
    "dummy_regr = DummyRegressor(strategy='median')\n",
    "dummy_regr.fit(_X,y)\n"
   ]
  },
  {
   "cell_type": "code",
   "execution_count": 224,
   "metadata": {},
   "outputs": [],
   "source": [
    "_dummy_y = dummy_regr.predict(X)"
   ]
  },
  {
   "cell_type": "code",
   "execution_count": 225,
   "metadata": {},
   "outputs": [
    {
     "data": {
      "text/plain": [
       "579.0395785602474"
      ]
     },
     "execution_count": 225,
     "metadata": {},
     "output_type": "execute_result"
    }
   ],
   "source": [
    "np.sqrt(metrics.mean_squared_error(y, _dummy_y))"
   ]
  },
  {
   "cell_type": "code",
   "execution_count": 226,
   "metadata": {},
   "outputs": [
    {
     "data": {
      "text/plain": [
       "64    12832\n",
       "63    11210\n",
       "62    10909\n",
       "65    10249\n",
       "66     9432\n",
       "67     7645\n",
       "61     6139\n",
       "60     4604\n",
       "68     4235\n",
       "69     2783\n",
       "59     1902\n",
       "70     1389\n",
       "71      726\n",
       "58      454\n",
       "57      394\n",
       "72      361\n",
       "56      157\n",
       "73       88\n",
       "74       69\n",
       "55       61\n",
       "54       38\n",
       "78       21\n",
       "53       21\n",
       "48       16\n",
       "75       14\n",
       "50       11\n",
       "49       10\n",
       "52       10\n",
       "76        9\n",
       "77        8\n",
       "51        6\n",
       "46        1\n",
       "Name: M_Ht_In, dtype: int64"
      ]
     },
     "execution_count": 226,
     "metadata": {},
     "output_type": "execute_result"
    }
   ],
   "source": [
    "df['M_Ht_In'].value_counts()"
   ]
  },
  {
   "cell_type": "code",
   "execution_count": 227,
   "metadata": {},
   "outputs": [
    {
     "data": {
      "text/plain": [
       "None       79566\n",
       "Daily       5986\n",
       "Unknown      252\n",
       "Name: smoked, dtype: int64"
      ]
     },
     "execution_count": 227,
     "metadata": {},
     "output_type": "execute_result"
    }
   ],
   "source": [
    "df['smoked'].value_counts()"
   ]
  },
  {
   "cell_type": "code",
   "execution_count": 371,
   "metadata": {},
   "outputs": [
    {
     "data": {
      "text/plain": [
       "['BMI',\n",
       " 'FAGECOMB',\n",
       " 'first_birth',\n",
       " 'first_pregnancy',\n",
       " 'first_natal',\n",
       " 'MAGER',\n",
       " 'PRECARE',\n",
       " 'PREVIS',\n",
       " 'PWgt_R',\n",
       " 'BMI_log',\n",
       " 'M_Ht_In',\n",
       " 'WTGAIN',\n",
       " 'ATTEND_1',\n",
       " 'ATTEND_2',\n",
       " 'ATTEND_3',\n",
       " 'ATTEND_4',\n",
       " 'ATTEND_5',\n",
       " 'ATTEND_9',\n",
       " 'BFACIL_1',\n",
       " 'BFACIL_2',\n",
       " 'BFACIL_3',\n",
       " 'BFACIL_4',\n",
       " 'BFACIL_5',\n",
       " 'BFACIL_6',\n",
       " 'BFACIL_7',\n",
       " 'BFACIL_9',\n",
       " 'smoked_Daily',\n",
       " 'smoked_None',\n",
       " 'smoked_Unknown',\n",
       " 'DOB_MM_1',\n",
       " 'DOB_MM_2',\n",
       " 'DOB_MM_3',\n",
       " 'DOB_MM_4',\n",
       " 'DOB_MM_5',\n",
       " 'DOB_MM_6',\n",
       " 'DOB_MM_7',\n",
       " 'DOB_MM_8',\n",
       " 'DOB_MM_9',\n",
       " 'DOB_MM_10',\n",
       " 'DOB_MM_11',\n",
       " 'DOB_MM_12',\n",
       " 'DMAR_ ',\n",
       " 'DMAR_1',\n",
       " 'DMAR_2',\n",
       " 'FHISPX_0',\n",
       " 'FHISPX_1',\n",
       " 'FHISPX_2',\n",
       " 'FHISPX_3',\n",
       " 'FHISPX_4',\n",
       " 'FHISPX_5',\n",
       " 'FHISPX_6',\n",
       " 'FHISPX_9',\n",
       " 'FEDUC_1',\n",
       " 'FEDUC_2',\n",
       " 'FEDUC_3',\n",
       " 'FEDUC_4',\n",
       " 'FEDUC_5',\n",
       " 'FEDUC_6',\n",
       " 'FEDUC_7',\n",
       " 'FEDUC_8',\n",
       " 'FEDUC_9',\n",
       " 'FRACE6_1',\n",
       " 'FRACE6_2',\n",
       " 'FRACE6_3',\n",
       " 'FRACE6_4',\n",
       " 'FRACE6_5',\n",
       " 'FRACE6_6',\n",
       " 'FRACE6_9',\n",
       " 'plural_delivery_0',\n",
       " 'plural_delivery_1',\n",
       " 'plural_delivery_0',\n",
       " 'plural_delivery_1',\n",
       " 'IP_GON_N',\n",
       " 'IP_GON_U',\n",
       " 'IP_GON_Y',\n",
       " 'LD_INDL_N',\n",
       " 'LD_INDL_U',\n",
       " 'LD_INDL_Y',\n",
       " '35AGE_older_0',\n",
       " '35AGE_older_1',\n",
       " 'MAR_IMP_ ',\n",
       " 'MAR_IMP_1',\n",
       " 'MBSTATE_REC_1',\n",
       " 'MBSTATE_REC_2',\n",
       " 'MBSTATE_REC_3',\n",
       " 'MEDUC_1',\n",
       " 'MEDUC_2',\n",
       " 'MEDUC_3',\n",
       " 'MEDUC_4',\n",
       " 'MEDUC_5',\n",
       " 'MEDUC_6',\n",
       " 'MEDUC_7',\n",
       " 'MEDUC_8',\n",
       " 'MEDUC_9',\n",
       " 'MHISPX_0',\n",
       " 'MHISPX_1',\n",
       " 'MHISPX_2',\n",
       " 'MHISPX_3',\n",
       " 'MHISPX_4',\n",
       " 'MHISPX_5',\n",
       " 'MHISPX_6',\n",
       " 'MHISPX_9',\n",
       " 'MRAVE6_1',\n",
       " 'MRAVE6_2',\n",
       " 'MRAVE6_3',\n",
       " 'MRAVE6_4',\n",
       " 'MRAVE6_5',\n",
       " 'MRAVE6_6',\n",
       " 'MTRAN_N',\n",
       " 'MTRAN_U',\n",
       " 'MTRAN_Y',\n",
       " 'NO_INFEC_0',\n",
       " 'NO_INFEC_1',\n",
       " 'NO_INFEC_9',\n",
       " 'NO_MMORB_0',\n",
       " 'NO_MMORB_1',\n",
       " 'NO_MMORB_9',\n",
       " 'NO_RISKS_0',\n",
       " 'NO_RISKS_1',\n",
       " 'NO_RISKS_9',\n",
       " 'PAY_1',\n",
       " 'PAY_2',\n",
       " 'PAY_3',\n",
       " 'PAY_4',\n",
       " 'PAY_5',\n",
       " 'PAY_6',\n",
       " 'PAY_8',\n",
       " 'PAY_9',\n",
       " 'PAY_REC_1',\n",
       " 'PAY_REC_2',\n",
       " 'PAY_REC_3',\n",
       " 'PAY_REC_4',\n",
       " 'PAY_REC_9',\n",
       " 'PRIORDEAD_cat_None',\n",
       " 'PRIORDEAD_cat_Unknown',\n",
       " 'PRIORDEAD_cat_Yes',\n",
       " 'PRIORLIVE_cat_None',\n",
       " 'PRIORLIVE_cat_Unknown',\n",
       " 'PRIORLIVE_cat_Yes',\n",
       " 'PRIORTERM_cat_None',\n",
       " 'PRIORTERM_cat_Unknown',\n",
       " 'PRIORTERM_cat_Yes',\n",
       " 'RDMETH_REC_1',\n",
       " 'RDMETH_REC_2',\n",
       " 'RDMETH_REC_3',\n",
       " 'RDMETH_REC_4',\n",
       " 'RDMETH_REC_5',\n",
       " 'RDMETH_REC_6',\n",
       " 'RDMETH_REC_9',\n",
       " 'RESTATUS_1',\n",
       " 'RESTATUS_2',\n",
       " 'RESTATUS_3',\n",
       " 'RESTATUS_4',\n",
       " 'RF_CESAR_N',\n",
       " 'RF_CESAR_U',\n",
       " 'RF_CESAR_Y',\n",
       " 'SEX_F',\n",
       " 'SEX_M',\n",
       " 'DBWT']"
      ]
     },
     "execution_count": 371,
     "metadata": {},
     "output_type": "execute_result"
    }
   ],
   "source": [
    "list(_X.columns)"
   ]
  },
  {
   "cell_type": "code",
   "execution_count": 395,
   "metadata": {},
   "outputs": [
    {
     "data": {
      "text/plain": [
       "2     35357\n",
       "3     26838\n",
       "4      7206\n",
       "1      5109\n",
       "5      3562\n",
       "0      2501\n",
       "6      2041\n",
       "7      1605\n",
       "8      1154\n",
       "9       419\n",
       "10       12\n",
       "Name: PRECARE, dtype: int64"
      ]
     },
     "execution_count": 395,
     "metadata": {},
     "output_type": "execute_result"
    }
   ],
   "source": [
    "df['PRECARE'].value_counts()"
   ]
  },
  {
   "cell_type": "code",
   "execution_count": null,
   "metadata": {},
   "outputs": [],
   "source": []
  },
  {
   "cell_type": "code",
   "execution_count": 412,
   "metadata": {},
   "outputs": [
    {
     "data": {
      "text/plain": [
       "0     79566\n",
       "20     1731\n",
       "10     1631\n",
       "5       604\n",
       "3       286\n",
       "99      252\n",
       "2       250\n",
       "1       213\n",
       "4       205\n",
       "6       188\n",
       "40      183\n",
       "15      159\n",
       "7       127\n",
       "8       105\n",
       "30      100\n",
       "12       47\n",
       "9        27\n",
       "60       22\n",
       "25       19\n",
       "98       18\n",
       "80       14\n",
       "11       11\n",
       "18        6\n",
       "16        6\n",
       "21        5\n",
       "50        5\n",
       "24        5\n",
       "13        3\n",
       "14        3\n",
       "35        2\n",
       "36        2\n",
       "19        2\n",
       "23        1\n",
       "88        1\n",
       "90        1\n",
       "27        1\n",
       "22        1\n",
       "42        1\n",
       "48        1\n",
       "Name: CIG_0, dtype: int64"
      ]
     },
     "execution_count": 412,
     "metadata": {},
     "output_type": "execute_result"
    }
   ],
   "source": []
  },
  {
   "cell_type": "code",
   "execution_count": 438,
   "metadata": {},
   "outputs": [
    {
     "data": {
      "text/plain": [
       "<seaborn.axisgrid.JointGrid at 0x236e9888>"
      ]
     },
     "execution_count": 438,
     "metadata": {},
     "output_type": "execute_result"
    },
    {
     "data": {
      "image/png": "[encoded data removed]",
      "text/plain": [
       "<Figure size 432x432 with 3 Axes>"
      ]
     },
     "metadata": {
      "needs_background": "light"
     },
     "output_type": "display_data"
    }
   ],
   "source": [
    "sns.jointplot(x='MAGER',y='DBWT', data=df,kind='reg')"
   ]
  },
  {
   "cell_type": "code",
   "execution_count": 435,
   "metadata": {},
   "outputs": [],
   "source": [
    "df['DBWT_sqrt'] = np.sqrt(df['DBWT'])"
   ]
  },
  {
   "cell_type": "code",
   "execution_count": 446,
   "metadata": {},
   "outputs": [],
   "source": [
    "df['MAGER_smoked'] = df['MAGER'] * df['smoked']"
   ]
  },
  {
   "cell_type": "code",
   "execution_count": 447,
   "metadata": {},
   "outputs": [],
   "source": [
    "X = df[['ATTEND','BFACIL', 'BMI','smoked', 'DOB_MM', 'DMAR','FAGECOMB','FHISPX','FEDUC', 'FRACE6', 'first_birth', 'plural_delivery', 'first_pregnancy', 'plural_delivery', 'first_natal',\n",
    "        'IP_GON', 'LD_INDL', 'MAGER', '35AGE_older','MAR_IMP', 'MBSTATE_REC', 'MEDUC', 'MHISPX', 'MRAVE6', 'MTRAN', 'MAGER_smoked',\n",
    "        'NO_INFEC','NO_MMORB','NO_RISKS','PAY', 'PAY_REC','PRECARE','PREVIS', 'PRIORDEAD_cat', 'PRIORLIVE_cat', 'PRIORTERM_cat', 'PWgt_R', 'BMI_log','M_Ht_In',\n",
    "        'RDMETH_REC', 'RESTATUS', 'RF_CESAR', 'SEX', 'WTGAIN'\n",
    "]]\n",
    "_X = pd.get_dummies(X, columns=['ATTEND', 'BFACIL','smoked', 'DOB_MM','DMAR','FHISPX','FEDUC','FRACE6', 'plural_delivery',\n",
    "                                'IP_GON','LD_INDL', '35AGE_older','MAR_IMP', 'MBSTATE_REC', 'MEDUC', 'MHISPX', 'MRAVE6', 'MTRAN',\n",
    "                                'NO_INFEC','NO_MMORB','NO_RISKS', 'PAY', 'PAY_REC','PRIORDEAD_cat', 'PRIORLIVE_cat','PRIORTERM_cat',\n",
    "                                'RDMETH_REC', 'RESTATUS', 'RF_CESAR', 'SEX'])\n",
    "y = df['DBWT']"
   ]
  },
  {
   "cell_type": "code",
   "execution_count": 426,
   "metadata": {},
   "outputs": [
    {
     "data": {
      "text/plain": [
       "0      84686\n",
       "Yes     1118\n",
       "Name: plural_delivery, dtype: int64"
      ]
     },
     "execution_count": 426,
     "metadata": {},
     "output_type": "execute_result"
    }
   ],
   "source": [
    "df['plural_delivery'].value_counts()"
   ]
  },
  {
   "cell_type": "code",
   "execution_count": 452,
   "metadata": {},
   "outputs": [
    {
     "data": {
      "text/html": [
       "<table class=\"simpletable\">\n",
       "<caption>OLS Regression Results</caption>\n",
       "<tr>\n",
       "  <th>Dep. Variable:</th>          <td>DBWT</td>       <th>  R-squared:         </th>  <td>   0.191</td>  \n",
       "</tr>\n",
       "<tr>\n",
       "  <th>Model:</th>                   <td>OLS</td>       <th>  Adj. R-squared:    </th>  <td>   0.190</td>  \n",
       "</tr>\n",
       "<tr>\n",
       "  <th>Method:</th>             <td>Least Squares</td>  <th>  F-statistic:       </th>  <td>   163.4</td>  \n",
       "</tr>\n",
       "<tr>\n",
       "  <th>Date:</th>             <td>Wed, 29 Jul 2020</td> <th>  Prob (F-statistic):</th>   <td>  0.00</td>   \n",
       "</tr>\n",
       "<tr>\n",
       "  <th>Time:</th>                 <td>16:43:45</td>     <th>  Log-Likelihood:    </th> <td>-6.5832e+05</td>\n",
       "</tr>\n",
       "<tr>\n",
       "  <th>No. Observations:</th>      <td> 85804</td>      <th>  AIC:               </th>  <td>1.317e+06</td> \n",
       "</tr>\n",
       "<tr>\n",
       "  <th>Df Residuals:</th>          <td> 85679</td>      <th>  BIC:               </th>  <td>1.318e+06</td> \n",
       "</tr>\n",
       "<tr>\n",
       "  <th>Df Model:</th>              <td>   124</td>      <th>                     </th>      <td> </td>     \n",
       "</tr>\n",
       "<tr>\n",
       "  <th>Covariance Type:</th>      <td>nonrobust</td>    <th>                     </th>      <td> </td>     \n",
       "</tr>\n",
       "</table>\n",
       "<table class=\"simpletable\">\n",
       "<tr>\n",
       "                                                                                                                                                                <td></td>                                                                                                                                                                   <th>coef</th>     <th>std err</th>      <th>t</th>      <th>P>|t|</th>  <th>[0.025</th>    <th>0.975]</th>  \n",
       "</tr>\n",
       "<tr>\n",
       "  <th>Intercept</th>                                                                                                                                                                                                                                                                                                                     <td>-1712.9008</td> <td>  523.083</td> <td>   -3.275</td> <td> 0.001</td> <td>-2738.139</td> <td> -687.662</td>\n",
       "</tr>\n",
       "<tr>\n",
       "  <th>MAGER_smoked[T.DailyDailyDailyDailyDailyDailyDailyDailyDailyDailyDailyDailyDailyDailyDailyDaily]</th>                                                                                                                                                                                                                              <td>  806.6924</td> <td>  551.795</td> <td>    1.462</td> <td> 0.144</td> <td> -274.822</td> <td> 1888.207</td>\n",
       "</tr>\n",
       "<tr>\n",
       "  <th>MAGER_smoked[T.DailyDailyDailyDailyDailyDailyDailyDailyDailyDailyDailyDailyDailyDailyDailyDailyDaily]</th>                                                                                                                                                                                                                         <td>  632.9632</td> <td>  528.054</td> <td>    1.199</td> <td> 0.231</td> <td> -402.019</td> <td> 1667.945</td>\n",
       "</tr>\n",
       "<tr>\n",
       "  <th>MAGER_smoked[T.DailyDailyDailyDailyDailyDailyDailyDailyDailyDailyDailyDailyDailyDailyDailyDailyDailyDaily]</th>                                                                                                                                                                                                                    <td>  480.5941</td> <td>  523.198</td> <td>    0.919</td> <td> 0.358</td> <td> -544.870</td> <td> 1506.058</td>\n",
       "</tr>\n",
       "<tr>\n",
       "  <th>MAGER_smoked[T.DailyDailyDailyDailyDailyDailyDailyDailyDailyDailyDailyDailyDailyDailyDailyDailyDailyDailyDaily]</th>                                                                                                                                                                                                               <td>  514.1049</td> <td>  521.504</td> <td>    0.986</td> <td> 0.324</td> <td> -508.039</td> <td> 1536.249</td>\n",
       "</tr>\n",
       "<tr>\n",
       "  <th>MAGER_smoked[T.DailyDailyDailyDailyDailyDailyDailyDailyDailyDailyDailyDailyDailyDailyDailyDailyDailyDailyDailyDaily]</th>                                                                                                                                                                                                          <td>  525.4830</td> <td>  521.213</td> <td>    1.008</td> <td> 0.313</td> <td> -496.090</td> <td> 1547.056</td>\n",
       "</tr>\n",
       "<tr>\n",
       "  <th>MAGER_smoked[T.DailyDailyDailyDailyDailyDailyDailyDailyDailyDailyDailyDailyDailyDailyDailyDailyDailyDailyDailyDailyDaily]</th>                                                                                                                                                                                                     <td>  559.9285</td> <td>  521.212</td> <td>    1.074</td> <td> 0.283</td> <td> -461.644</td> <td> 1581.501</td>\n",
       "</tr>\n",
       "<tr>\n",
       "  <th>MAGER_smoked[T.DailyDailyDailyDailyDailyDailyDailyDailyDailyDailyDailyDailyDailyDailyDailyDailyDailyDailyDailyDailyDailyDaily]</th>                                                                                                                                                                                                <td>  594.6746</td> <td>  521.018</td> <td>    1.141</td> <td> 0.254</td> <td> -426.517</td> <td> 1615.866</td>\n",
       "</tr>\n",
       "<tr>\n",
       "  <th>MAGER_smoked[T.DailyDailyDailyDailyDailyDailyDailyDailyDailyDailyDailyDailyDailyDailyDailyDailyDailyDailyDailyDailyDailyDailyDaily]</th>                                                                                                                                                                                           <td>  559.9730</td> <td>  520.957</td> <td>    1.075</td> <td> 0.282</td> <td> -461.099</td> <td> 1581.045</td>\n",
       "</tr>\n",
       "<tr>\n",
       "  <th>MAGER_smoked[T.DailyDailyDailyDailyDailyDailyDailyDailyDailyDailyDailyDailyDailyDailyDailyDailyDailyDailyDailyDailyDailyDailyDailyDaily]</th>                                                                                                                                                                                      <td>  533.3314</td> <td>  520.911</td> <td>    1.024</td> <td> 0.306</td> <td> -487.650</td> <td> 1554.313</td>\n",
       "</tr>\n",
       "<tr>\n",
       "  <th>MAGER_smoked[T.DailyDailyDailyDailyDailyDailyDailyDailyDailyDailyDailyDailyDailyDailyDailyDailyDailyDailyDailyDailyDailyDailyDailyDailyDaily]</th>                                                                                                                                                                                 <td>  541.6870</td> <td>  520.870</td> <td>    1.040</td> <td> 0.298</td> <td> -479.213</td> <td> 1562.587</td>\n",
       "</tr>\n",
       "<tr>\n",
       "  <th>MAGER_smoked[T.DailyDailyDailyDailyDailyDailyDailyDailyDailyDailyDailyDailyDailyDailyDailyDailyDailyDailyDailyDailyDailyDailyDailyDailyDailyDaily]</th>                                                                                                                                                                            <td>  557.3647</td> <td>  520.891</td> <td>    1.070</td> <td> 0.285</td> <td> -463.577</td> <td> 1578.306</td>\n",
       "</tr>\n",
       "<tr>\n",
       "  <th>MAGER_smoked[T.DailyDailyDailyDailyDailyDailyDailyDailyDailyDailyDailyDailyDailyDailyDailyDailyDailyDailyDailyDailyDailyDailyDailyDailyDailyDailyDaily]</th>                                                                                                                                                                       <td>  521.8735</td> <td>  520.827</td> <td>    1.002</td> <td> 0.316</td> <td> -498.943</td> <td> 1542.690</td>\n",
       "</tr>\n",
       "<tr>\n",
       "  <th>MAGER_smoked[T.DailyDailyDailyDailyDailyDailyDailyDailyDailyDailyDailyDailyDailyDailyDailyDailyDailyDailyDailyDailyDailyDailyDailyDailyDailyDailyDailyDaily]</th>                                                                                                                                                                  <td>  535.7111</td> <td>  520.845</td> <td>    1.029</td> <td> 0.304</td> <td> -485.140</td> <td> 1556.562</td>\n",
       "</tr>\n",
       "<tr>\n",
       "  <th>MAGER_smoked[T.DailyDailyDailyDailyDailyDailyDailyDailyDailyDailyDailyDailyDailyDailyDailyDailyDailyDailyDailyDailyDailyDailyDailyDailyDailyDailyDailyDailyDaily]</th>                                                                                                                                                             <td>  524.7252</td> <td>  520.964</td> <td>    1.007</td> <td> 0.314</td> <td> -496.360</td> <td> 1545.811</td>\n",
       "</tr>\n",
       "<tr>\n",
       "  <th>MAGER_smoked[T.DailyDailyDailyDailyDailyDailyDailyDailyDailyDailyDailyDailyDailyDailyDailyDailyDailyDailyDailyDailyDailyDailyDailyDailyDailyDailyDailyDailyDailyDaily]</th>                                                                                                                                                        <td>  543.4349</td> <td>  521.002</td> <td>    1.043</td> <td> 0.297</td> <td> -477.725</td> <td> 1564.595</td>\n",
       "</tr>\n",
       "<tr>\n",
       "  <th>MAGER_smoked[T.DailyDailyDailyDailyDailyDailyDailyDailyDailyDailyDailyDailyDailyDailyDailyDailyDailyDailyDailyDailyDailyDailyDailyDailyDailyDailyDailyDailyDailyDailyDaily]</th>                                                                                                                                                   <td>  510.9804</td> <td>  521.100</td> <td>    0.981</td> <td> 0.327</td> <td> -510.371</td> <td> 1532.332</td>\n",
       "</tr>\n",
       "<tr>\n",
       "  <th>MAGER_smoked[T.DailyDailyDailyDailyDailyDailyDailyDailyDailyDailyDailyDailyDailyDailyDailyDailyDailyDailyDailyDailyDailyDailyDailyDailyDailyDailyDailyDailyDailyDailyDailyDaily]</th>                                                                                                                                              <td>  478.3191</td> <td>  521.117</td> <td>    0.918</td> <td> 0.359</td> <td> -543.066</td> <td> 1499.705</td>\n",
       "</tr>\n",
       "<tr>\n",
       "  <th>MAGER_smoked[T.DailyDailyDailyDailyDailyDailyDailyDailyDailyDailyDailyDailyDailyDailyDailyDailyDailyDailyDailyDailyDailyDailyDailyDailyDailyDailyDailyDailyDailyDailyDailyDailyDaily]</th>                                                                                                                                         <td>  442.9996</td> <td>  521.399</td> <td>    0.850</td> <td> 0.396</td> <td> -578.937</td> <td> 1464.937</td>\n",
       "</tr>\n",
       "<tr>\n",
       "  <th>MAGER_smoked[T.DailyDailyDailyDailyDailyDailyDailyDailyDailyDailyDailyDailyDailyDailyDailyDailyDailyDailyDailyDailyDailyDailyDailyDailyDailyDailyDailyDailyDailyDailyDailyDailyDailyDaily]</th>                                                                                                                                    <td>  513.9122</td> <td>  521.452</td> <td>    0.986</td> <td> 0.324</td> <td> -508.128</td> <td> 1535.953</td>\n",
       "</tr>\n",
       "<tr>\n",
       "  <th>MAGER_smoked[T.DailyDailyDailyDailyDailyDailyDailyDailyDailyDailyDailyDailyDailyDailyDailyDailyDailyDailyDailyDailyDailyDailyDailyDailyDailyDailyDailyDailyDailyDailyDailyDailyDailyDailyDaily]</th>                                                                                                                               <td>  402.9928</td> <td>  521.894</td> <td>    0.772</td> <td> 0.440</td> <td> -619.916</td> <td> 1425.902</td>\n",
       "</tr>\n",
       "<tr>\n",
       "  <th>MAGER_smoked[T.DailyDailyDailyDailyDailyDailyDailyDailyDailyDailyDailyDailyDailyDailyDailyDailyDailyDailyDailyDailyDailyDailyDailyDailyDailyDailyDailyDailyDailyDailyDailyDailyDailyDailyDailyDaily]</th>                                                                                                                          <td>  541.4813</td> <td>  522.205</td> <td>    1.037</td> <td> 0.300</td> <td> -482.037</td> <td> 1564.999</td>\n",
       "</tr>\n",
       "<tr>\n",
       "  <th>MAGER_smoked[T.DailyDailyDailyDailyDailyDailyDailyDailyDailyDailyDailyDailyDailyDailyDailyDailyDailyDailyDailyDailyDailyDailyDailyDailyDailyDailyDailyDailyDailyDailyDailyDailyDailyDailyDailyDailyDaily]</th>                                                                                                                     <td>  449.7332</td> <td>  522.332</td> <td>    0.861</td> <td> 0.389</td> <td> -574.033</td> <td> 1473.499</td>\n",
       "</tr>\n",
       "<tr>\n",
       "  <th>MAGER_smoked[T.DailyDailyDailyDailyDailyDailyDailyDailyDailyDailyDailyDailyDailyDailyDailyDailyDailyDailyDailyDailyDailyDailyDailyDailyDailyDailyDailyDailyDailyDailyDailyDailyDailyDailyDailyDailyDailyDaily]</th>                                                                                                                <td>  420.3643</td> <td>  523.616</td> <td>    0.803</td> <td> 0.422</td> <td> -605.918</td> <td> 1446.646</td>\n",
       "</tr>\n",
       "<tr>\n",
       "  <th>MAGER_smoked[T.DailyDailyDailyDailyDailyDailyDailyDailyDailyDailyDailyDailyDailyDailyDailyDailyDailyDailyDailyDailyDailyDailyDailyDailyDailyDailyDailyDailyDailyDailyDailyDailyDailyDailyDailyDailyDailyDailyDaily]</th>                                                                                                           <td>  434.2635</td> <td>  523.848</td> <td>    0.829</td> <td> 0.407</td> <td> -592.475</td> <td> 1461.001</td>\n",
       "</tr>\n",
       "<tr>\n",
       "  <th>MAGER_smoked[T.DailyDailyDailyDailyDailyDailyDailyDailyDailyDailyDailyDailyDailyDailyDailyDailyDailyDailyDailyDailyDailyDailyDailyDailyDailyDailyDailyDailyDailyDailyDailyDailyDailyDailyDailyDailyDailyDailyDailyDaily]</th>                                                                                                      <td>  556.8621</td> <td>  526.254</td> <td>    1.058</td> <td> 0.290</td> <td> -474.592</td> <td> 1588.316</td>\n",
       "</tr>\n",
       "<tr>\n",
       "  <th>MAGER_smoked[T.DailyDailyDailyDailyDailyDailyDailyDailyDailyDailyDailyDailyDailyDailyDailyDailyDailyDailyDailyDailyDailyDailyDailyDailyDailyDailyDailyDailyDailyDailyDailyDailyDailyDailyDailyDailyDailyDailyDailyDailyDaily]</th>                                                                                                 <td>  334.3289</td> <td>  529.802</td> <td>    0.631</td> <td> 0.528</td> <td> -704.079</td> <td> 1372.737</td>\n",
       "</tr>\n",
       "<tr>\n",
       "  <th>MAGER_smoked[T.DailyDailyDailyDailyDailyDailyDailyDailyDailyDailyDailyDailyDailyDailyDailyDailyDailyDailyDailyDailyDailyDailyDailyDailyDailyDailyDailyDailyDailyDailyDailyDailyDailyDailyDailyDailyDailyDailyDailyDailyDailyDaily]</th>                                                                                            <td>  455.8726</td> <td>  535.328</td> <td>    0.852</td> <td> 0.394</td> <td> -593.365</td> <td> 1505.110</td>\n",
       "</tr>\n",
       "<tr>\n",
       "  <th>MAGER_smoked[T.DailyDailyDailyDailyDailyDailyDailyDailyDailyDailyDailyDailyDailyDailyDailyDailyDailyDailyDailyDailyDailyDailyDailyDailyDailyDailyDailyDailyDailyDailyDailyDailyDailyDailyDailyDailyDailyDailyDailyDailyDailyDailyDaily]</th>                                                                                       <td>  553.7716</td> <td>  551.804</td> <td>    1.004</td> <td> 0.316</td> <td> -527.760</td> <td> 1635.303</td>\n",
       "</tr>\n",
       "<tr>\n",
       "  <th>MAGER_smoked[T.DailyDailyDailyDailyDailyDailyDailyDailyDailyDailyDailyDailyDailyDailyDailyDailyDailyDailyDailyDailyDailyDailyDailyDailyDailyDailyDailyDailyDailyDailyDailyDailyDailyDailyDailyDailyDailyDailyDailyDailyDailyDailyDailyDaily]</th>                                                                                  <td>  785.9738</td> <td>  581.681</td> <td>    1.351</td> <td> 0.177</td> <td> -354.117</td> <td> 1926.064</td>\n",
       "</tr>\n",
       "<tr>\n",
       "  <th>MAGER_smoked[T.DailyDailyDailyDailyDailyDailyDailyDailyDailyDailyDailyDailyDailyDailyDailyDailyDailyDailyDailyDailyDailyDailyDailyDailyDailyDailyDailyDailyDailyDailyDailyDailyDailyDailyDailyDailyDailyDailyDailyDailyDailyDailyDailyDailyDaily]</th>                                                                             <td>  591.3466</td> <td>  600.748</td> <td>    0.984</td> <td> 0.325</td> <td> -586.114</td> <td> 1768.807</td>\n",
       "</tr>\n",
       "<tr>\n",
       "  <th>MAGER_smoked[T.DailyDailyDailyDailyDailyDailyDailyDailyDailyDailyDailyDailyDailyDailyDailyDailyDailyDailyDailyDailyDailyDailyDailyDailyDailyDailyDailyDailyDailyDailyDailyDailyDailyDailyDailyDailyDailyDailyDailyDailyDailyDailyDailyDailyDailyDaily]</th>                                                                        <td>  187.3660</td> <td>  735.723</td> <td>    0.255</td> <td> 0.799</td> <td>-1254.646</td> <td> 1629.377</td>\n",
       "</tr>\n",
       "<tr>\n",
       "  <th>MAGER_smoked[T.DailyDailyDailyDailyDailyDailyDailyDailyDailyDailyDailyDailyDailyDailyDailyDailyDailyDailyDailyDailyDailyDailyDailyDailyDailyDailyDailyDailyDailyDailyDailyDailyDailyDailyDailyDailyDailyDailyDailyDailyDailyDailyDailyDailyDailyDailyDailyDailyDaily]</th>                                                         <td>  -49.6156</td> <td>  735.809</td> <td>   -0.067</td> <td> 0.946</td> <td>-1491.796</td> <td> 1392.565</td>\n",
       "</tr>\n",
       "<tr>\n",
       "  <th>MAGER_smoked[T.NoneNoneNoneNoneNoneNoneNoneNoneNoneNoneNoneNoneNone]</th>                                                                                                                                                                                                                                                          <td> 6.137e+11</td> <td> 3.23e+12</td> <td>    0.190</td> <td> 0.850</td> <td>-5.73e+12</td> <td> 6.95e+12</td>\n",
       "</tr>\n",
       "<tr>\n",
       "  <th>MAGER_smoked[T.NoneNoneNoneNoneNoneNoneNoneNoneNoneNoneNoneNoneNoneNone]</th>                                                                                                                                                                                                                                                      <td> 6.137e+11</td> <td> 3.23e+12</td> <td>    0.190</td> <td> 0.850</td> <td>-5.73e+12</td> <td> 6.95e+12</td>\n",
       "</tr>\n",
       "<tr>\n",
       "  <th>MAGER_smoked[T.NoneNoneNoneNoneNoneNoneNoneNoneNoneNoneNoneNoneNoneNoneNone]</th>                                                                                                                                                                                                                                                  <td> 6.137e+11</td> <td> 3.23e+12</td> <td>    0.190</td> <td> 0.850</td> <td>-5.73e+12</td> <td> 6.95e+12</td>\n",
       "</tr>\n",
       "<tr>\n",
       "  <th>MAGER_smoked[T.NoneNoneNoneNoneNoneNoneNoneNoneNoneNoneNoneNoneNoneNoneNoneNone]</th>                                                                                                                                                                                                                                              <td> 6.137e+11</td> <td> 3.23e+12</td> <td>    0.190</td> <td> 0.850</td> <td>-5.73e+12</td> <td> 6.95e+12</td>\n",
       "</tr>\n",
       "<tr>\n",
       "  <th>MAGER_smoked[T.NoneNoneNoneNoneNoneNoneNoneNoneNoneNoneNoneNoneNoneNoneNoneNoneNone]</th>                                                                                                                                                                                                                                          <td> 6.137e+11</td> <td> 3.23e+12</td> <td>    0.190</td> <td> 0.850</td> <td>-5.73e+12</td> <td> 6.95e+12</td>\n",
       "</tr>\n",
       "<tr>\n",
       "  <th>MAGER_smoked[T.NoneNoneNoneNoneNoneNoneNoneNoneNoneNoneNoneNoneNoneNoneNoneNoneNoneNone]</th>                                                                                                                                                                                                                                      <td> 6.137e+11</td> <td> 3.23e+12</td> <td>    0.190</td> <td> 0.850</td> <td>-5.73e+12</td> <td> 6.95e+12</td>\n",
       "</tr>\n",
       "<tr>\n",
       "  <th>MAGER_smoked[T.NoneNoneNoneNoneNoneNoneNoneNoneNoneNoneNoneNoneNoneNoneNoneNoneNoneNoneNone]</th>                                                                                                                                                                                                                                  <td> 6.137e+11</td> <td> 3.23e+12</td> <td>    0.190</td> <td> 0.850</td> <td>-5.73e+12</td> <td> 6.95e+12</td>\n",
       "</tr>\n",
       "<tr>\n",
       "  <th>MAGER_smoked[T.NoneNoneNoneNoneNoneNoneNoneNoneNoneNoneNoneNoneNoneNoneNoneNoneNoneNoneNoneNone]</th>                                                                                                                                                                                                                              <td> 6.137e+11</td> <td> 3.23e+12</td> <td>    0.190</td> <td> 0.850</td> <td>-5.73e+12</td> <td> 6.95e+12</td>\n",
       "</tr>\n",
       "<tr>\n",
       "  <th>MAGER_smoked[T.NoneNoneNoneNoneNoneNoneNoneNoneNoneNoneNoneNoneNoneNoneNoneNoneNoneNoneNoneNoneNone]</th>                                                                                                                                                                                                                          <td> 6.137e+11</td> <td> 3.23e+12</td> <td>    0.190</td> <td> 0.850</td> <td>-5.73e+12</td> <td> 6.95e+12</td>\n",
       "</tr>\n",
       "<tr>\n",
       "  <th>MAGER_smoked[T.NoneNoneNoneNoneNoneNoneNoneNoneNoneNoneNoneNoneNoneNoneNoneNoneNoneNoneNoneNoneNoneNone]</th>                                                                                                                                                                                                                      <td> 6.137e+11</td> <td> 3.23e+12</td> <td>    0.190</td> <td> 0.850</td> <td>-5.73e+12</td> <td> 6.95e+12</td>\n",
       "</tr>\n",
       "<tr>\n",
       "  <th>MAGER_smoked[T.NoneNoneNoneNoneNoneNoneNoneNoneNoneNoneNoneNoneNoneNoneNoneNoneNoneNoneNoneNoneNoneNoneNone]</th>                                                                                                                                                                                                                  <td> 6.137e+11</td> <td> 3.23e+12</td> <td>    0.190</td> <td> 0.850</td> <td>-5.73e+12</td> <td> 6.95e+12</td>\n",
       "</tr>\n",
       "<tr>\n",
       "  <th>MAGER_smoked[T.NoneNoneNoneNoneNoneNoneNoneNoneNoneNoneNoneNoneNoneNoneNoneNoneNoneNoneNoneNoneNoneNoneNoneNone]</th>                                                                                                                                                                                                              <td> 6.137e+11</td> <td> 3.23e+12</td> <td>    0.190</td> <td> 0.850</td> <td>-5.73e+12</td> <td> 6.95e+12</td>\n",
       "</tr>\n",
       "<tr>\n",
       "  <th>MAGER_smoked[T.NoneNoneNoneNoneNoneNoneNoneNoneNoneNoneNoneNoneNoneNoneNoneNoneNoneNoneNoneNoneNoneNoneNoneNoneNone]</th>                                                                                                                                                                                                          <td> 6.137e+11</td> <td> 3.23e+12</td> <td>    0.190</td> <td> 0.850</td> <td>-5.73e+12</td> <td> 6.95e+12</td>\n",
       "</tr>\n",
       "<tr>\n",
       "  <th>MAGER_smoked[T.NoneNoneNoneNoneNoneNoneNoneNoneNoneNoneNoneNoneNoneNoneNoneNoneNoneNoneNoneNoneNoneNoneNoneNoneNoneNone]</th>                                                                                                                                                                                                      <td> 6.137e+11</td> <td> 3.23e+12</td> <td>    0.190</td> <td> 0.850</td> <td>-5.73e+12</td> <td> 6.95e+12</td>\n",
       "</tr>\n",
       "<tr>\n",
       "  <th>MAGER_smoked[T.NoneNoneNoneNoneNoneNoneNoneNoneNoneNoneNoneNoneNoneNoneNoneNoneNoneNoneNoneNoneNoneNoneNoneNoneNoneNoneNone]</th>                                                                                                                                                                                                  <td> 6.137e+11</td> <td> 3.23e+12</td> <td>    0.190</td> <td> 0.850</td> <td>-5.73e+12</td> <td> 6.95e+12</td>\n",
       "</tr>\n",
       "<tr>\n",
       "  <th>MAGER_smoked[T.NoneNoneNoneNoneNoneNoneNoneNoneNoneNoneNoneNoneNoneNoneNoneNoneNoneNoneNoneNoneNoneNoneNoneNoneNoneNoneNoneNone]</th>                                                                                                                                                                                              <td> 6.137e+11</td> <td> 3.23e+12</td> <td>    0.190</td> <td> 0.850</td> <td>-5.73e+12</td> <td> 6.95e+12</td>\n",
       "</tr>\n",
       "<tr>\n",
       "  <th>MAGER_smoked[T.NoneNoneNoneNoneNoneNoneNoneNoneNoneNoneNoneNoneNoneNoneNoneNoneNoneNoneNoneNoneNoneNoneNoneNoneNoneNoneNoneNoneNone]</th>                                                                                                                                                                                          <td> 6.137e+11</td> <td> 3.23e+12</td> <td>    0.190</td> <td> 0.850</td> <td>-5.73e+12</td> <td> 6.95e+12</td>\n",
       "</tr>\n",
       "<tr>\n",
       "  <th>MAGER_smoked[T.NoneNoneNoneNoneNoneNoneNoneNoneNoneNoneNoneNoneNoneNoneNoneNoneNoneNoneNoneNoneNoneNoneNoneNoneNoneNoneNoneNoneNoneNone]</th>                                                                                                                                                                                      <td> 6.137e+11</td> <td> 3.23e+12</td> <td>    0.190</td> <td> 0.850</td> <td>-5.73e+12</td> <td> 6.95e+12</td>\n",
       "</tr>\n",
       "<tr>\n",
       "  <th>MAGER_smoked[T.NoneNoneNoneNoneNoneNoneNoneNoneNoneNoneNoneNoneNoneNoneNoneNoneNoneNoneNoneNoneNoneNoneNoneNoneNoneNoneNoneNoneNoneNoneNone]</th>                                                                                                                                                                                  <td> 6.137e+11</td> <td> 3.23e+12</td> <td>    0.190</td> <td> 0.850</td> <td>-5.73e+12</td> <td> 6.95e+12</td>\n",
       "</tr>\n",
       "<tr>\n",
       "  <th>MAGER_smoked[T.NoneNoneNoneNoneNoneNoneNoneNoneNoneNoneNoneNoneNoneNoneNoneNoneNoneNoneNoneNoneNoneNoneNoneNoneNoneNoneNoneNoneNoneNoneNoneNone]</th>                                                                                                                                                                              <td> 6.137e+11</td> <td> 3.23e+12</td> <td>    0.190</td> <td> 0.850</td> <td>-5.73e+12</td> <td> 6.95e+12</td>\n",
       "</tr>\n",
       "<tr>\n",
       "  <th>MAGER_smoked[T.NoneNoneNoneNoneNoneNoneNoneNoneNoneNoneNoneNoneNoneNoneNoneNoneNoneNoneNoneNoneNoneNoneNoneNoneNoneNoneNoneNoneNoneNoneNoneNoneNone]</th>                                                                                                                                                                          <td> 6.137e+11</td> <td> 3.23e+12</td> <td>    0.190</td> <td> 0.850</td> <td>-5.73e+12</td> <td> 6.95e+12</td>\n",
       "</tr>\n",
       "<tr>\n",
       "  <th>MAGER_smoked[T.NoneNoneNoneNoneNoneNoneNoneNoneNoneNoneNoneNoneNoneNoneNoneNoneNoneNoneNoneNoneNoneNoneNoneNoneNoneNoneNoneNoneNoneNoneNoneNoneNoneNone]</th>                                                                                                                                                                      <td> 6.137e+11</td> <td> 3.23e+12</td> <td>    0.190</td> <td> 0.850</td> <td>-5.73e+12</td> <td> 6.95e+12</td>\n",
       "</tr>\n",
       "<tr>\n",
       "  <th>MAGER_smoked[T.NoneNoneNoneNoneNoneNoneNoneNoneNoneNoneNoneNoneNoneNoneNoneNoneNoneNoneNoneNoneNoneNoneNoneNoneNoneNoneNoneNoneNoneNoneNoneNoneNoneNoneNone]</th>                                                                                                                                                                  <td> 6.137e+11</td> <td> 3.23e+12</td> <td>    0.190</td> <td> 0.850</td> <td>-5.73e+12</td> <td> 6.95e+12</td>\n",
       "</tr>\n",
       "<tr>\n",
       "  <th>MAGER_smoked[T.NoneNoneNoneNoneNoneNoneNoneNoneNoneNoneNoneNoneNoneNoneNoneNoneNoneNoneNoneNoneNoneNoneNoneNoneNoneNoneNoneNoneNoneNoneNoneNoneNoneNoneNoneNone]</th>                                                                                                                                                              <td> 6.137e+11</td> <td> 3.23e+12</td> <td>    0.190</td> <td> 0.850</td> <td>-5.73e+12</td> <td> 6.95e+12</td>\n",
       "</tr>\n",
       "<tr>\n",
       "  <th>MAGER_smoked[T.NoneNoneNoneNoneNoneNoneNoneNoneNoneNoneNoneNoneNoneNoneNoneNoneNoneNoneNoneNoneNoneNoneNoneNoneNoneNoneNoneNoneNoneNoneNoneNoneNoneNoneNoneNoneNone]</th>                                                                                                                                                          <td> 6.137e+11</td> <td> 3.23e+12</td> <td>    0.190</td> <td> 0.850</td> <td>-5.73e+12</td> <td> 6.95e+12</td>\n",
       "</tr>\n",
       "<tr>\n",
       "  <th>MAGER_smoked[T.NoneNoneNoneNoneNoneNoneNoneNoneNoneNoneNoneNoneNoneNoneNoneNoneNoneNoneNoneNoneNoneNoneNoneNoneNoneNoneNoneNoneNoneNoneNoneNoneNoneNoneNoneNoneNoneNone]</th>                                                                                                                                                      <td> 6.137e+11</td> <td> 3.23e+12</td> <td>    0.190</td> <td> 0.850</td> <td>-5.73e+12</td> <td> 6.95e+12</td>\n",
       "</tr>\n",
       "<tr>\n",
       "  <th>MAGER_smoked[T.NoneNoneNoneNoneNoneNoneNoneNoneNoneNoneNoneNoneNoneNoneNoneNoneNoneNoneNoneNoneNoneNoneNoneNoneNoneNoneNoneNoneNoneNoneNoneNoneNoneNoneNoneNoneNoneNoneNone]</th>                                                                                                                                                  <td> 6.137e+11</td> <td> 3.23e+12</td> <td>    0.190</td> <td> 0.850</td> <td>-5.73e+12</td> <td> 6.95e+12</td>\n",
       "</tr>\n",
       "<tr>\n",
       "  <th>MAGER_smoked[T.NoneNoneNoneNoneNoneNoneNoneNoneNoneNoneNoneNoneNoneNoneNoneNoneNoneNoneNoneNoneNoneNoneNoneNoneNoneNoneNoneNoneNoneNoneNoneNoneNoneNoneNoneNoneNoneNoneNoneNone]</th>                                                                                                                                              <td> 6.137e+11</td> <td> 3.23e+12</td> <td>    0.190</td> <td> 0.850</td> <td>-5.73e+12</td> <td> 6.95e+12</td>\n",
       "</tr>\n",
       "<tr>\n",
       "  <th>MAGER_smoked[T.NoneNoneNoneNoneNoneNoneNoneNoneNoneNoneNoneNoneNoneNoneNoneNoneNoneNoneNoneNoneNoneNoneNoneNoneNoneNoneNoneNoneNoneNoneNoneNoneNoneNoneNoneNoneNoneNoneNoneNoneNone]</th>                                                                                                                                          <td> 6.137e+11</td> <td> 3.23e+12</td> <td>    0.190</td> <td> 0.850</td> <td>-5.73e+12</td> <td> 6.95e+12</td>\n",
       "</tr>\n",
       "<tr>\n",
       "  <th>MAGER_smoked[T.NoneNoneNoneNoneNoneNoneNoneNoneNoneNoneNoneNoneNoneNoneNoneNoneNoneNoneNoneNoneNoneNoneNoneNoneNoneNoneNoneNoneNoneNoneNoneNoneNoneNoneNoneNoneNoneNoneNoneNoneNoneNone]</th>                                                                                                                                      <td> 6.137e+11</td> <td> 3.23e+12</td> <td>    0.190</td> <td> 0.850</td> <td>-5.73e+12</td> <td> 6.95e+12</td>\n",
       "</tr>\n",
       "<tr>\n",
       "  <th>MAGER_smoked[T.NoneNoneNoneNoneNoneNoneNoneNoneNoneNoneNoneNoneNoneNoneNoneNoneNoneNoneNoneNoneNoneNoneNoneNoneNoneNoneNoneNoneNoneNoneNoneNoneNoneNoneNoneNoneNoneNoneNoneNoneNoneNoneNone]</th>                                                                                                                                  <td> 6.137e+11</td> <td> 3.23e+12</td> <td>    0.190</td> <td> 0.850</td> <td>-5.73e+12</td> <td> 6.95e+12</td>\n",
       "</tr>\n",
       "<tr>\n",
       "  <th>MAGER_smoked[T.NoneNoneNoneNoneNoneNoneNoneNoneNoneNoneNoneNoneNoneNoneNoneNoneNoneNoneNoneNoneNoneNoneNoneNoneNoneNoneNoneNoneNoneNoneNoneNoneNoneNoneNoneNoneNoneNoneNoneNoneNoneNoneNoneNone]</th>                                                                                                                              <td> 6.137e+11</td> <td> 3.23e+12</td> <td>    0.190</td> <td> 0.850</td> <td>-5.73e+12</td> <td> 6.95e+12</td>\n",
       "</tr>\n",
       "<tr>\n",
       "  <th>MAGER_smoked[T.NoneNoneNoneNoneNoneNoneNoneNoneNoneNoneNoneNoneNoneNoneNoneNoneNoneNoneNoneNoneNoneNoneNoneNoneNoneNoneNoneNoneNoneNoneNoneNoneNoneNoneNoneNoneNoneNoneNoneNoneNoneNoneNoneNoneNone]</th>                                                                                                                          <td> 6.137e+11</td> <td> 3.23e+12</td> <td>    0.190</td> <td> 0.850</td> <td>-5.73e+12</td> <td> 6.95e+12</td>\n",
       "</tr>\n",
       "<tr>\n",
       "  <th>MAGER_smoked[T.NoneNoneNoneNoneNoneNoneNoneNoneNoneNoneNoneNoneNoneNoneNoneNoneNoneNoneNoneNoneNoneNoneNoneNoneNoneNoneNoneNoneNoneNoneNoneNoneNoneNoneNoneNoneNoneNoneNoneNoneNoneNoneNoneNoneNoneNone]</th>                                                                                                                      <td> 6.137e+11</td> <td> 3.23e+12</td> <td>    0.190</td> <td> 0.850</td> <td>-5.73e+12</td> <td> 6.95e+12</td>\n",
       "</tr>\n",
       "<tr>\n",
       "  <th>MAGER_smoked[T.NoneNoneNoneNoneNoneNoneNoneNoneNoneNoneNoneNoneNoneNoneNoneNoneNoneNoneNoneNoneNoneNoneNoneNoneNoneNoneNoneNoneNoneNoneNoneNoneNoneNoneNoneNoneNoneNoneNoneNoneNoneNoneNoneNoneNoneNoneNone]</th>                                                                                                                  <td> 6.137e+11</td> <td> 3.23e+12</td> <td>    0.190</td> <td> 0.850</td> <td>-5.73e+12</td> <td> 6.95e+12</td>\n",
       "</tr>\n",
       "<tr>\n",
       "  <th>MAGER_smoked[T.NoneNoneNoneNoneNoneNoneNoneNoneNoneNoneNoneNoneNoneNoneNoneNoneNoneNoneNoneNoneNoneNoneNoneNoneNoneNoneNoneNoneNoneNoneNoneNoneNoneNoneNoneNoneNoneNoneNoneNoneNoneNoneNoneNoneNoneNoneNoneNone]</th>                                                                                                              <td> 6.137e+11</td> <td> 3.23e+12</td> <td>    0.190</td> <td> 0.850</td> <td>-5.73e+12</td> <td> 6.95e+12</td>\n",
       "</tr>\n",
       "<tr>\n",
       "  <th>MAGER_smoked[T.NoneNoneNoneNoneNoneNoneNoneNoneNoneNoneNoneNoneNoneNoneNoneNoneNoneNoneNoneNoneNoneNoneNoneNoneNoneNoneNoneNoneNoneNoneNoneNoneNoneNoneNoneNoneNoneNoneNoneNoneNoneNoneNoneNoneNoneNoneNoneNoneNone]</th>                                                                                                          <td> 6.137e+11</td> <td> 3.23e+12</td> <td>    0.190</td> <td> 0.850</td> <td>-5.73e+12</td> <td> 6.95e+12</td>\n",
       "</tr>\n",
       "<tr>\n",
       "  <th>MAGER_smoked[T.NoneNoneNoneNoneNoneNoneNoneNoneNoneNoneNoneNoneNoneNoneNoneNoneNoneNoneNoneNoneNoneNoneNoneNoneNoneNoneNoneNoneNoneNoneNoneNoneNoneNoneNoneNoneNoneNoneNoneNoneNoneNoneNoneNoneNoneNoneNoneNoneNoneNone]</th>                                                                                                      <td> 6.137e+11</td> <td> 3.23e+12</td> <td>    0.190</td> <td> 0.850</td> <td>-5.73e+12</td> <td> 6.95e+12</td>\n",
       "</tr>\n",
       "<tr>\n",
       "  <th>MAGER_smoked[T.UnknownUnknownUnknownUnknownUnknownUnknownUnknownUnknownUnknownUnknownUnknownUnknownUnknownUnknownUnknown]</th>                                                                                                                                                                                                     <td> 1514.3432</td> <td>  735.736</td> <td>    2.058</td> <td> 0.040</td> <td>   72.308</td> <td> 2956.379</td>\n",
       "</tr>\n",
       "<tr>\n",
       "  <th>MAGER_smoked[T.UnknownUnknownUnknownUnknownUnknownUnknownUnknownUnknownUnknownUnknownUnknownUnknownUnknownUnknownUnknownUnknown]</th>                                                                                                                                                                                              <td>  272.0737</td> <td>  735.698</td> <td>    0.370</td> <td> 0.712</td> <td>-1169.888</td> <td> 1714.035</td>\n",
       "</tr>\n",
       "<tr>\n",
       "  <th>MAGER_smoked[T.UnknownUnknownUnknownUnknownUnknownUnknownUnknownUnknownUnknownUnknownUnknownUnknownUnknownUnknownUnknownUnknownUnknownUnknown]</th>                                                                                                                                                                                <td>  400.1834</td> <td>  561.934</td> <td>    0.712</td> <td> 0.476</td> <td> -701.202</td> <td> 1501.569</td>\n",
       "</tr>\n",
       "<tr>\n",
       "  <th>MAGER_smoked[T.UnknownUnknownUnknownUnknownUnknownUnknownUnknownUnknownUnknownUnknownUnknownUnknownUnknownUnknownUnknownUnknownUnknownUnknownUnknown]</th>                                                                                                                                                                         <td>  796.4565</td> <td>  581.627</td> <td>    1.369</td> <td> 0.171</td> <td> -343.527</td> <td> 1936.440</td>\n",
       "</tr>\n",
       "<tr>\n",
       "  <th>MAGER_smoked[T.UnknownUnknownUnknownUnknownUnknownUnknownUnknownUnknownUnknownUnknownUnknownUnknownUnknownUnknownUnknownUnknownUnknownUnknownUnknownUnknown]</th>                                                                                                                                                                  <td>  702.0271</td> <td>  543.350</td> <td>    1.292</td> <td> 0.196</td> <td> -362.935</td> <td> 1766.989</td>\n",
       "</tr>\n",
       "<tr>\n",
       "  <th>MAGER_smoked[T.UnknownUnknownUnknownUnknownUnknownUnknownUnknownUnknownUnknownUnknownUnknownUnknownUnknownUnknownUnknownUnknownUnknownUnknownUnknownUnknownUnknown]</th>                                                                                                                                                           <td>  630.8781</td> <td>  543.369</td> <td>    1.161</td> <td> 0.246</td> <td> -434.121</td> <td> 1695.877</td>\n",
       "</tr>\n",
       "<tr>\n",
       "  <th>MAGER_smoked[T.UnknownUnknownUnknownUnknownUnknownUnknownUnknownUnknownUnknownUnknownUnknownUnknownUnknownUnknownUnknownUnknownUnknownUnknownUnknownUnknownUnknownUnknown]</th>                                                                                                                                                    <td>  638.0154</td> <td>  556.166</td> <td>    1.147</td> <td> 0.251</td> <td> -452.065</td> <td> 1728.096</td>\n",
       "</tr>\n",
       "<tr>\n",
       "  <th>MAGER_smoked[T.UnknownUnknownUnknownUnknownUnknownUnknownUnknownUnknownUnknownUnknownUnknownUnknownUnknownUnknownUnknownUnknownUnknownUnknownUnknownUnknownUnknownUnknownUnknown]</th>                                                                                                                                             <td>  658.1555</td> <td>  556.151</td> <td>    1.183</td> <td> 0.237</td> <td> -431.896</td> <td> 1748.207</td>\n",
       "</tr>\n",
       "<tr>\n",
       "  <th>MAGER_smoked[T.UnknownUnknownUnknownUnknownUnknownUnknownUnknownUnknownUnknownUnknownUnknownUnknownUnknownUnknownUnknownUnknownUnknownUnknownUnknownUnknownUnknownUnknownUnknownUnknown]</th>                                                                                                                                      <td>  781.6654</td> <td>  533.748</td> <td>    1.464</td> <td> 0.143</td> <td> -264.476</td> <td> 1827.807</td>\n",
       "</tr>\n",
       "<tr>\n",
       "  <th>MAGER_smoked[T.UnknownUnknownUnknownUnknownUnknownUnknownUnknownUnknownUnknownUnknownUnknownUnknownUnknownUnknownUnknownUnknownUnknownUnknownUnknownUnknownUnknownUnknownUnknownUnknownUnknown]</th>                                                                                                                               <td>  459.0940</td> <td>  539.885</td> <td>    0.850</td> <td> 0.395</td> <td> -599.077</td> <td> 1517.265</td>\n",
       "</tr>\n",
       "<tr>\n",
       "  <th>MAGER_smoked[T.UnknownUnknownUnknownUnknownUnknownUnknownUnknownUnknownUnknownUnknownUnknownUnknownUnknownUnknownUnknownUnknownUnknownUnknownUnknownUnknownUnknownUnknownUnknownUnknownUnknownUnknown]</th>                                                                                                                        <td>  496.6909</td> <td>  532.477</td> <td>    0.933</td> <td> 0.351</td> <td> -546.960</td> <td> 1540.342</td>\n",
       "</tr>\n",
       "<tr>\n",
       "  <th>MAGER_smoked[T.UnknownUnknownUnknownUnknownUnknownUnknownUnknownUnknownUnknownUnknownUnknownUnknownUnknownUnknownUnknownUnknownUnknownUnknownUnknownUnknownUnknownUnknownUnknownUnknownUnknownUnknownUnknown]</th>                                                                                                                 <td>  765.1761</td> <td>  536.257</td> <td>    1.427</td> <td> 0.154</td> <td> -285.884</td> <td> 1816.236</td>\n",
       "</tr>\n",
       "<tr>\n",
       "  <th>MAGER_smoked[T.UnknownUnknownUnknownUnknownUnknownUnknownUnknownUnknownUnknownUnknownUnknownUnknownUnknownUnknownUnknownUnknownUnknownUnknownUnknownUnknownUnknownUnknownUnknownUnknownUnknownUnknownUnknownUnknown]</th>                                                                                                          <td>  269.7643</td> <td>  548.377</td> <td>    0.492</td> <td> 0.623</td> <td> -805.051</td> <td> 1344.580</td>\n",
       "</tr>\n",
       "<tr>\n",
       "  <th>MAGER_smoked[T.UnknownUnknownUnknownUnknownUnknownUnknownUnknownUnknownUnknownUnknownUnknownUnknownUnknownUnknownUnknownUnknownUnknownUnknownUnknownUnknownUnknownUnknownUnknownUnknownUnknownUnknownUnknownUnknownUnknown]</th>                                                                                                   <td>  381.2628</td> <td>  535.316</td> <td>    0.712</td> <td> 0.476</td> <td> -667.953</td> <td> 1430.479</td>\n",
       "</tr>\n",
       "<tr>\n",
       "  <th>MAGER_smoked[T.UnknownUnknownUnknownUnknownUnknownUnknownUnknownUnknownUnknownUnknownUnknownUnknownUnknownUnknownUnknownUnknownUnknownUnknownUnknownUnknownUnknownUnknownUnknownUnknownUnknownUnknownUnknownUnknownUnknownUnknown]</th>                                                                                            <td>  459.9965</td> <td>  541.482</td> <td>    0.850</td> <td> 0.396</td> <td> -601.304</td> <td> 1521.297</td>\n",
       "</tr>\n",
       "<tr>\n",
       "  <th>MAGER_smoked[T.UnknownUnknownUnknownUnknownUnknownUnknownUnknownUnknownUnknownUnknownUnknownUnknownUnknownUnknownUnknownUnknownUnknownUnknownUnknownUnknownUnknownUnknownUnknownUnknownUnknownUnknownUnknownUnknownUnknownUnknownUnknown]</th>                                                                                     <td>  670.2394</td> <td>  539.887</td> <td>    1.241</td> <td> 0.214</td> <td> -387.935</td> <td> 1728.414</td>\n",
       "</tr>\n",
       "<tr>\n",
       "  <th>MAGER_smoked[T.UnknownUnknownUnknownUnknownUnknownUnknownUnknownUnknownUnknownUnknownUnknownUnknownUnknownUnknownUnknownUnknownUnknownUnknownUnknownUnknownUnknownUnknownUnknownUnknownUnknownUnknownUnknownUnknownUnknownUnknownUnknownUnknown]</th>                                                                              <td>  718.8873</td> <td>  541.485</td> <td>    1.328</td> <td> 0.184</td> <td> -342.419</td> <td> 1780.194</td>\n",
       "</tr>\n",
       "<tr>\n",
       "  <th>MAGER_smoked[T.UnknownUnknownUnknownUnknownUnknownUnknownUnknownUnknownUnknownUnknownUnknownUnknownUnknownUnknownUnknownUnknownUnknownUnknownUnknownUnknownUnknownUnknownUnknownUnknownUnknownUnknownUnknownUnknownUnknownUnknownUnknownUnknownUnknown]</th>                                                                       <td>  582.8506</td> <td>  545.649</td> <td>    1.068</td> <td> 0.285</td> <td> -486.617</td> <td> 1652.318</td>\n",
       "</tr>\n",
       "<tr>\n",
       "  <th>MAGER_smoked[T.UnknownUnknownUnknownUnknownUnknownUnknownUnknownUnknownUnknownUnknownUnknownUnknownUnknownUnknownUnknownUnknownUnknownUnknownUnknownUnknownUnknownUnknownUnknownUnknownUnknownUnknownUnknownUnknownUnknownUnknownUnknownUnknownUnknownUnknown]</th>                                                                <td>  703.5213</td> <td>  533.088</td> <td>    1.320</td> <td> 0.187</td> <td> -341.326</td> <td> 1748.369</td>\n",
       "</tr>\n",
       "<tr>\n",
       "  <th>MAGER_smoked[T.UnknownUnknownUnknownUnknownUnknownUnknownUnknownUnknownUnknownUnknownUnknownUnknownUnknownUnknownUnknownUnknownUnknownUnknownUnknownUnknownUnknownUnknownUnknownUnknownUnknownUnknownUnknownUnknownUnknownUnknownUnknownUnknownUnknownUnknownUnknown]</th>                                                         <td>  766.9963</td> <td>  600.762</td> <td>    1.277</td> <td> 0.202</td> <td> -410.492</td> <td> 1944.484</td>\n",
       "</tr>\n",
       "<tr>\n",
       "  <th>MAGER_smoked[T.UnknownUnknownUnknownUnknownUnknownUnknownUnknownUnknownUnknownUnknownUnknownUnknownUnknownUnknownUnknownUnknownUnknownUnknownUnknownUnknownUnknownUnknownUnknownUnknownUnknownUnknownUnknownUnknownUnknownUnknownUnknownUnknownUnknownUnknownUnknownUnknown]</th>                                                  <td>  509.2740</td> <td>  556.165</td> <td>    0.916</td> <td> 0.360</td> <td> -580.804</td> <td> 1599.352</td>\n",
       "</tr>\n",
       "<tr>\n",
       "  <th>MAGER_smoked[T.UnknownUnknownUnknownUnknownUnknownUnknownUnknownUnknownUnknownUnknownUnknownUnknownUnknownUnknownUnknownUnknownUnknownUnknownUnknownUnknownUnknownUnknownUnknownUnknownUnknownUnknownUnknownUnknownUnknownUnknownUnknownUnknownUnknownUnknownUnknownUnknownUnknown]</th>                                           <td>  291.8853</td> <td>  541.506</td> <td>    0.539</td> <td> 0.590</td> <td> -769.463</td> <td> 1353.234</td>\n",
       "</tr>\n",
       "<tr>\n",
       "  <th>MAGER_smoked[T.UnknownUnknownUnknownUnknownUnknownUnknownUnknownUnknownUnknownUnknownUnknownUnknownUnknownUnknownUnknownUnknownUnknownUnknownUnknownUnknownUnknownUnknownUnknownUnknownUnknownUnknownUnknownUnknownUnknownUnknownUnknownUnknownUnknownUnknownUnknownUnknownUnknownUnknown]</th>                                    <td>  556.3675</td> <td>  581.655</td> <td>    0.957</td> <td> 0.339</td> <td> -583.671</td> <td> 1696.406</td>\n",
       "</tr>\n",
       "<tr>\n",
       "  <th>MAGER_smoked[T.UnknownUnknownUnknownUnknownUnknownUnknownUnknownUnknownUnknownUnknownUnknownUnknownUnknownUnknownUnknownUnknownUnknownUnknownUnknownUnknownUnknownUnknownUnknownUnknownUnknownUnknownUnknownUnknownUnknownUnknownUnknownUnknownUnknownUnknownUnknownUnknownUnknownUnknownUnknown]</th>                             <td>  548.4500</td> <td>  548.404</td> <td>    1.000</td> <td> 0.317</td> <td> -526.417</td> <td> 1623.317</td>\n",
       "</tr>\n",
       "<tr>\n",
       "  <th>MAGER_smoked[T.UnknownUnknownUnknownUnknownUnknownUnknownUnknownUnknownUnknownUnknownUnknownUnknownUnknownUnknownUnknownUnknownUnknownUnknownUnknownUnknownUnknownUnknownUnknownUnknownUnknownUnknownUnknownUnknownUnknownUnknownUnknownUnknownUnknownUnknownUnknownUnknownUnknownUnknownUnknownUnknown]</th>                      <td>  757.3816</td> <td>  637.196</td> <td>    1.189</td> <td> 0.235</td> <td> -491.518</td> <td> 2006.281</td>\n",
       "</tr>\n",
       "<tr>\n",
       "  <th>MAGER_smoked[T.UnknownUnknownUnknownUnknownUnknownUnknownUnknownUnknownUnknownUnknownUnknownUnknownUnknownUnknownUnknownUnknownUnknownUnknownUnknownUnknownUnknownUnknownUnknownUnknownUnknownUnknownUnknownUnknownUnknownUnknownUnknownUnknownUnknownUnknownUnknownUnknownUnknownUnknownUnknownUnknownUnknown]</th>               <td>  609.1028</td> <td>  637.210</td> <td>    0.956</td> <td> 0.339</td> <td> -639.823</td> <td> 1858.029</td>\n",
       "</tr>\n",
       "<tr>\n",
       "  <th>MAGER_smoked[T.UnknownUnknownUnknownUnknownUnknownUnknownUnknownUnknownUnknownUnknownUnknownUnknownUnknownUnknownUnknownUnknownUnknownUnknownUnknownUnknownUnknownUnknownUnknownUnknownUnknownUnknownUnknownUnknownUnknownUnknownUnknownUnknownUnknownUnknownUnknownUnknownUnknownUnknownUnknownUnknownUnknownUnknown]</th>        <td>  514.1651</td> <td>  637.192</td> <td>    0.807</td> <td> 0.420</td> <td> -734.726</td> <td> 1763.056</td>\n",
       "</tr>\n",
       "<tr>\n",
       "  <th>MAGER_smoked[T.UnknownUnknownUnknownUnknownUnknownUnknownUnknownUnknownUnknownUnknownUnknownUnknownUnknownUnknownUnknownUnknownUnknownUnknownUnknownUnknownUnknownUnknownUnknownUnknownUnknownUnknownUnknownUnknownUnknownUnknownUnknownUnknownUnknownUnknownUnknownUnknownUnknownUnknownUnknownUnknownUnknownUnknownUnknown]</th> <td>  784.4211</td> <td>  735.747</td> <td>    1.066</td> <td> 0.286</td> <td> -657.636</td> <td> 2226.479</td>\n",
       "</tr>\n",
       "<tr>\n",
       "  <th>BMI_log</th>                                                                                                                                                                                                                                                                                                                       <td>  417.7305</td> <td>    8.620</td> <td>   48.459</td> <td> 0.000</td> <td>  400.835</td> <td>  434.626</td>\n",
       "</tr>\n",
       "<tr>\n",
       "  <th>WTGAIN</th>                                                                                                                                                                                                                                                                                                                        <td>    7.6868</td> <td>    0.127</td> <td>   60.404</td> <td> 0.000</td> <td>    7.437</td> <td>    7.936</td>\n",
       "</tr>\n",
       "<tr>\n",
       "  <th>M_Ht_In</th>                                                                                                                                                                                                                                                                                                                       <td>   25.1897</td> <td>    0.672</td> <td>   37.493</td> <td> 0.000</td> <td>   23.873</td> <td>   26.507</td>\n",
       "</tr>\n",
       "<tr>\n",
       "  <th>smoked_None</th>                                                                                                                                                                                                                                                                                                                   <td>-6.137e+11</td> <td> 3.23e+12</td> <td>   -0.190</td> <td> 0.850</td> <td>-6.95e+12</td> <td> 5.73e+12</td>\n",
       "</tr>\n",
       "<tr>\n",
       "  <th>SEX_M</th>                                                                                                                                                                                                                                                                                                                         <td>  111.0777</td> <td>    3.558</td> <td>   31.216</td> <td> 0.000</td> <td>  104.103</td> <td>  118.052</td>\n",
       "</tr>\n",
       "<tr>\n",
       "  <th>BFACIL_1</th>                                                                                                                                                                                                                                                                                                                      <td> -155.0744</td> <td>   14.524</td> <td>  -10.677</td> <td> 0.000</td> <td> -183.540</td> <td> -126.608</td>\n",
       "</tr>\n",
       "<tr>\n",
       "  <th>ATTEND_1</th>                                                                                                                                                                                                                                                                                                                      <td>  -44.8330</td> <td>    4.708</td> <td>   -9.522</td> <td> 0.000</td> <td>  -54.062</td> <td>  -35.604</td>\n",
       "</tr>\n",
       "<tr>\n",
       "  <th>DMAR_1</th>                                                                                                                                                                                                                                                                                                                        <td>   15.9704</td> <td>    4.138</td> <td>    3.860</td> <td> 0.000</td> <td>    7.860</td> <td>   24.080</td>\n",
       "</tr>\n",
       "<tr>\n",
       "  <th>FRACE6_1</th>                                                                                                                                                                                                                                                                                                                      <td>   54.4688</td> <td>    5.323</td> <td>   10.232</td> <td> 0.000</td> <td>   44.035</td> <td>   64.903</td>\n",
       "</tr>\n",
       "<tr>\n",
       "  <th>FEDUC_3</th>                                                                                                                                                                                                                                                                                                                       <td>  -25.0561</td> <td>    4.189</td> <td>   -5.982</td> <td> 0.000</td> <td>  -33.266</td> <td>  -16.846</td>\n",
       "</tr>\n",
       "<tr>\n",
       "  <th>first_birth</th>                                                                                                                                                                                                                                                                                                                   <td> -114.7492</td> <td>    4.335</td> <td>  -26.469</td> <td> 0.000</td> <td> -123.246</td> <td> -106.252</td>\n",
       "</tr>\n",
       "<tr>\n",
       "  <th>plural_delivery_0[0]</th>                                                                                                                                                                                                                                                                                                          <td> 1.613e+10</td> <td>  8.5e+10</td> <td>    0.190</td> <td> 0.850</td> <td>-1.51e+11</td> <td> 1.83e+11</td>\n",
       "</tr>\n",
       "<tr>\n",
       "  <th>plural_delivery_0[1]</th>                                                                                                                                                                                                                                                                                                          <td>-1.613e+10</td> <td>  8.5e+10</td> <td>   -0.190</td> <td> 0.850</td> <td>-1.83e+11</td> <td> 1.51e+11</td>\n",
       "</tr>\n",
       "<tr>\n",
       "  <th>first_natal</th>                                                                                                                                                                                                                                                                                                                   <td>   12.2337</td> <td>    4.094</td> <td>    2.988</td> <td> 0.003</td> <td>    4.210</td> <td>   20.257</td>\n",
       "</tr>\n",
       "<tr>\n",
       "  <th>LD_INDL_N</th>                                                                                                                                                                                                                                                                                                                     <td>  -64.0766</td> <td>    4.206</td> <td>  -15.233</td> <td> 0.000</td> <td>  -72.321</td> <td>  -55.832</td>\n",
       "</tr>\n",
       "<tr>\n",
       "  <th>MBSTATE_REC_1</th>                                                                                                                                                                                                                                                                                                                 <td>  -61.7407</td> <td>    4.938</td> <td>  -12.502</td> <td> 0.000</td> <td>  -71.420</td> <td>  -52.062</td>\n",
       "</tr>\n",
       "<tr>\n",
       "  <th>MEDUC_6</th>                                                                                                                                                                                                                                                                                                                       <td>   19.5633</td> <td>    4.625</td> <td>    4.230</td> <td> 0.000</td> <td>   10.499</td> <td>   28.627</td>\n",
       "</tr>\n",
       "<tr>\n",
       "  <th>MHISPX_0</th>                                                                                                                                                                                                                                                                                                                      <td>   10.1783</td> <td>    4.973</td> <td>    2.047</td> <td> 0.041</td> <td>    0.432</td> <td>   19.925</td>\n",
       "</tr>\n",
       "<tr>\n",
       "  <th>MRAVE6_2</th>                                                                                                                                                                                                                                                                                                                      <td> -124.8740</td> <td>    7.760</td> <td>  -16.092</td> <td> 0.000</td> <td> -140.084</td> <td> -109.664</td>\n",
       "</tr>\n",
       "<tr>\n",
       "  <th>MRAVE6_1</th>                                                                                                                                                                                                                                                                                                                      <td>   41.0789</td> <td>    7.063</td> <td>    5.816</td> <td> 0.000</td> <td>   27.235</td> <td>   54.923</td>\n",
       "</tr>\n",
       "<tr>\n",
       "  <th>MTRAN_Y</th>                                                                                                                                                                                                                                                                                                                       <td> -788.0813</td> <td>   27.085</td> <td>  -29.097</td> <td> 0.000</td> <td> -841.167</td> <td> -734.995</td>\n",
       "</tr>\n",
       "<tr>\n",
       "  <th>NO_RISKS_1</th>                                                                                                                                                                                                                                                                                                                    <td>  193.0694</td> <td>    5.183</td> <td>   37.249</td> <td> 0.000</td> <td>  182.910</td> <td>  203.228</td>\n",
       "</tr>\n",
       "<tr>\n",
       "  <th>PAY_1</th>                                                                                                                                                                                                                                                                                                                         <td>  -26.2904</td> <td>    4.365</td> <td>   -6.023</td> <td> 0.000</td> <td>  -34.846</td> <td>  -17.735</td>\n",
       "</tr>\n",
       "<tr>\n",
       "  <th>PRECARE</th>                                                                                                                                                                                                                                                                                                                       <td>   19.7813</td> <td>    1.260</td> <td>   15.703</td> <td> 0.000</td> <td>   17.312</td> <td>   22.250</td>\n",
       "</tr>\n",
       "<tr>\n",
       "  <th>PREVIS</th>                                                                                                                                                                                                                                                                                                                        <td>   15.7247</td> <td>    0.438</td> <td>   35.898</td> <td> 0.000</td> <td>   14.866</td> <td>   16.583</td>\n",
       "</tr>\n",
       "<tr>\n",
       "  <th>PRIORDEAD_cat_Yes</th>                                                                                                                                                                                                                                                                                                             <td> -131.9965</td> <td>   16.958</td> <td>   -7.784</td> <td> 0.000</td> <td> -165.235</td> <td>  -98.759</td>\n",
       "</tr>\n",
       "<tr>\n",
       "  <th>RDMETH_REC_3</th>                                                                                                                                                                                                                                                                                                                  <td>  -77.1344</td> <td>    5.020</td> <td>  -15.366</td> <td> 0.000</td> <td>  -86.973</td> <td>  -67.295</td>\n",
       "</tr>\n",
       "<tr>\n",
       "  <th>RF_CESAR_Y</th>                                                                                                                                                                                                                                                                                                                    <td>  138.4735</td> <td>    6.986</td> <td>   19.821</td> <td> 0.000</td> <td>  124.780</td> <td>  152.167</td>\n",
       "</tr>\n",
       "</table>\n",
       "<table class=\"simpletable\">\n",
       "<tr>\n",
       "  <th>Omnibus:</th>       <td>11030.991</td> <th>  Durbin-Watson:     </th> <td>   2.006</td> \n",
       "</tr>\n",
       "<tr>\n",
       "  <th>Prob(Omnibus):</th>  <td> 0.000</td>   <th>  Jarque-Bera (JB):  </th> <td>33639.756</td>\n",
       "</tr>\n",
       "<tr>\n",
       "  <th>Skew:</th>           <td>-0.680</td>   <th>  Prob(JB):          </th> <td>    0.00</td> \n",
       "</tr>\n",
       "<tr>\n",
       "  <th>Kurtosis:</th>       <td> 5.749</td>   <th>  Cond. No.          </th> <td>1.01e+16</td> \n",
       "</tr>\n",
       "</table><br/><br/>Warnings:<br/>[1] Standard Errors assume that the covariance matrix of the errors is correctly specified.<br/>[2] The smallest eigenvalue is 4.41e-24. This might indicate that there are<br/>strong multicollinearity problems or that the design matrix is singular."
      ],
      "text/plain": [
       "<class 'statsmodels.iolib.summary.Summary'>\n",
       "\"\"\"\n",
       "                            OLS Regression Results                            \n",
       "==============================================================================\n",
       "Dep. Variable:                   DBWT   R-squared:                       0.191\n",
       "Model:                            OLS   Adj. R-squared:                  0.190\n",
       "Method:                 Least Squares   F-statistic:                     163.4\n",
       "Date:                Wed, 29 Jul 2020   Prob (F-statistic):               0.00\n",
       "Time:                        16:43:45   Log-Likelihood:            -6.5832e+05\n",
       "No. Observations:               85804   AIC:                         1.317e+06\n",
       "Df Residuals:                   85679   BIC:                         1.318e+06\n",
       "Df Model:                         124                                         \n",
       "Covariance Type:            nonrobust                                         \n",
       "=================================================================================================================================================================================================================================================================================================================================================================================================\n",
       "                                                                                                                                                                                                                                                                                                                                    coef    std err          t      P>|t|      [0.025      0.975]\n",
       "-------------------------------------------------------------------------------------------------------------------------------------------------------------------------------------------------------------------------------------------------------------------------------------------------------------------------------------------------------------------------------------------------\n",
       "Intercept                                                                                                                                                                                                                                                                                                                     -1712.9008    523.083     -3.275      0.001   -2738.139    -687.662\n",
       "MAGER_smoked[T.DailyDailyDailyDailyDailyDailyDailyDailyDailyDailyDailyDailyDailyDailyDailyDaily]                                                                                                                                                                                                                                806.6924    551.795      1.462      0.144    -274.822    1888.207\n",
       "MAGER_smoked[T.DailyDailyDailyDailyDailyDailyDailyDailyDailyDailyDailyDailyDailyDailyDailyDailyDaily]                                                                                                                                                                                                                           632.9632    528.054      1.199      0.231    -402.019    1667.945\n",
       "MAGER_smoked[T.DailyDailyDailyDailyDailyDailyDailyDailyDailyDailyDailyDailyDailyDailyDailyDailyDailyDaily]                                                                                                                                                                                                                      480.5941    523.198      0.919      0.358    -544.870    1506.058\n",
       "MAGER_smoked[T.DailyDailyDailyDailyDailyDailyDailyDailyDailyDailyDailyDailyDailyDailyDailyDailyDailyDailyDaily]                                                                                                                                                                                                                 514.1049    521.504      0.986      0.324    -508.039    1536.249\n",
       "MAGER_smoked[T.DailyDailyDailyDailyDailyDailyDailyDailyDailyDailyDailyDailyDailyDailyDailyDailyDailyDailyDailyDaily]                                                                                                                                                                                                            525.4830    521.213      1.008      0.313    -496.090    1547.056\n",
       "MAGER_smoked[T.DailyDailyDailyDailyDailyDailyDailyDailyDailyDailyDailyDailyDailyDailyDailyDailyDailyDailyDailyDailyDaily]                                                                                                                                                                                                       559.9285    521.212      1.074      0.283    -461.644    1581.501\n",
       "MAGER_smoked[T.DailyDailyDailyDailyDailyDailyDailyDailyDailyDailyDailyDailyDailyDailyDailyDailyDailyDailyDailyDailyDailyDaily]                                                                                                                                                                                                  594.6746    521.018      1.141      0.254    -426.517    1615.866\n",
       "MAGER_smoked[T.DailyDailyDailyDailyDailyDailyDailyDailyDailyDailyDailyDailyDailyDailyDailyDailyDailyDailyDailyDailyDailyDailyDaily]                                                                                                                                                                                             559.9730    520.957      1.075      0.282    -461.099    1581.045\n",
       "MAGER_smoked[T.DailyDailyDailyDailyDailyDailyDailyDailyDailyDailyDailyDailyDailyDailyDailyDailyDailyDailyDailyDailyDailyDailyDailyDaily]                                                                                                                                                                                        533.3314    520.911      1.024      0.306    -487.650    1554.313\n",
       "MAGER_smoked[T.DailyDailyDailyDailyDailyDailyDailyDailyDailyDailyDailyDailyDailyDailyDailyDailyDailyDailyDailyDailyDailyDailyDailyDailyDaily]                                                                                                                                                                                   541.6870    520.870      1.040      0.298    -479.213    1562.587\n",
       "MAGER_smoked[T.DailyDailyDailyDailyDailyDailyDailyDailyDailyDailyDailyDailyDailyDailyDailyDailyDailyDailyDailyDailyDailyDailyDailyDailyDailyDaily]                                                                                                                                                                              557.3647    520.891      1.070      0.285    -463.577    1578.306\n",
       "MAGER_smoked[T.DailyDailyDailyDailyDailyDailyDailyDailyDailyDailyDailyDailyDailyDailyDailyDailyDailyDailyDailyDailyDailyDailyDailyDailyDailyDailyDaily]                                                                                                                                                                         521.8735    520.827      1.002      0.316    -498.943    1542.690\n",
       "MAGER_smoked[T.DailyDailyDailyDailyDailyDailyDailyDailyDailyDailyDailyDailyDailyDailyDailyDailyDailyDailyDailyDailyDailyDailyDailyDailyDailyDailyDailyDaily]                                                                                                                                                                    535.7111    520.845      1.029      0.304    -485.140    1556.562\n",
       "MAGER_smoked[T.DailyDailyDailyDailyDailyDailyDailyDailyDailyDailyDailyDailyDailyDailyDailyDailyDailyDailyDailyDailyDailyDailyDailyDailyDailyDailyDailyDailyDaily]                                                                                                                                                               524.7252    520.964      1.007      0.314    -496.360    1545.811\n",
       "MAGER_smoked[T.DailyDailyDailyDailyDailyDailyDailyDailyDailyDailyDailyDailyDailyDailyDailyDailyDailyDailyDailyDailyDailyDailyDailyDailyDailyDailyDailyDailyDailyDaily]                                                                                                                                                          543.4349    521.002      1.043      0.297    -477.725    1564.595\n",
       "MAGER_smoked[T.DailyDailyDailyDailyDailyDailyDailyDailyDailyDailyDailyDailyDailyDailyDailyDailyDailyDailyDailyDailyDailyDailyDailyDailyDailyDailyDailyDailyDailyDailyDaily]                                                                                                                                                     510.9804    521.100      0.981      0.327    -510.371    1532.332\n",
       "MAGER_smoked[T.DailyDailyDailyDailyDailyDailyDailyDailyDailyDailyDailyDailyDailyDailyDailyDailyDailyDailyDailyDailyDailyDailyDailyDailyDailyDailyDailyDailyDailyDailyDailyDaily]                                                                                                                                                478.3191    521.117      0.918      0.359    -543.066    1499.705\n",
       "MAGER_smoked[T.DailyDailyDailyDailyDailyDailyDailyDailyDailyDailyDailyDailyDailyDailyDailyDailyDailyDailyDailyDailyDailyDailyDailyDailyDailyDailyDailyDailyDailyDailyDailyDailyDaily]                                                                                                                                           442.9996    521.399      0.850      0.396    -578.937    1464.937\n",
       "MAGER_smoked[T.DailyDailyDailyDailyDailyDailyDailyDailyDailyDailyDailyDailyDailyDailyDailyDailyDailyDailyDailyDailyDailyDailyDailyDailyDailyDailyDailyDailyDailyDailyDailyDailyDailyDaily]                                                                                                                                      513.9122    521.452      0.986      0.324    -508.128    1535.953\n",
       "MAGER_smoked[T.DailyDailyDailyDailyDailyDailyDailyDailyDailyDailyDailyDailyDailyDailyDailyDailyDailyDailyDailyDailyDailyDailyDailyDailyDailyDailyDailyDailyDailyDailyDailyDailyDailyDailyDaily]                                                                                                                                 402.9928    521.894      0.772      0.440    -619.916    1425.902\n",
       "MAGER_smoked[T.DailyDailyDailyDailyDailyDailyDailyDailyDailyDailyDailyDailyDailyDailyDailyDailyDailyDailyDailyDailyDailyDailyDailyDailyDailyDailyDailyDailyDailyDailyDailyDailyDailyDailyDailyDaily]                                                                                                                            541.4813    522.205      1.037      0.300    -482.037    1564.999\n",
       "MAGER_smoked[T.DailyDailyDailyDailyDailyDailyDailyDailyDailyDailyDailyDailyDailyDailyDailyDailyDailyDailyDailyDailyDailyDailyDailyDailyDailyDailyDailyDailyDailyDailyDailyDailyDailyDailyDailyDailyDaily]                                                                                                                       449.7332    522.332      0.861      0.389    -574.033    1473.499\n",
       "MAGER_smoked[T.DailyDailyDailyDailyDailyDailyDailyDailyDailyDailyDailyDailyDailyDailyDailyDailyDailyDailyDailyDailyDailyDailyDailyDailyDailyDailyDailyDailyDailyDailyDailyDailyDailyDailyDailyDailyDailyDaily]                                                                                                                  420.3643    523.616      0.803      0.422    -605.918    1446.646\n",
       "MAGER_smoked[T.DailyDailyDailyDailyDailyDailyDailyDailyDailyDailyDailyDailyDailyDailyDailyDailyDailyDailyDailyDailyDailyDailyDailyDailyDailyDailyDailyDailyDailyDailyDailyDailyDailyDailyDailyDailyDailyDailyDaily]                                                                                                             434.2635    523.848      0.829      0.407    -592.475    1461.001\n",
       "MAGER_smoked[T.DailyDailyDailyDailyDailyDailyDailyDailyDailyDailyDailyDailyDailyDailyDailyDailyDailyDailyDailyDailyDailyDailyDailyDailyDailyDailyDailyDailyDailyDailyDailyDailyDailyDailyDailyDailyDailyDailyDailyDaily]                                                                                                        556.8621    526.254      1.058      0.290    -474.592    1588.316\n",
       "MAGER_smoked[T.DailyDailyDailyDailyDailyDailyDailyDailyDailyDailyDailyDailyDailyDailyDailyDailyDailyDailyDailyDailyDailyDailyDailyDailyDailyDailyDailyDailyDailyDailyDailyDailyDailyDailyDailyDailyDailyDailyDailyDailyDaily]                                                                                                   334.3289    529.802      0.631      0.528    -704.079    1372.737\n",
       "MAGER_smoked[T.DailyDailyDailyDailyDailyDailyDailyDailyDailyDailyDailyDailyDailyDailyDailyDailyDailyDailyDailyDailyDailyDailyDailyDailyDailyDailyDailyDailyDailyDailyDailyDailyDailyDailyDailyDailyDailyDailyDailyDailyDailyDaily]                                                                                              455.8726    535.328      0.852      0.394    -593.365    1505.110\n",
       "MAGER_smoked[T.DailyDailyDailyDailyDailyDailyDailyDailyDailyDailyDailyDailyDailyDailyDailyDailyDailyDailyDailyDailyDailyDailyDailyDailyDailyDailyDailyDailyDailyDailyDailyDailyDailyDailyDailyDailyDailyDailyDailyDailyDailyDailyDaily]                                                                                         553.7716    551.804      1.004      0.316    -527.760    1635.303\n",
       "MAGER_smoked[T.DailyDailyDailyDailyDailyDailyDailyDailyDailyDailyDailyDailyDailyDailyDailyDailyDailyDailyDailyDailyDailyDailyDailyDailyDailyDailyDailyDailyDailyDailyDailyDailyDailyDailyDailyDailyDailyDailyDailyDailyDailyDailyDailyDaily]                                                                                    785.9738    581.681      1.351      0.177    -354.117    1926.064\n",
       "MAGER_smoked[T.DailyDailyDailyDailyDailyDailyDailyDailyDailyDailyDailyDailyDailyDailyDailyDailyDailyDailyDailyDailyDailyDailyDailyDailyDailyDailyDailyDailyDailyDailyDailyDailyDailyDailyDailyDailyDailyDailyDailyDailyDailyDailyDailyDailyDaily]                                                                               591.3466    600.748      0.984      0.325    -586.114    1768.807\n",
       "MAGER_smoked[T.DailyDailyDailyDailyDailyDailyDailyDailyDailyDailyDailyDailyDailyDailyDailyDailyDailyDailyDailyDailyDailyDailyDailyDailyDailyDailyDailyDailyDailyDailyDailyDailyDailyDailyDailyDailyDailyDailyDailyDailyDailyDailyDailyDailyDailyDaily]                                                                          187.3660    735.723      0.255      0.799   -1254.646    1629.377\n",
       "MAGER_smoked[T.DailyDailyDailyDailyDailyDailyDailyDailyDailyDailyDailyDailyDailyDailyDailyDailyDailyDailyDailyDailyDailyDailyDailyDailyDailyDailyDailyDailyDailyDailyDailyDailyDailyDailyDailyDailyDailyDailyDailyDailyDailyDailyDailyDailyDailyDailyDailyDailyDaily]                                                           -49.6156    735.809     -0.067      0.946   -1491.796    1392.565\n",
       "MAGER_smoked[T.NoneNoneNoneNoneNoneNoneNoneNoneNoneNoneNoneNoneNone]                                                                                                                                                                                                                                                           6.137e+11   3.23e+12      0.190      0.850   -5.73e+12    6.95e+12\n",
       "MAGER_smoked[T.NoneNoneNoneNoneNoneNoneNoneNoneNoneNoneNoneNoneNoneNone]                                                                                                                                                                                                                                                       6.137e+11   3.23e+12      0.190      0.850   -5.73e+12    6.95e+12\n",
       "MAGER_smoked[T.NoneNoneNoneNoneNoneNoneNoneNoneNoneNoneNoneNoneNoneNoneNone]                                                                                                                                                                                                                                                   6.137e+11   3.23e+12      0.190      0.850   -5.73e+12    6.95e+12\n",
       "MAGER_smoked[T.NoneNoneNoneNoneNoneNoneNoneNoneNoneNoneNoneNoneNoneNoneNoneNone]                                                                                                                                                                                                                                               6.137e+11   3.23e+12      0.190      0.850   -5.73e+12    6.95e+12\n",
       "MAGER_smoked[T.NoneNoneNoneNoneNoneNoneNoneNoneNoneNoneNoneNoneNoneNoneNoneNoneNone]                                                                                                                                                                                                                                           6.137e+11   3.23e+12      0.190      0.850   -5.73e+12    6.95e+12\n",
       "MAGER_smoked[T.NoneNoneNoneNoneNoneNoneNoneNoneNoneNoneNoneNoneNoneNoneNoneNoneNoneNone]                                                                                                                                                                                                                                       6.137e+11   3.23e+12      0.190      0.850   -5.73e+12    6.95e+12\n",
       "MAGER_smoked[T.NoneNoneNoneNoneNoneNoneNoneNoneNoneNoneNoneNoneNoneNoneNoneNoneNoneNoneNone]                                                                                                                                                                                                                                   6.137e+11   3.23e+12      0.190      0.850   -5.73e+12    6.95e+12\n",
       "MAGER_smoked[T.NoneNoneNoneNoneNoneNoneNoneNoneNoneNoneNoneNoneNoneNoneNoneNoneNoneNoneNoneNone]                                                                                                                                                                                                                               6.137e+11   3.23e+12      0.190      0.850   -5.73e+12    6.95e+12\n",
       "MAGER_smoked[T.NoneNoneNoneNoneNoneNoneNoneNoneNoneNoneNoneNoneNoneNoneNoneNoneNoneNoneNoneNoneNone]                                                                                                                                                                                                                           6.137e+11   3.23e+12      0.190      0.850   -5.73e+12    6.95e+12\n",
       "MAGER_smoked[T.NoneNoneNoneNoneNoneNoneNoneNoneNoneNoneNoneNoneNoneNoneNoneNoneNoneNoneNoneNoneNoneNone]                                                                                                                                                                                                                       6.137e+11   3.23e+12      0.190      0.850   -5.73e+12    6.95e+12\n",
       "MAGER_smoked[T.NoneNoneNoneNoneNoneNoneNoneNoneNoneNoneNoneNoneNoneNoneNoneNoneNoneNoneNoneNoneNoneNoneNone]                                                                                                                                                                                                                   6.137e+11   3.23e+12      0.190      0.850   -5.73e+12    6.95e+12\n",
       "MAGER_smoked[T.NoneNoneNoneNoneNoneNoneNoneNoneNoneNoneNoneNoneNoneNoneNoneNoneNoneNoneNoneNoneNoneNoneNoneNone]                                                                                                                                                                                                               6.137e+11   3.23e+12      0.190      0.850   -5.73e+12    6.95e+12\n",
       "MAGER_smoked[T.NoneNoneNoneNoneNoneNoneNoneNoneNoneNoneNoneNoneNoneNoneNoneNoneNoneNoneNoneNoneNoneNoneNoneNoneNone]                                                                                                                                                                                                           6.137e+11   3.23e+12      0.190      0.850   -5.73e+12    6.95e+12\n",
       "MAGER_smoked[T.NoneNoneNoneNoneNoneNoneNoneNoneNoneNoneNoneNoneNoneNoneNoneNoneNoneNoneNoneNoneNoneNoneNoneNoneNoneNone]                                                                                                                                                                                                       6.137e+11   3.23e+12      0.190      0.850   -5.73e+12    6.95e+12\n",
       "MAGER_smoked[T.NoneNoneNoneNoneNoneNoneNoneNoneNoneNoneNoneNoneNoneNoneNoneNoneNoneNoneNoneNoneNoneNoneNoneNoneNoneNoneNone]                                                                                                                                                                                                   6.137e+11   3.23e+12      0.190      0.850   -5.73e+12    6.95e+12\n",
       "MAGER_smoked[T.NoneNoneNoneNoneNoneNoneNoneNoneNoneNoneNoneNoneNoneNoneNoneNoneNoneNoneNoneNoneNoneNoneNoneNoneNoneNoneNoneNone]                                                                                                                                                                                               6.137e+11   3.23e+12      0.190      0.850   -5.73e+12    6.95e+12\n",
       "MAGER_smoked[T.NoneNoneNoneNoneNoneNoneNoneNoneNoneNoneNoneNoneNoneNoneNoneNoneNoneNoneNoneNoneNoneNoneNoneNoneNoneNoneNoneNoneNone]                                                                                                                                                                                           6.137e+11   3.23e+12      0.190      0.850   -5.73e+12    6.95e+12\n",
       "MAGER_smoked[T.NoneNoneNoneNoneNoneNoneNoneNoneNoneNoneNoneNoneNoneNoneNoneNoneNoneNoneNoneNoneNoneNoneNoneNoneNoneNoneNoneNoneNoneNone]                                                                                                                                                                                       6.137e+11   3.23e+12      0.190      0.850   -5.73e+12    6.95e+12\n",
       "MAGER_smoked[T.NoneNoneNoneNoneNoneNoneNoneNoneNoneNoneNoneNoneNoneNoneNoneNoneNoneNoneNoneNoneNoneNoneNoneNoneNoneNoneNoneNoneNoneNoneNone]                                                                                                                                                                                   6.137e+11   3.23e+12      0.190      0.850   -5.73e+12    6.95e+12\n",
       "MAGER_smoked[T.NoneNoneNoneNoneNoneNoneNoneNoneNoneNoneNoneNoneNoneNoneNoneNoneNoneNoneNoneNoneNoneNoneNoneNoneNoneNoneNoneNoneNoneNoneNoneNone]                                                                                                                                                                               6.137e+11   3.23e+12      0.190      0.850   -5.73e+12    6.95e+12\n",
       "MAGER_smoked[T.NoneNoneNoneNoneNoneNoneNoneNoneNoneNoneNoneNoneNoneNoneNoneNoneNoneNoneNoneNoneNoneNoneNoneNoneNoneNoneNoneNoneNoneNoneNoneNoneNone]                                                                                                                                                                           6.137e+11   3.23e+12      0.190      0.850   -5.73e+12    6.95e+12\n",
       "MAGER_smoked[T.NoneNoneNoneNoneNoneNoneNoneNoneNoneNoneNoneNoneNoneNoneNoneNoneNoneNoneNoneNoneNoneNoneNoneNoneNoneNoneNoneNoneNoneNoneNoneNoneNoneNone]                                                                                                                                                                       6.137e+11   3.23e+12      0.190      0.850   -5.73e+12    6.95e+12\n",
       "MAGER_smoked[T.NoneNoneNoneNoneNoneNoneNoneNoneNoneNoneNoneNoneNoneNoneNoneNoneNoneNoneNoneNoneNoneNoneNoneNoneNoneNoneNoneNoneNoneNoneNoneNoneNoneNoneNone]                                                                                                                                                                   6.137e+11   3.23e+12      0.190      0.850   -5.73e+12    6.95e+12\n",
       "MAGER_smoked[T.NoneNoneNoneNoneNoneNoneNoneNoneNoneNoneNoneNoneNoneNoneNoneNoneNoneNoneNoneNoneNoneNoneNoneNoneNoneNoneNoneNoneNoneNoneNoneNoneNoneNoneNoneNone]                                                                                                                                                               6.137e+11   3.23e+12      0.190      0.850   -5.73e+12    6.95e+12\n",
       "MAGER_smoked[T.NoneNoneNoneNoneNoneNoneNoneNoneNoneNoneNoneNoneNoneNoneNoneNoneNoneNoneNoneNoneNoneNoneNoneNoneNoneNoneNoneNoneNoneNoneNoneNoneNoneNoneNoneNoneNone]                                                                                                                                                           6.137e+11   3.23e+12      0.190      0.850   -5.73e+12    6.95e+12\n",
       "MAGER_smoked[T.NoneNoneNoneNoneNoneNoneNoneNoneNoneNoneNoneNoneNoneNoneNoneNoneNoneNoneNoneNoneNoneNoneNoneNoneNoneNoneNoneNoneNoneNoneNoneNoneNoneNoneNoneNoneNoneNone]                                                                                                                                                       6.137e+11   3.23e+12      0.190      0.850   -5.73e+12    6.95e+12\n",
       "MAGER_smoked[T.NoneNoneNoneNoneNoneNoneNoneNoneNoneNoneNoneNoneNoneNoneNoneNoneNoneNoneNoneNoneNoneNoneNoneNoneNoneNoneNoneNoneNoneNoneNoneNoneNoneNoneNoneNoneNoneNoneNone]                                                                                                                                                   6.137e+11   3.23e+12      0.190      0.850   -5.73e+12    6.95e+12\n",
       "MAGER_smoked[T.NoneNoneNoneNoneNoneNoneNoneNoneNoneNoneNoneNoneNoneNoneNoneNoneNoneNoneNoneNoneNoneNoneNoneNoneNoneNoneNoneNoneNoneNoneNoneNoneNoneNoneNoneNoneNoneNoneNoneNone]                                                                                                                                               6.137e+11   3.23e+12      0.190      0.850   -5.73e+12    6.95e+12\n",
       "MAGER_smoked[T.NoneNoneNoneNoneNoneNoneNoneNoneNoneNoneNoneNoneNoneNoneNoneNoneNoneNoneNoneNoneNoneNoneNoneNoneNoneNoneNoneNoneNoneNoneNoneNoneNoneNoneNoneNoneNoneNoneNoneNoneNone]                                                                                                                                           6.137e+11   3.23e+12      0.190      0.850   -5.73e+12    6.95e+12\n",
       "MAGER_smoked[T.NoneNoneNoneNoneNoneNoneNoneNoneNoneNoneNoneNoneNoneNoneNoneNoneNoneNoneNoneNoneNoneNoneNoneNoneNoneNoneNoneNoneNoneNoneNoneNoneNoneNoneNoneNoneNoneNoneNoneNoneNoneNone]                                                                                                                                       6.137e+11   3.23e+12      0.190      0.850   -5.73e+12    6.95e+12\n",
       "MAGER_smoked[T.NoneNoneNoneNoneNoneNoneNoneNoneNoneNoneNoneNoneNoneNoneNoneNoneNoneNoneNoneNoneNoneNoneNoneNoneNoneNoneNoneNoneNoneNoneNoneNoneNoneNoneNoneNoneNoneNoneNoneNoneNoneNoneNone]                                                                                                                                   6.137e+11   3.23e+12      0.190      0.850   -5.73e+12    6.95e+12\n",
       "MAGER_smoked[T.NoneNoneNoneNoneNoneNoneNoneNoneNoneNoneNoneNoneNoneNoneNoneNoneNoneNoneNoneNoneNoneNoneNoneNoneNoneNoneNoneNoneNoneNoneNoneNoneNoneNoneNoneNoneNoneNoneNoneNoneNoneNoneNoneNone]                                                                                                                               6.137e+11   3.23e+12      0.190      0.850   -5.73e+12    6.95e+12\n",
       "MAGER_smoked[T.NoneNoneNoneNoneNoneNoneNoneNoneNoneNoneNoneNoneNoneNoneNoneNoneNoneNoneNoneNoneNoneNoneNoneNoneNoneNoneNoneNoneNoneNoneNoneNoneNoneNoneNoneNoneNoneNoneNoneNoneNoneNoneNoneNoneNone]                                                                                                                           6.137e+11   3.23e+12      0.190      0.850   -5.73e+12    6.95e+12\n",
       "MAGER_smoked[T.NoneNoneNoneNoneNoneNoneNoneNoneNoneNoneNoneNoneNoneNoneNoneNoneNoneNoneNoneNoneNoneNoneNoneNoneNoneNoneNoneNoneNoneNoneNoneNoneNoneNoneNoneNoneNoneNoneNoneNoneNoneNoneNoneNoneNoneNone]                                                                                                                       6.137e+11   3.23e+12      0.190      0.850   -5.73e+12    6.95e+12\n",
       "MAGER_smoked[T.NoneNoneNoneNoneNoneNoneNoneNoneNoneNoneNoneNoneNoneNoneNoneNoneNoneNoneNoneNoneNoneNoneNoneNoneNoneNoneNoneNoneNoneNoneNoneNoneNoneNoneNoneNoneNoneNoneNoneNoneNoneNoneNoneNoneNoneNoneNone]                                                                                                                   6.137e+11   3.23e+12      0.190      0.850   -5.73e+12    6.95e+12\n",
       "MAGER_smoked[T.NoneNoneNoneNoneNoneNoneNoneNoneNoneNoneNoneNoneNoneNoneNoneNoneNoneNoneNoneNoneNoneNoneNoneNoneNoneNoneNoneNoneNoneNoneNoneNoneNoneNoneNoneNoneNoneNoneNoneNoneNoneNoneNoneNoneNoneNoneNoneNone]                                                                                                               6.137e+11   3.23e+12      0.190      0.850   -5.73e+12    6.95e+12\n",
       "MAGER_smoked[T.NoneNoneNoneNoneNoneNoneNoneNoneNoneNoneNoneNoneNoneNoneNoneNoneNoneNoneNoneNoneNoneNoneNoneNoneNoneNoneNoneNoneNoneNoneNoneNoneNoneNoneNoneNoneNoneNoneNoneNoneNoneNoneNoneNoneNoneNoneNoneNoneNone]                                                                                                           6.137e+11   3.23e+12      0.190      0.850   -5.73e+12    6.95e+12\n",
       "MAGER_smoked[T.NoneNoneNoneNoneNoneNoneNoneNoneNoneNoneNoneNoneNoneNoneNoneNoneNoneNoneNoneNoneNoneNoneNoneNoneNoneNoneNoneNoneNoneNoneNoneNoneNoneNoneNoneNoneNoneNoneNoneNoneNoneNoneNoneNoneNoneNoneNoneNoneNoneNone]                                                                                                       6.137e+11   3.23e+12      0.190      0.850   -5.73e+12    6.95e+12\n",
       "MAGER_smoked[T.UnknownUnknownUnknownUnknownUnknownUnknownUnknownUnknownUnknownUnknownUnknownUnknownUnknownUnknownUnknown]                                                                                                                                                                                                      1514.3432    735.736      2.058      0.040      72.308    2956.379\n",
       "MAGER_smoked[T.UnknownUnknownUnknownUnknownUnknownUnknownUnknownUnknownUnknownUnknownUnknownUnknownUnknownUnknownUnknownUnknown]                                                                                                                                                                                                272.0737    735.698      0.370      0.712   -1169.888    1714.035\n",
       "MAGER_smoked[T.UnknownUnknownUnknownUnknownUnknownUnknownUnknownUnknownUnknownUnknownUnknownUnknownUnknownUnknownUnknownUnknownUnknownUnknown]                                                                                                                                                                                  400.1834    561.934      0.712      0.476    -701.202    1501.569\n",
       "MAGER_smoked[T.UnknownUnknownUnknownUnknownUnknownUnknownUnknownUnknownUnknownUnknownUnknownUnknownUnknownUnknownUnknownUnknownUnknownUnknownUnknown]                                                                                                                                                                           796.4565    581.627      1.369      0.171    -343.527    1936.440\n",
       "MAGER_smoked[T.UnknownUnknownUnknownUnknownUnknownUnknownUnknownUnknownUnknownUnknownUnknownUnknownUnknownUnknownUnknownUnknownUnknownUnknownUnknownUnknown]                                                                                                                                                                    702.0271    543.350      1.292      0.196    -362.935    1766.989\n",
       "MAGER_smoked[T.UnknownUnknownUnknownUnknownUnknownUnknownUnknownUnknownUnknownUnknownUnknownUnknownUnknownUnknownUnknownUnknownUnknownUnknownUnknownUnknownUnknown]                                                                                                                                                             630.8781    543.369      1.161      0.246    -434.121    1695.877\n",
       "MAGER_smoked[T.UnknownUnknownUnknownUnknownUnknownUnknownUnknownUnknownUnknownUnknownUnknownUnknownUnknownUnknownUnknownUnknownUnknownUnknownUnknownUnknownUnknownUnknown]                                                                                                                                                      638.0154    556.166      1.147      0.251    -452.065    1728.096\n",
       "MAGER_smoked[T.UnknownUnknownUnknownUnknownUnknownUnknownUnknownUnknownUnknownUnknownUnknownUnknownUnknownUnknownUnknownUnknownUnknownUnknownUnknownUnknownUnknownUnknownUnknown]                                                                                                                                               658.1555    556.151      1.183      0.237    -431.896    1748.207\n",
       "MAGER_smoked[T.UnknownUnknownUnknownUnknownUnknownUnknownUnknownUnknownUnknownUnknownUnknownUnknownUnknownUnknownUnknownUnknownUnknownUnknownUnknownUnknownUnknownUnknownUnknownUnknown]                                                                                                                                        781.6654    533.748      1.464      0.143    -264.476    1827.807\n",
       "MAGER_smoked[T.UnknownUnknownUnknownUnknownUnknownUnknownUnknownUnknownUnknownUnknownUnknownUnknownUnknownUnknownUnknownUnknownUnknownUnknownUnknownUnknownUnknownUnknownUnknownUnknownUnknown]                                                                                                                                 459.0940    539.885      0.850      0.395    -599.077    1517.265\n",
       "MAGER_smoked[T.UnknownUnknownUnknownUnknownUnknownUnknownUnknownUnknownUnknownUnknownUnknownUnknownUnknownUnknownUnknownUnknownUnknownUnknownUnknownUnknownUnknownUnknownUnknownUnknownUnknownUnknown]                                                                                                                          496.6909    532.477      0.933      0.351    -546.960    1540.342\n",
       "MAGER_smoked[T.UnknownUnknownUnknownUnknownUnknownUnknownUnknownUnknownUnknownUnknownUnknownUnknownUnknownUnknownUnknownUnknownUnknownUnknownUnknownUnknownUnknownUnknownUnknownUnknownUnknownUnknownUnknown]                                                                                                                   765.1761    536.257      1.427      0.154    -285.884    1816.236\n",
       "MAGER_smoked[T.UnknownUnknownUnknownUnknownUnknownUnknownUnknownUnknownUnknownUnknownUnknownUnknownUnknownUnknownUnknownUnknownUnknownUnknownUnknownUnknownUnknownUnknownUnknownUnknownUnknownUnknownUnknownUnknown]                                                                                                            269.7643    548.377      0.492      0.623    -805.051    1344.580\n",
       "MAGER_smoked[T.UnknownUnknownUnknownUnknownUnknownUnknownUnknownUnknownUnknownUnknownUnknownUnknownUnknownUnknownUnknownUnknownUnknownUnknownUnknownUnknownUnknownUnknownUnknownUnknownUnknownUnknownUnknownUnknownUnknown]                                                                                                     381.2628    535.316      0.712      0.476    -667.953    1430.479\n",
       "MAGER_smoked[T.UnknownUnknownUnknownUnknownUnknownUnknownUnknownUnknownUnknownUnknownUnknownUnknownUnknownUnknownUnknownUnknownUnknownUnknownUnknownUnknownUnknownUnknownUnknownUnknownUnknownUnknownUnknownUnknownUnknownUnknown]                                                                                              459.9965    541.482      0.850      0.396    -601.304    1521.297\n",
       "MAGER_smoked[T.UnknownUnknownUnknownUnknownUnknownUnknownUnknownUnknownUnknownUnknownUnknownUnknownUnknownUnknownUnknownUnknownUnknownUnknownUnknownUnknownUnknownUnknownUnknownUnknownUnknownUnknownUnknownUnknownUnknownUnknownUnknown]                                                                                       670.2394    539.887      1.241      0.214    -387.935    1728.414\n",
       "MAGER_smoked[T.UnknownUnknownUnknownUnknownUnknownUnknownUnknownUnknownUnknownUnknownUnknownUnknownUnknownUnknownUnknownUnknownUnknownUnknownUnknownUnknownUnknownUnknownUnknownUnknownUnknownUnknownUnknownUnknownUnknownUnknownUnknownUnknown]                                                                                718.8873    541.485      1.328      0.184    -342.419    1780.194\n",
       "MAGER_smoked[T.UnknownUnknownUnknownUnknownUnknownUnknownUnknownUnknownUnknownUnknownUnknownUnknownUnknownUnknownUnknownUnknownUnknownUnknownUnknownUnknownUnknownUnknownUnknownUnknownUnknownUnknownUnknownUnknownUnknownUnknownUnknownUnknownUnknown]                                                                         582.8506    545.649      1.068      0.285    -486.617    1652.318\n",
       "MAGER_smoked[T.UnknownUnknownUnknownUnknownUnknownUnknownUnknownUnknownUnknownUnknownUnknownUnknownUnknownUnknownUnknownUnknownUnknownUnknownUnknownUnknownUnknownUnknownUnknownUnknownUnknownUnknownUnknownUnknownUnknownUnknownUnknownUnknownUnknownUnknown]                                                                  703.5213    533.088      1.320      0.187    -341.326    1748.369\n",
       "MAGER_smoked[T.UnknownUnknownUnknownUnknownUnknownUnknownUnknownUnknownUnknownUnknownUnknownUnknownUnknownUnknownUnknownUnknownUnknownUnknownUnknownUnknownUnknownUnknownUnknownUnknownUnknownUnknownUnknownUnknownUnknownUnknownUnknownUnknownUnknownUnknownUnknown]                                                           766.9963    600.762      1.277      0.202    -410.492    1944.484\n",
       "MAGER_smoked[T.UnknownUnknownUnknownUnknownUnknownUnknownUnknownUnknownUnknownUnknownUnknownUnknownUnknownUnknownUnknownUnknownUnknownUnknownUnknownUnknownUnknownUnknownUnknownUnknownUnknownUnknownUnknownUnknownUnknownUnknownUnknownUnknownUnknownUnknownUnknownUnknown]                                                    509.2740    556.165      0.916      0.360    -580.804    1599.352\n",
       "MAGER_smoked[T.UnknownUnknownUnknownUnknownUnknownUnknownUnknownUnknownUnknownUnknownUnknownUnknownUnknownUnknownUnknownUnknownUnknownUnknownUnknownUnknownUnknownUnknownUnknownUnknownUnknownUnknownUnknownUnknownUnknownUnknownUnknownUnknownUnknownUnknownUnknownUnknownUnknown]                                             291.8853    541.506      0.539      0.590    -769.463    1353.234\n",
       "MAGER_smoked[T.UnknownUnknownUnknownUnknownUnknownUnknownUnknownUnknownUnknownUnknownUnknownUnknownUnknownUnknownUnknownUnknownUnknownUnknownUnknownUnknownUnknownUnknownUnknownUnknownUnknownUnknownUnknownUnknownUnknownUnknownUnknownUnknownUnknownUnknownUnknownUnknownUnknownUnknown]                                      556.3675    581.655      0.957      0.339    -583.671    1696.406\n",
       "MAGER_smoked[T.UnknownUnknownUnknownUnknownUnknownUnknownUnknownUnknownUnknownUnknownUnknownUnknownUnknownUnknownUnknownUnknownUnknownUnknownUnknownUnknownUnknownUnknownUnknownUnknownUnknownUnknownUnknownUnknownUnknownUnknownUnknownUnknownUnknownUnknownUnknownUnknownUnknownUnknownUnknown]                               548.4500    548.404      1.000      0.317    -526.417    1623.317\n",
       "MAGER_smoked[T.UnknownUnknownUnknownUnknownUnknownUnknownUnknownUnknownUnknownUnknownUnknownUnknownUnknownUnknownUnknownUnknownUnknownUnknownUnknownUnknownUnknownUnknownUnknownUnknownUnknownUnknownUnknownUnknownUnknownUnknownUnknownUnknownUnknownUnknownUnknownUnknownUnknownUnknownUnknownUnknown]                        757.3816    637.196      1.189      0.235    -491.518    2006.281\n",
       "MAGER_smoked[T.UnknownUnknownUnknownUnknownUnknownUnknownUnknownUnknownUnknownUnknownUnknownUnknownUnknownUnknownUnknownUnknownUnknownUnknownUnknownUnknownUnknownUnknownUnknownUnknownUnknownUnknownUnknownUnknownUnknownUnknownUnknownUnknownUnknownUnknownUnknownUnknownUnknownUnknownUnknownUnknownUnknown]                 609.1028    637.210      0.956      0.339    -639.823    1858.029\n",
       "MAGER_smoked[T.UnknownUnknownUnknownUnknownUnknownUnknownUnknownUnknownUnknownUnknownUnknownUnknownUnknownUnknownUnknownUnknownUnknownUnknownUnknownUnknownUnknownUnknownUnknownUnknownUnknownUnknownUnknownUnknownUnknownUnknownUnknownUnknownUnknownUnknownUnknownUnknownUnknownUnknownUnknownUnknownUnknownUnknown]          514.1651    637.192      0.807      0.420    -734.726    1763.056\n",
       "MAGER_smoked[T.UnknownUnknownUnknownUnknownUnknownUnknownUnknownUnknownUnknownUnknownUnknownUnknownUnknownUnknownUnknownUnknownUnknownUnknownUnknownUnknownUnknownUnknownUnknownUnknownUnknownUnknownUnknownUnknownUnknownUnknownUnknownUnknownUnknownUnknownUnknownUnknownUnknownUnknownUnknownUnknownUnknownUnknownUnknown]   784.4211    735.747      1.066      0.286    -657.636    2226.479\n",
       "BMI_log                                                                                                                                                                                                                                                                                                                         417.7305      8.620     48.459      0.000     400.835     434.626\n",
       "WTGAIN                                                                                                                                                                                                                                                                                                                            7.6868      0.127     60.404      0.000       7.437       7.936\n",
       "M_Ht_In                                                                                                                                                                                                                                                                                                                          25.1897      0.672     37.493      0.000      23.873      26.507\n",
       "smoked_None                                                                                                                                                                                                                                                                                                                   -6.137e+11   3.23e+12     -0.190      0.850   -6.95e+12    5.73e+12\n",
       "SEX_M                                                                                                                                                                                                                                                                                                                           111.0777      3.558     31.216      0.000     104.103     118.052\n",
       "BFACIL_1                                                                                                                                                                                                                                                                                                                       -155.0744     14.524    -10.677      0.000    -183.540    -126.608\n",
       "ATTEND_1                                                                                                                                                                                                                                                                                                                        -44.8330      4.708     -9.522      0.000     -54.062     -35.604\n",
       "DMAR_1                                                                                                                                                                                                                                                                                                                           15.9704      4.138      3.860      0.000       7.860      24.080\n",
       "FRACE6_1                                                                                                                                                                                                                                                                                                                         54.4688      5.323     10.232      0.000      44.035      64.903\n",
       "FEDUC_3                                                                                                                                                                                                                                                                                                                         -25.0561      4.189     -5.982      0.000     -33.266     -16.846\n",
       "first_birth                                                                                                                                                                                                                                                                                                                    -114.7492      4.335    -26.469      0.000    -123.246    -106.252\n",
       "plural_delivery_0[0]                                                                                                                                                                                                                                                                                                           1.613e+10    8.5e+10      0.190      0.850   -1.51e+11    1.83e+11\n",
       "plural_delivery_0[1]                                                                                                                                                                                                                                                                                                          -1.613e+10    8.5e+10     -0.190      0.850   -1.83e+11    1.51e+11\n",
       "first_natal                                                                                                                                                                                                                                                                                                                      12.2337      4.094      2.988      0.003       4.210      20.257\n",
       "LD_INDL_N                                                                                                                                                                                                                                                                                                                       -64.0766      4.206    -15.233      0.000     -72.321     -55.832\n",
       "MBSTATE_REC_1                                                                                                                                                                                                                                                                                                                   -61.7407      4.938    -12.502      0.000     -71.420     -52.062\n",
       "MEDUC_6                                                                                                                                                                                                                                                                                                                          19.5633      4.625      4.230      0.000      10.499      28.627\n",
       "MHISPX_0                                                                                                                                                                                                                                                                                                                         10.1783      4.973      2.047      0.041       0.432      19.925\n",
       "MRAVE6_2                                                                                                                                                                                                                                                                                                                       -124.8740      7.760    -16.092      0.000    -140.084    -109.664\n",
       "MRAVE6_1                                                                                                                                                                                                                                                                                                                         41.0789      7.063      5.816      0.000      27.235      54.923\n",
       "MTRAN_Y                                                                                                                                                                                                                                                                                                                        -788.0813     27.085    -29.097      0.000    -841.167    -734.995\n",
       "NO_RISKS_1                                                                                                                                                                                                                                                                                                                      193.0694      5.183     37.249      0.000     182.910     203.228\n",
       "PAY_1                                                                                                                                                                                                                                                                                                                           -26.2904      4.365     -6.023      0.000     -34.846     -17.735\n",
       "PRECARE                                                                                                                                                                                                                                                                                                                          19.7813      1.260     15.703      0.000      17.312      22.250\n",
       "PREVIS                                                                                                                                                                                                                                                                                                                           15.7247      0.438     35.898      0.000      14.866      16.583\n",
       "PRIORDEAD_cat_Yes                                                                                                                                                                                                                                                                                                              -131.9965     16.958     -7.784      0.000    -165.235     -98.759\n",
       "RDMETH_REC_3                                                                                                                                                                                                                                                                                                                    -77.1344      5.020    -15.366      0.000     -86.973     -67.295\n",
       "RF_CESAR_Y                                                                                                                                                                                                                                                                                                                      138.4735      6.986     19.821      0.000     124.780     152.167\n",
       "==============================================================================\n",
       "Omnibus:                    11030.991   Durbin-Watson:                   2.006\n",
       "Prob(Omnibus):                  0.000   Jarque-Bera (JB):            33639.756\n",
       "Skew:                          -0.680   Prob(JB):                         0.00\n",
       "Kurtosis:                       5.749   Cond. No.                     1.01e+16\n",
       "==============================================================================\n",
       "\n",
       "Warnings:\n",
       "[1] Standard Errors assume that the covariance matrix of the errors is correctly specified.\n",
       "[2] The smallest eigenvalue is 4.41e-24. This might indicate that there are\n",
       "strong multicollinearity problems or that the design matrix is singular.\n",
       "\"\"\""
      ]
     },
     "execution_count": 452,
     "metadata": {},
     "output_type": "execute_result"
    }
   ],
   "source": [
    "_X['DBWT'] = y\n",
    "from statsmodels.formula.api import ols\n",
    "formula = 'DBWT~BMI_log+WTGAIN+M_Ht_In+smoked_None+smoked_None+SEX_M+BFACIL_1+ATTEND_1+DMAR_1+FRACE6_1+FEDUC_3+FRACE6_1+first_birth+plural_delivery_0+first_natal+LD_INDL_N\\\n",
    "+MBSTATE_REC_1+MEDUC_6+MHISPX_0+MRAVE6_2+MRAVE6_1+MTRAN_Y+NO_RISKS_1+PAY_1+PRECARE+PREVIS+PRIORDEAD_cat_Yes+RDMETH_REC_3+RF_CESAR_Y+MAGER_smoked'\n",
    "model = ols(formula=formula, data=_X).fit()\n",
    "model.summary()"
   ]
  },
  {
   "cell_type": "code",
   "execution_count": null,
   "metadata": {},
   "outputs": [],
   "source": []
  },
  {
   "cell_type": "code",
   "execution_count": null,
   "metadata": {},
   "outputs": [],
   "source": []
  },
  {
   "cell_type": "code",
   "execution_count": null,
   "metadata": {},
   "outputs": [],
   "source": []
  },
  {
   "cell_type": "code",
   "execution_count": 230,
   "metadata": {},
   "outputs": [
    {
     "data": {
      "text/plain": [
       "Index(['BMI', 'FAGECOMB', 'first_birth', 'plural_delivery', 'first_pregnancy',\n",
       "       'plural_delivery', 'first_natal', 'MAGER', '35AGE_older', 'PRECARE',\n",
       "       ...\n",
       "       'RDMETH_REC_4', 'RDMETH_REC_5', 'RDMETH_REC_6', 'RDMETH_REC_9',\n",
       "       'RESTATUS_2', 'RESTATUS_3', 'RESTATUS_4', 'RF_CESAR_U', 'RF_CESAR_Y',\n",
       "       'SEX_M'],\n",
       "      dtype='object', length=114)"
      ]
     },
     "execution_count": 230,
     "metadata": {},
     "output_type": "execute_result"
    }
   ],
   "source": [
    "_X.columns\n"
   ]
  },
  {
   "cell_type": "code",
   "execution_count": 231,
   "metadata": {},
   "outputs": [],
   "source": [
    "# poly_2 = PolynomialFeatures(degree=2, include_bias=False)\n",
    "# poly2_data = poly_2.fit_transform(_X)\n",
    "# poly2_columns = poly_2.get_feature_names(_X.columns)\n",
    "# df_poly2 = pd.DataFrame(poly2_data, columns = poly2_columns)\n",
    "# df_poly2.shape"
   ]
  },
  {
   "cell_type": "code",
   "execution_count": 232,
   "metadata": {},
   "outputs": [],
   "source": [
    "# _df = _X.corr().abs().stack().reset_index().sort_values(0, ascending=False)\n",
    "# _df['pairs'] = list(zip(_df.level_0, _df.level_1))\n",
    "# _df.set_index(['pairs'], inplace=True)\n",
    "# _df.drop(columns =['level_1', 'level_0'], inplace=True)\n",
    "# _df.columns = ['cc']\n",
    "# _df.drop_duplicates(inplace=True)\n",
    "# _to_remove = _df[(_df.cc>.75) & (_df.cc<1)]\n",
    "# _to_remove"
   ]
  },
  {
   "cell_type": "code",
   "execution_count": null,
   "metadata": {},
   "outputs": [],
   "source": []
  },
  {
   "cell_type": "code",
   "execution_count": null,
   "metadata": {},
   "outputs": [],
   "source": []
  },
  {
   "cell_type": "code",
   "execution_count": null,
   "metadata": {},
   "outputs": [],
   "source": []
  },
  {
   "cell_type": "code",
   "execution_count": 403,
   "metadata": {},
   "outputs": [
    {
     "data": {
      "text/plain": [
       "(85804, 158)"
      ]
     },
     "execution_count": 403,
     "metadata": {},
     "output_type": "execute_result"
    }
   ],
   "source": [
    "_X.shape"
   ]
  },
  {
   "cell_type": "code",
   "execution_count": 404,
   "metadata": {},
   "outputs": [],
   "source": [
    "X_train, X_test, y_train, y_test = train_test_split(_X, y, random_state = 42, test_size= 0.2)\n"
   ]
  },
  {
   "cell_type": "code",
   "execution_count": 405,
   "metadata": {},
   "outputs": [],
   "source": [
    "from sklearn.preprocessing import StandardScaler\n",
    "scaler = StandardScaler()\n",
    "X_train = scaler.fit_transform(X_train)\n",
    "X_train = pd.DataFrame(data=X_train, columns = _X.columns)\n",
    "X_test = scaler.transform(X_test)\n",
    "X_test= pd.DataFrame(data=X_test, columns = _X.columns)"
   ]
  },
  {
   "cell_type": "code",
   "execution_count": 406,
   "metadata": {},
   "outputs": [],
   "source": [
    "# _X.corr()"
   ]
  },
  {
   "cell_type": "code",
   "execution_count": 407,
   "metadata": {},
   "outputs": [
    {
     "name": "stderr",
     "output_type": "stream",
     "text": [
      "[Parallel(n_jobs=1)]: Using backend SequentialBackend with 1 concurrent workers.\n",
      ".............................................................................................C:\\Users\\albert\\Anaconda3\\lib\\site-packages\\sklearn\\linear_model\\_coordinate_descent.py:472: ConvergenceWarning: Objective did not converge. You might want to increase the number of iterations. Duality gap: 6035303.332960129, tolerance: 1836747.018742115\n",
      "  tol, rng, random, positive)\n",
      ".C:\\Users\\albert\\Anaconda3\\lib\\site-packages\\sklearn\\linear_model\\_coordinate_descent.py:472: ConvergenceWarning: Objective did not converge. You might want to increase the number of iterations. Duality gap: 14055935.559274673, tolerance: 1836747.018742115\n",
      "  tol, rng, random, positive)\n",
      ".C:\\Users\\albert\\Anaconda3\\lib\\site-packages\\sklearn\\linear_model\\_coordinate_descent.py:472: ConvergenceWarning: Objective did not converge. You might want to increase the number of iterations. Duality gap: 23269288.495998383, tolerance: 1836747.018742115\n",
      "  tol, rng, random, positive)\n",
      ".C:\\Users\\albert\\Anaconda3\\lib\\site-packages\\sklearn\\linear_model\\_coordinate_descent.py:472: ConvergenceWarning: Objective did not converge. You might want to increase the number of iterations. Duality gap: 32736596.46988678, tolerance: 1836747.018742115\n",
      "  tol, rng, random, positive)\n",
      ".C:\\Users\\albert\\Anaconda3\\lib\\site-packages\\sklearn\\linear_model\\_coordinate_descent.py:472: ConvergenceWarning: Objective did not converge. You might want to increase the number of iterations. Duality gap: 41917525.37536621, tolerance: 1836747.018742115\n",
      "  tol, rng, random, positive)\n",
      ".......................................................................................................................................................................................................C:\\Users\\albert\\Anaconda3\\lib\\site-packages\\sklearn\\linear_model\\_coordinate_descent.py:472: ConvergenceWarning: Objective did not converge. You might want to increase the number of iterations. Duality gap: 3664014.1183948517, tolerance: 1825985.0843797289\n",
      "  tol, rng, random, positive)\n",
      ".C:\\Users\\albert\\Anaconda3\\lib\\site-packages\\sklearn\\linear_model\\_coordinate_descent.py:472: ConvergenceWarning: Objective did not converge. You might want to increase the number of iterations. Duality gap: 9483039.618654251, tolerance: 1825985.0843797289\n",
      "  tol, rng, random, positive)\n",
      ".C:\\Users\\albert\\Anaconda3\\lib\\site-packages\\sklearn\\linear_model\\_coordinate_descent.py:472: ConvergenceWarning: Objective did not converge. You might want to increase the number of iterations. Duality gap: 16408027.76928711, tolerance: 1825985.0843797289\n",
      "  tol, rng, random, positive)\n",
      ".C:\\Users\\albert\\Anaconda3\\lib\\site-packages\\sklearn\\linear_model\\_coordinate_descent.py:472: ConvergenceWarning: Objective did not converge. You might want to increase the number of iterations. Duality gap: 23653495.398061752, tolerance: 1825985.0843797289\n",
      "  tol, rng, random, positive)\n",
      "...............................................................................................C:\\Users\\albert\\Anaconda3\\lib\\site-packages\\sklearn\\linear_model\\_coordinate_descent.py:472: ConvergenceWarning: Objective did not converge. You might want to increase the number of iterations. Duality gap: 5707063.698553085, tolerance: 1833660.4580825677\n",
      "  tol, rng, random, positive)\n",
      ".C:\\Users\\albert\\Anaconda3\\lib\\site-packages\\sklearn\\linear_model\\_coordinate_descent.py:472: ConvergenceWarning: Objective did not converge. You might want to increase the number of iterations. Duality gap: 13197850.54598999, tolerance: 1833660.4580825677\n",
      "  tol, rng, random, positive)\n",
      ".C:\\Users\\albert\\Anaconda3\\lib\\site-packages\\sklearn\\linear_model\\_coordinate_descent.py:472: ConvergenceWarning: Objective did not converge. You might want to increase the number of iterations. Duality gap: 18875956.526901245, tolerance: 1833660.4580825677\n",
      "  tol, rng, random, positive)\n",
      ".C:\\Users\\albert\\Anaconda3\\lib\\site-packages\\sklearn\\linear_model\\_coordinate_descent.py:472: ConvergenceWarning: Objective did not converge. You might want to increase the number of iterations. Duality gap: 25844987.661462784, tolerance: 1833660.4580825677\n",
      "  tol, rng, random, positive)\n",
      ".C:\\Users\\albert\\Anaconda3\\lib\\site-packages\\sklearn\\linear_model\\_coordinate_descent.py:472: ConvergenceWarning: Objective did not converge. You might want to increase the number of iterations. Duality gap: 7582785.803012848, tolerance: 1833660.4580825677\n",
      "  tol, rng, random, positive)\n",
      ".C:\\Users\\albert\\Anaconda3\\lib\\site-packages\\sklearn\\linear_model\\_coordinate_descent.py:472: ConvergenceWarning: Objective did not converge. You might want to increase the number of iterations. Duality gap: 15715065.080392838, tolerance: 1833660.4580825677\n",
      "  tol, rng, random, positive)\n",
      ".....................................................................................................[Parallel(n_jobs=1)]: Done   5 out of   5 | elapsed:    3.4s finished\n"
     ]
    },
    {
     "data": {
      "text/plain": [
       "LassoCV(alphas=None, copy_X=True, cv=5, eps=0.001, fit_intercept=True,\n",
       "        max_iter=1000, n_alphas=100, n_jobs=None, normalize=False,\n",
       "        positive=False, precompute='auto', random_state=42, selection='cyclic',\n",
       "        tol=0.0001, verbose=1)"
      ]
     },
     "execution_count": 407,
     "metadata": {},
     "output_type": "execute_result"
    }
   ],
   "source": [
    "lasso_cv = LassoCV(cv=5, random_state=42, verbose=1)\n",
    "lasso_cv.fit(X_train, y_train)"
   ]
  },
  {
   "cell_type": "code",
   "execution_count": 408,
   "metadata": {},
   "outputs": [],
   "source": [
    "y_train_pred = lasso_cv.predict(X_train)\n",
    "y_test_pred = lasso_cv.predict(X_test)"
   ]
  },
  {
   "cell_type": "code",
   "execution_count": 409,
   "metadata": {},
   "outputs": [
    {
     "data": {
      "text/plain": [
       "517.9198369010278"
      ]
     },
     "execution_count": 409,
     "metadata": {},
     "output_type": "execute_result"
    }
   ],
   "source": [
    "np.sqrt(metrics.mean_squared_error(y_train,y_train_pred))"
   ]
  },
  {
   "cell_type": "code",
   "execution_count": 410,
   "metadata": {},
   "outputs": [
    {
     "data": {
      "text/plain": [
       "519.9098861161658"
      ]
     },
     "execution_count": 410,
     "metadata": {},
     "output_type": "execute_result"
    }
   ],
   "source": [
    "np.sqrt(metrics.mean_squared_error(y_test, y_test_pred))"
   ]
  },
  {
   "cell_type": "code",
   "execution_count": 411,
   "metadata": {},
   "outputs": [
    {
     "data": {
      "text/plain": [
       "0.19745628352906086"
      ]
     },
     "execution_count": 411,
     "metadata": {},
     "output_type": "execute_result"
    }
   ],
   "source": [
    "lasso_cv.score(X_train, y_train)"
   ]
  },
  {
   "cell_type": "code",
   "execution_count": 241,
   "metadata": {},
   "outputs": [
    {
     "data": {
      "text/plain": [
       "count    85804.000000\n",
       "mean      3285.694968\n",
       "std        578.025858\n",
       "min        245.000000\n",
       "25%       2990.000000\n",
       "50%       3320.000000\n",
       "75%       3644.000000\n",
       "max       8165.000000\n",
       "Name: DBWT, dtype: float64"
      ]
     },
     "execution_count": 241,
     "metadata": {},
     "output_type": "execute_result"
    }
   ],
   "source": [
    "y.describe()"
   ]
  },
  {
   "cell_type": "code",
   "execution_count": 242,
   "metadata": {},
   "outputs": [
    {
     "data": {
      "text/html": [
       "<div>\n",
       "<style scoped>\n",
       "    .dataframe tbody tr th:only-of-type {\n",
       "        vertical-align: middle;\n",
       "    }\n",
       "\n",
       "    .dataframe tbody tr th {\n",
       "        vertical-align: top;\n",
       "    }\n",
       "\n",
       "    .dataframe thead th {\n",
       "        text-align: right;\n",
       "    }\n",
       "</style>\n",
       "<table border=\"1\" class=\"dataframe\">\n",
       "  <thead>\n",
       "    <tr style=\"text-align: right;\">\n",
       "      <th></th>\n",
       "      <th>variables</th>\n",
       "      <th>coefficients</th>\n",
       "    </tr>\n",
       "  </thead>\n",
       "  <tbody>\n",
       "    <tr>\n",
       "      <th>3</th>\n",
       "      <td>plural_delivery</td>\n",
       "      <td>-109.830032</td>\n",
       "    </tr>\n",
       "    <tr>\n",
       "      <th>11</th>\n",
       "      <td>PWgt_R</td>\n",
       "      <td>-63.198925</td>\n",
       "    </tr>\n",
       "    <tr>\n",
       "      <th>76</th>\n",
       "      <td>MRAVE6_2</td>\n",
       "      <td>-53.819050</td>\n",
       "    </tr>\n",
       "    <tr>\n",
       "      <th>82</th>\n",
       "      <td>MTRAN_Y</td>\n",
       "      <td>-52.061017</td>\n",
       "    </tr>\n",
       "    <tr>\n",
       "      <th>50</th>\n",
       "      <td>FRACE6_4</td>\n",
       "      <td>-29.174233</td>\n",
       "    </tr>\n",
       "    <tr>\n",
       "      <th>103</th>\n",
       "      <td>RDMETH_REC_3</td>\n",
       "      <td>-26.037273</td>\n",
       "    </tr>\n",
       "    <tr>\n",
       "      <th>48</th>\n",
       "      <td>FRACE6_2</td>\n",
       "      <td>-23.931412</td>\n",
       "    </tr>\n",
       "    <tr>\n",
       "      <th>0</th>\n",
       "      <td>BMI</td>\n",
       "      <td>-19.731219</td>\n",
       "    </tr>\n",
       "    <tr>\n",
       "      <th>108</th>\n",
       "      <td>RESTATUS_2</td>\n",
       "      <td>-15.594600</td>\n",
       "    </tr>\n",
       "    <tr>\n",
       "      <th>41</th>\n",
       "      <td>FEDUC_3</td>\n",
       "      <td>-13.244054</td>\n",
       "    </tr>\n",
       "    <tr>\n",
       "      <th>97</th>\n",
       "      <td>PRIORDEAD_cat_Yes</td>\n",
       "      <td>-13.225543</td>\n",
       "    </tr>\n",
       "    <tr>\n",
       "      <th>8</th>\n",
       "      <td>35AGE_older</td>\n",
       "      <td>-10.149812</td>\n",
       "    </tr>\n",
       "    <tr>\n",
       "      <th>61</th>\n",
       "      <td>MEDUC_2</td>\n",
       "      <td>-9.600176</td>\n",
       "    </tr>\n",
       "    <tr>\n",
       "      <th>1</th>\n",
       "      <td>FAGECOMB</td>\n",
       "      <td>-9.485013</td>\n",
       "    </tr>\n",
       "    <tr>\n",
       "      <th>54</th>\n",
       "      <td>IP_GON_U</td>\n",
       "      <td>-9.281618</td>\n",
       "    </tr>\n",
       "    <tr>\n",
       "      <th>80</th>\n",
       "      <td>MRAVE6_6</td>\n",
       "      <td>-8.200286</td>\n",
       "    </tr>\n",
       "    <tr>\n",
       "      <th>62</th>\n",
       "      <td>MEDUC_3</td>\n",
       "      <td>-7.703480</td>\n",
       "    </tr>\n",
       "    <tr>\n",
       "      <th>85</th>\n",
       "      <td>NO_MMORB_1</td>\n",
       "      <td>-7.596603</td>\n",
       "    </tr>\n",
       "    <tr>\n",
       "      <th>69</th>\n",
       "      <td>MHISPX_1</td>\n",
       "      <td>-7.217005</td>\n",
       "    </tr>\n",
       "    <tr>\n",
       "      <th>7</th>\n",
       "      <td>MAGER</td>\n",
       "      <td>-7.111781</td>\n",
       "    </tr>\n",
       "    <tr>\n",
       "      <th>63</th>\n",
       "      <td>MEDUC_4</td>\n",
       "      <td>-7.056464</td>\n",
       "    </tr>\n",
       "    <tr>\n",
       "      <th>40</th>\n",
       "      <td>FEDUC_2</td>\n",
       "      <td>-6.907903</td>\n",
       "    </tr>\n",
       "    <tr>\n",
       "      <th>101</th>\n",
       "      <td>PRIORTERM_cat_Yes</td>\n",
       "      <td>-6.552658</td>\n",
       "    </tr>\n",
       "    <tr>\n",
       "      <th>47</th>\n",
       "      <td>FEDUC_9</td>\n",
       "      <td>-6.515554</td>\n",
       "    </tr>\n",
       "    <tr>\n",
       "      <th>74</th>\n",
       "      <td>MHISPX_6</td>\n",
       "      <td>-6.396538</td>\n",
       "    </tr>\n",
       "    <tr>\n",
       "      <th>53</th>\n",
       "      <td>FRACE6_9</td>\n",
       "      <td>-6.058940</td>\n",
       "    </tr>\n",
       "    <tr>\n",
       "      <th>70</th>\n",
       "      <td>MHISPX_2</td>\n",
       "      <td>-5.667893</td>\n",
       "    </tr>\n",
       "    <tr>\n",
       "      <th>58</th>\n",
       "      <td>MAR_IMP_1</td>\n",
       "      <td>-4.887252</td>\n",
       "    </tr>\n",
       "    <tr>\n",
       "      <th>52</th>\n",
       "      <td>FRACE6_6</td>\n",
       "      <td>-4.685960</td>\n",
       "    </tr>\n",
       "    <tr>\n",
       "      <th>64</th>\n",
       "      <td>MEDUC_5</td>\n",
       "      <td>-4.583793</td>\n",
       "    </tr>\n",
       "    <tr>\n",
       "      <th>51</th>\n",
       "      <td>FRACE6_5</td>\n",
       "      <td>-4.569013</td>\n",
       "    </tr>\n",
       "    <tr>\n",
       "      <th>109</th>\n",
       "      <td>RESTATUS_3</td>\n",
       "      <td>-4.551739</td>\n",
       "    </tr>\n",
       "    <tr>\n",
       "      <th>72</th>\n",
       "      <td>MHISPX_4</td>\n",
       "      <td>-4.225014</td>\n",
       "    </tr>\n",
       "    <tr>\n",
       "      <th>39</th>\n",
       "      <td>DOB_MM_12</td>\n",
       "      <td>-4.216135</td>\n",
       "    </tr>\n",
       "    <tr>\n",
       "      <th>19</th>\n",
       "      <td>ATTEND_9</td>\n",
       "      <td>-2.947496</td>\n",
       "    </tr>\n",
       "    <tr>\n",
       "      <th>22</th>\n",
       "      <td>BFACIL_4</td>\n",
       "      <td>-2.174351</td>\n",
       "    </tr>\n",
       "    <tr>\n",
       "      <th>67</th>\n",
       "      <td>MEDUC_8</td>\n",
       "      <td>-2.171349</td>\n",
       "    </tr>\n",
       "    <tr>\n",
       "      <th>78</th>\n",
       "      <td>MRAVE6_4</td>\n",
       "      <td>-1.631639</td>\n",
       "    </tr>\n",
       "    <tr>\n",
       "      <th>94</th>\n",
       "      <td>PAY_8</td>\n",
       "      <td>-1.187040</td>\n",
       "    </tr>\n",
       "    <tr>\n",
       "      <th>75</th>\n",
       "      <td>MHISPX_9</td>\n",
       "      <td>-1.016117</td>\n",
       "    </tr>\n",
       "    <tr>\n",
       "      <th>86</th>\n",
       "      <td>NO_MMORB_9</td>\n",
       "      <td>-0.793312</td>\n",
       "    </tr>\n",
       "    <tr>\n",
       "      <th>31</th>\n",
       "      <td>DOB_MM_4</td>\n",
       "      <td>-0.718903</td>\n",
       "    </tr>\n",
       "    <tr>\n",
       "      <th>49</th>\n",
       "      <td>FRACE6_3</td>\n",
       "      <td>-0.595921</td>\n",
       "    </tr>\n",
       "    <tr>\n",
       "      <th>30</th>\n",
       "      <td>DOB_MM_3</td>\n",
       "      <td>-0.486470</td>\n",
       "    </tr>\n",
       "    <tr>\n",
       "      <th>42</th>\n",
       "      <td>FEDUC_4</td>\n",
       "      <td>-0.443422</td>\n",
       "    </tr>\n",
       "    <tr>\n",
       "      <th>37</th>\n",
       "      <td>DOB_MM_10</td>\n",
       "      <td>-0.233965</td>\n",
       "    </tr>\n",
       "    <tr>\n",
       "      <th>68</th>\n",
       "      <td>MEDUC_9</td>\n",
       "      <td>-0.221166</td>\n",
       "    </tr>\n",
       "    <tr>\n",
       "      <th>110</th>\n",
       "      <td>RESTATUS_4</td>\n",
       "      <td>-0.214187</td>\n",
       "    </tr>\n",
       "    <tr>\n",
       "      <th>84</th>\n",
       "      <td>NO_INFEC_9</td>\n",
       "      <td>-0.000018</td>\n",
       "    </tr>\n",
       "    <tr>\n",
       "      <th>96</th>\n",
       "      <td>PRIORDEAD_cat_Unknown</td>\n",
       "      <td>-0.000000</td>\n",
       "    </tr>\n",
       "    <tr>\n",
       "      <th>2</th>\n",
       "      <td>first_birth</td>\n",
       "      <td>-0.000000</td>\n",
       "    </tr>\n",
       "    <tr>\n",
       "      <th>111</th>\n",
       "      <td>RF_CESAR_U</td>\n",
       "      <td>0.000000</td>\n",
       "    </tr>\n",
       "    <tr>\n",
       "      <th>6</th>\n",
       "      <td>first_natal</td>\n",
       "      <td>0.000000</td>\n",
       "    </tr>\n",
       "    <tr>\n",
       "      <th>71</th>\n",
       "      <td>MHISPX_3</td>\n",
       "      <td>0.000000</td>\n",
       "    </tr>\n",
       "    <tr>\n",
       "      <th>55</th>\n",
       "      <td>IP_GON_Y</td>\n",
       "      <td>-0.000000</td>\n",
       "    </tr>\n",
       "    <tr>\n",
       "      <th>35</th>\n",
       "      <td>DOB_MM_8</td>\n",
       "      <td>-0.000000</td>\n",
       "    </tr>\n",
       "    <tr>\n",
       "      <th>4</th>\n",
       "      <td>first_pregnancy</td>\n",
       "      <td>0.000000</td>\n",
       "    </tr>\n",
       "    <tr>\n",
       "      <th>105</th>\n",
       "      <td>RDMETH_REC_5</td>\n",
       "      <td>0.000000</td>\n",
       "    </tr>\n",
       "    <tr>\n",
       "      <th>24</th>\n",
       "      <td>BFACIL_6</td>\n",
       "      <td>0.000000</td>\n",
       "    </tr>\n",
       "    <tr>\n",
       "      <th>38</th>\n",
       "      <td>DOB_MM_11</td>\n",
       "      <td>-0.000000</td>\n",
       "    </tr>\n",
       "    <tr>\n",
       "      <th>5</th>\n",
       "      <td>plural_delivery</td>\n",
       "      <td>-0.000000</td>\n",
       "    </tr>\n",
       "    <tr>\n",
       "      <th>104</th>\n",
       "      <td>RDMETH_REC_4</td>\n",
       "      <td>0.000000</td>\n",
       "    </tr>\n",
       "    <tr>\n",
       "      <th>34</th>\n",
       "      <td>DOB_MM_7</td>\n",
       "      <td>-0.000000</td>\n",
       "    </tr>\n",
       "    <tr>\n",
       "      <th>79</th>\n",
       "      <td>MRAVE6_5</td>\n",
       "      <td>0.129049</td>\n",
       "    </tr>\n",
       "    <tr>\n",
       "      <th>95</th>\n",
       "      <td>PAY_9</td>\n",
       "      <td>0.245860</td>\n",
       "    </tr>\n",
       "    <tr>\n",
       "      <th>26</th>\n",
       "      <td>BFACIL_9</td>\n",
       "      <td>0.420584</td>\n",
       "    </tr>\n",
       "    <tr>\n",
       "      <th>33</th>\n",
       "      <td>DOB_MM_6</td>\n",
       "      <td>0.617800</td>\n",
       "    </tr>\n",
       "    <tr>\n",
       "      <th>73</th>\n",
       "      <td>MHISPX_5</td>\n",
       "      <td>0.628922</td>\n",
       "    </tr>\n",
       "    <tr>\n",
       "      <th>43</th>\n",
       "      <td>FEDUC_5</td>\n",
       "      <td>0.664552</td>\n",
       "    </tr>\n",
       "    <tr>\n",
       "      <th>32</th>\n",
       "      <td>DOB_MM_5</td>\n",
       "      <td>1.079011</td>\n",
       "    </tr>\n",
       "    <tr>\n",
       "      <th>106</th>\n",
       "      <td>RDMETH_REC_6</td>\n",
       "      <td>1.138287</td>\n",
       "    </tr>\n",
       "    <tr>\n",
       "      <th>77</th>\n",
       "      <td>MRAVE6_3</td>\n",
       "      <td>1.165812</td>\n",
       "    </tr>\n",
       "    <tr>\n",
       "      <th>107</th>\n",
       "      <td>RDMETH_REC_9</td>\n",
       "      <td>1.545233</td>\n",
       "    </tr>\n",
       "    <tr>\n",
       "      <th>18</th>\n",
       "      <td>ATTEND_5</td>\n",
       "      <td>1.568294</td>\n",
       "    </tr>\n",
       "    <tr>\n",
       "      <th>45</th>\n",
       "      <td>FEDUC_7</td>\n",
       "      <td>1.909102</td>\n",
       "    </tr>\n",
       "    <tr>\n",
       "      <th>23</th>\n",
       "      <td>BFACIL_5</td>\n",
       "      <td>1.998520</td>\n",
       "    </tr>\n",
       "    <tr>\n",
       "      <th>100</th>\n",
       "      <td>PRIORTERM_cat_Unknown</td>\n",
       "      <td>2.128682</td>\n",
       "    </tr>\n",
       "    <tr>\n",
       "      <th>66</th>\n",
       "      <td>MEDUC_7</td>\n",
       "      <td>2.271476</td>\n",
       "    </tr>\n",
       "    <tr>\n",
       "      <th>93</th>\n",
       "      <td>PAY_6</td>\n",
       "      <td>2.399312</td>\n",
       "    </tr>\n",
       "    <tr>\n",
       "      <th>102</th>\n",
       "      <td>RDMETH_REC_2</td>\n",
       "      <td>2.744338</td>\n",
       "    </tr>\n",
       "    <tr>\n",
       "      <th>28</th>\n",
       "      <td>smoked_Unknown</td>\n",
       "      <td>2.831552</td>\n",
       "    </tr>\n",
       "    <tr>\n",
       "      <th>83</th>\n",
       "      <td>NO_INFEC_1</td>\n",
       "      <td>2.832925</td>\n",
       "    </tr>\n",
       "    <tr>\n",
       "      <th>60</th>\n",
       "      <td>MBSTATE_REC_3</td>\n",
       "      <td>2.834817</td>\n",
       "    </tr>\n",
       "    <tr>\n",
       "      <th>46</th>\n",
       "      <td>FEDUC_8</td>\n",
       "      <td>2.869991</td>\n",
       "    </tr>\n",
       "    <tr>\n",
       "      <th>15</th>\n",
       "      <td>ATTEND_2</td>\n",
       "      <td>2.950748</td>\n",
       "    </tr>\n",
       "    <tr>\n",
       "      <th>81</th>\n",
       "      <td>MTRAN_U</td>\n",
       "      <td>2.955069</td>\n",
       "    </tr>\n",
       "    <tr>\n",
       "      <th>25</th>\n",
       "      <td>BFACIL_7</td>\n",
       "      <td>3.023129</td>\n",
       "    </tr>\n",
       "    <tr>\n",
       "      <th>29</th>\n",
       "      <td>DOB_MM_2</td>\n",
       "      <td>3.119615</td>\n",
       "    </tr>\n",
       "    <tr>\n",
       "      <th>36</th>\n",
       "      <td>DOB_MM_9</td>\n",
       "      <td>3.192436</td>\n",
       "    </tr>\n",
       "    <tr>\n",
       "      <th>65</th>\n",
       "      <td>MEDUC_6</td>\n",
       "      <td>3.362906</td>\n",
       "    </tr>\n",
       "    <tr>\n",
       "      <th>56</th>\n",
       "      <td>LD_INDL_U</td>\n",
       "      <td>3.767827</td>\n",
       "    </tr>\n",
       "    <tr>\n",
       "      <th>92</th>\n",
       "      <td>PAY_5</td>\n",
       "      <td>3.972113</td>\n",
       "    </tr>\n",
       "    <tr>\n",
       "      <th>91</th>\n",
       "      <td>PAY_4</td>\n",
       "      <td>5.769678</td>\n",
       "    </tr>\n",
       "    <tr>\n",
       "      <th>44</th>\n",
       "      <td>FEDUC_6</td>\n",
       "      <td>6.496586</td>\n",
       "    </tr>\n",
       "    <tr>\n",
       "      <th>88</th>\n",
       "      <td>NO_RISKS_9</td>\n",
       "      <td>6.617109</td>\n",
       "    </tr>\n",
       "    <tr>\n",
       "      <th>90</th>\n",
       "      <td>PAY_3</td>\n",
       "      <td>6.618201</td>\n",
       "    </tr>\n",
       "    <tr>\n",
       "      <th>17</th>\n",
       "      <td>ATTEND_4</td>\n",
       "      <td>6.938323</td>\n",
       "    </tr>\n",
       "    <tr>\n",
       "      <th>98</th>\n",
       "      <td>PRIORLIVE_cat_Unknown</td>\n",
       "      <td>7.045721</td>\n",
       "    </tr>\n",
       "    <tr>\n",
       "      <th>20</th>\n",
       "      <td>BFACIL_2</td>\n",
       "      <td>7.789978</td>\n",
       "    </tr>\n",
       "    <tr>\n",
       "      <th>89</th>\n",
       "      <td>PAY_2</td>\n",
       "      <td>10.198859</td>\n",
       "    </tr>\n",
       "    <tr>\n",
       "      <th>21</th>\n",
       "      <td>BFACIL_3</td>\n",
       "      <td>18.261197</td>\n",
       "    </tr>\n",
       "    <tr>\n",
       "      <th>16</th>\n",
       "      <td>ATTEND_3</td>\n",
       "      <td>23.542532</td>\n",
       "    </tr>\n",
       "    <tr>\n",
       "      <th>59</th>\n",
       "      <td>MBSTATE_REC_2</td>\n",
       "      <td>27.595902</td>\n",
       "    </tr>\n",
       "    <tr>\n",
       "      <th>9</th>\n",
       "      <td>PRECARE</td>\n",
       "      <td>28.597687</td>\n",
       "    </tr>\n",
       "    <tr>\n",
       "      <th>57</th>\n",
       "      <td>LD_INDL_Y</td>\n",
       "      <td>29.981211</td>\n",
       "    </tr>\n",
       "    <tr>\n",
       "      <th>27</th>\n",
       "      <td>smoked_None</td>\n",
       "      <td>35.941233</td>\n",
       "    </tr>\n",
       "    <tr>\n",
       "      <th>112</th>\n",
       "      <td>RF_CESAR_Y</td>\n",
       "      <td>50.933511</td>\n",
       "    </tr>\n",
       "    <tr>\n",
       "      <th>113</th>\n",
       "      <td>SEX_M</td>\n",
       "      <td>53.773368</td>\n",
       "    </tr>\n",
       "    <tr>\n",
       "      <th>99</th>\n",
       "      <td>PRIORLIVE_cat_Yes</td>\n",
       "      <td>60.060387</td>\n",
       "    </tr>\n",
       "    <tr>\n",
       "      <th>10</th>\n",
       "      <td>PREVIS</td>\n",
       "      <td>66.588611</td>\n",
       "    </tr>\n",
       "    <tr>\n",
       "      <th>87</th>\n",
       "      <td>NO_RISKS_1</td>\n",
       "      <td>88.082334</td>\n",
       "    </tr>\n",
       "    <tr>\n",
       "      <th>13</th>\n",
       "      <td>M_Ht_In</td>\n",
       "      <td>91.670077</td>\n",
       "    </tr>\n",
       "    <tr>\n",
       "      <th>14</th>\n",
       "      <td>WTGAIN</td>\n",
       "      <td>113.384222</td>\n",
       "    </tr>\n",
       "    <tr>\n",
       "      <th>12</th>\n",
       "      <td>BMI_log</td>\n",
       "      <td>176.127075</td>\n",
       "    </tr>\n",
       "  </tbody>\n",
       "</table>\n",
       "</div>"
      ],
      "text/plain": [
       "                 variables  coefficients\n",
       "3          plural_delivery   -109.830032\n",
       "11                  PWgt_R    -63.198925\n",
       "76                MRAVE6_2    -53.819050\n",
       "82                 MTRAN_Y    -52.061017\n",
       "50                FRACE6_4    -29.174233\n",
       "103           RDMETH_REC_3    -26.037273\n",
       "48                FRACE6_2    -23.931412\n",
       "0                      BMI    -19.731219\n",
       "108             RESTATUS_2    -15.594600\n",
       "41                 FEDUC_3    -13.244054\n",
       "97       PRIORDEAD_cat_Yes    -13.225543\n",
       "8              35AGE_older    -10.149812\n",
       "61                 MEDUC_2     -9.600176\n",
       "1                 FAGECOMB     -9.485013\n",
       "54                IP_GON_U     -9.281618\n",
       "80                MRAVE6_6     -8.200286\n",
       "62                 MEDUC_3     -7.703480\n",
       "85              NO_MMORB_1     -7.596603\n",
       "69                MHISPX_1     -7.217005\n",
       "7                    MAGER     -7.111781\n",
       "63                 MEDUC_4     -7.056464\n",
       "40                 FEDUC_2     -6.907903\n",
       "101      PRIORTERM_cat_Yes     -6.552658\n",
       "47                 FEDUC_9     -6.515554\n",
       "74                MHISPX_6     -6.396538\n",
       "53                FRACE6_9     -6.058940\n",
       "70                MHISPX_2     -5.667893\n",
       "58               MAR_IMP_1     -4.887252\n",
       "52                FRACE6_6     -4.685960\n",
       "64                 MEDUC_5     -4.583793\n",
       "51                FRACE6_5     -4.569013\n",
       "109             RESTATUS_3     -4.551739\n",
       "72                MHISPX_4     -4.225014\n",
       "39               DOB_MM_12     -4.216135\n",
       "19                ATTEND_9     -2.947496\n",
       "22                BFACIL_4     -2.174351\n",
       "67                 MEDUC_8     -2.171349\n",
       "78                MRAVE6_4     -1.631639\n",
       "94                   PAY_8     -1.187040\n",
       "75                MHISPX_9     -1.016117\n",
       "86              NO_MMORB_9     -0.793312\n",
       "31                DOB_MM_4     -0.718903\n",
       "49                FRACE6_3     -0.595921\n",
       "30                DOB_MM_3     -0.486470\n",
       "42                 FEDUC_4     -0.443422\n",
       "37               DOB_MM_10     -0.233965\n",
       "68                 MEDUC_9     -0.221166\n",
       "110             RESTATUS_4     -0.214187\n",
       "84              NO_INFEC_9     -0.000018\n",
       "96   PRIORDEAD_cat_Unknown     -0.000000\n",
       "2              first_birth     -0.000000\n",
       "111             RF_CESAR_U      0.000000\n",
       "6              first_natal      0.000000\n",
       "71                MHISPX_3      0.000000\n",
       "55                IP_GON_Y     -0.000000\n",
       "35                DOB_MM_8     -0.000000\n",
       "4          first_pregnancy      0.000000\n",
       "105           RDMETH_REC_5      0.000000\n",
       "24                BFACIL_6      0.000000\n",
       "38               DOB_MM_11     -0.000000\n",
       "5          plural_delivery     -0.000000\n",
       "104           RDMETH_REC_4      0.000000\n",
       "34                DOB_MM_7     -0.000000\n",
       "79                MRAVE6_5      0.129049\n",
       "95                   PAY_9      0.245860\n",
       "26                BFACIL_9      0.420584\n",
       "33                DOB_MM_6      0.617800\n",
       "73                MHISPX_5      0.628922\n",
       "43                 FEDUC_5      0.664552\n",
       "32                DOB_MM_5      1.079011\n",
       "106           RDMETH_REC_6      1.138287\n",
       "77                MRAVE6_3      1.165812\n",
       "107           RDMETH_REC_9      1.545233\n",
       "18                ATTEND_5      1.568294\n",
       "45                 FEDUC_7      1.909102\n",
       "23                BFACIL_5      1.998520\n",
       "100  PRIORTERM_cat_Unknown      2.128682\n",
       "66                 MEDUC_7      2.271476\n",
       "93                   PAY_6      2.399312\n",
       "102           RDMETH_REC_2      2.744338\n",
       "28          smoked_Unknown      2.831552\n",
       "83              NO_INFEC_1      2.832925\n",
       "60           MBSTATE_REC_3      2.834817\n",
       "46                 FEDUC_8      2.869991\n",
       "15                ATTEND_2      2.950748\n",
       "81                 MTRAN_U      2.955069\n",
       "25                BFACIL_7      3.023129\n",
       "29                DOB_MM_2      3.119615\n",
       "36                DOB_MM_9      3.192436\n",
       "65                 MEDUC_6      3.362906\n",
       "56               LD_INDL_U      3.767827\n",
       "92                   PAY_5      3.972113\n",
       "91                   PAY_4      5.769678\n",
       "44                 FEDUC_6      6.496586\n",
       "88              NO_RISKS_9      6.617109\n",
       "90                   PAY_3      6.618201\n",
       "17                ATTEND_4      6.938323\n",
       "98   PRIORLIVE_cat_Unknown      7.045721\n",
       "20                BFACIL_2      7.789978\n",
       "89                   PAY_2     10.198859\n",
       "21                BFACIL_3     18.261197\n",
       "16                ATTEND_3     23.542532\n",
       "59           MBSTATE_REC_2     27.595902\n",
       "9                  PRECARE     28.597687\n",
       "57               LD_INDL_Y     29.981211\n",
       "27             smoked_None     35.941233\n",
       "112             RF_CESAR_Y     50.933511\n",
       "113                  SEX_M     53.773368\n",
       "99       PRIORLIVE_cat_Yes     60.060387\n",
       "10                  PREVIS     66.588611\n",
       "87              NO_RISKS_1     88.082334\n",
       "13                 M_Ht_In     91.670077\n",
       "14                  WTGAIN    113.384222\n",
       "12                 BMI_log    176.127075"
      ]
     },
     "execution_count": 242,
     "metadata": {},
     "output_type": "execute_result"
    }
   ],
   "source": [
    "_coef_df = pd.DataFrame()\n",
    "_coef_df['variables'] = _X.columns\n",
    "_coef_df['coefficients'] = lasso_cv.coef_\n",
    "_coef_df.sort_values(by='coefficients')"
   ]
  },
  {
   "cell_type": "code",
   "execution_count": 243,
   "metadata": {},
   "outputs": [
    {
     "data": {
      "text/plain": [
       "count    114.000000\n",
       "mean       3.460337\n",
       "std       30.237020\n",
       "min     -109.830032\n",
       "25%       -4.660418\n",
       "50%        0.000000\n",
       "75%        2.953989\n",
       "max      176.127075\n",
       "Name: coefficients, dtype: float64"
      ]
     },
     "execution_count": 243,
     "metadata": {},
     "output_type": "execute_result"
    }
   ],
   "source": [
    "_coef_df['coefficients'].describe()"
   ]
  },
  {
   "cell_type": "code",
   "execution_count": 244,
   "metadata": {},
   "outputs": [],
   "source": [
    "# _coef_df.sort_values(by='coefficients').to_csv('_coef_df2.csv', index=False,header=True)"
   ]
  },
  {
   "cell_type": "code",
   "execution_count": null,
   "metadata": {},
   "outputs": [],
   "source": []
  },
  {
   "cell_type": "code",
   "execution_count": 245,
   "metadata": {},
   "outputs": [
    {
     "data": {
      "text/html": [
       "<div>\n",
       "<style scoped>\n",
       "    .dataframe tbody tr th:only-of-type {\n",
       "        vertical-align: middle;\n",
       "    }\n",
       "\n",
       "    .dataframe tbody tr th {\n",
       "        vertical-align: top;\n",
       "    }\n",
       "\n",
       "    .dataframe thead th {\n",
       "        text-align: right;\n",
       "    }\n",
       "</style>\n",
       "<table border=\"1\" class=\"dataframe\">\n",
       "  <thead>\n",
       "    <tr style=\"text-align: right;\">\n",
       "      <th></th>\n",
       "      <th>ATTEND</th>\n",
       "      <th>BFACIL</th>\n",
       "      <th>BMI</th>\n",
       "      <th>smoked</th>\n",
       "      <th>DOB_MM</th>\n",
       "      <th>FAGECOMB</th>\n",
       "      <th>FEDUC</th>\n",
       "      <th>FRACE6</th>\n",
       "      <th>first_birth</th>\n",
       "      <th>plural_delivery</th>\n",
       "      <th>first_pregnancy</th>\n",
       "      <th>plural_delivery</th>\n",
       "      <th>first_natal</th>\n",
       "      <th>IP_GON</th>\n",
       "      <th>LD_INDL</th>\n",
       "      <th>MAGER</th>\n",
       "      <th>35AGE_older</th>\n",
       "      <th>MAR_IMP</th>\n",
       "      <th>MBSTATE_REC</th>\n",
       "      <th>MEDUC</th>\n",
       "      <th>MHISPX</th>\n",
       "      <th>MRAVE6</th>\n",
       "      <th>MTRAN</th>\n",
       "      <th>NO_INFEC</th>\n",
       "      <th>NO_MMORB</th>\n",
       "      <th>NO_RISKS</th>\n",
       "      <th>PAY</th>\n",
       "      <th>PRECARE</th>\n",
       "      <th>PREVIS</th>\n",
       "      <th>PRIORDEAD_cat</th>\n",
       "      <th>PRIORLIVE_cat</th>\n",
       "      <th>PRIORTERM_cat</th>\n",
       "      <th>PWgt_R</th>\n",
       "      <th>BMI_log</th>\n",
       "      <th>M_Ht_In</th>\n",
       "      <th>RDMETH_REC</th>\n",
       "      <th>RESTATUS</th>\n",
       "      <th>RF_CESAR</th>\n",
       "      <th>SEX</th>\n",
       "      <th>WTGAIN</th>\n",
       "    </tr>\n",
       "  </thead>\n",
       "  <tbody>\n",
       "    <tr>\n",
       "      <th>2745564</th>\n",
       "      <td>1</td>\n",
       "      <td>1</td>\n",
       "      <td>25.0</td>\n",
       "      <td>None</td>\n",
       "      <td>7</td>\n",
       "      <td>36</td>\n",
       "      <td>5</td>\n",
       "      <td>1</td>\n",
       "      <td>0</td>\n",
       "      <td>0</td>\n",
       "      <td>0</td>\n",
       "      <td>0</td>\n",
       "      <td>1</td>\n",
       "      <td>N</td>\n",
       "      <td>N</td>\n",
       "      <td>34</td>\n",
       "      <td>0</td>\n",
       "      <td></td>\n",
       "      <td>1</td>\n",
       "      <td>6</td>\n",
       "      <td>0</td>\n",
       "      <td>1</td>\n",
       "      <td>N</td>\n",
       "      <td>1</td>\n",
       "      <td>1</td>\n",
       "      <td>1</td>\n",
       "      <td>2</td>\n",
       "      <td>2</td>\n",
       "      <td>12</td>\n",
       "      <td>None</td>\n",
       "      <td>Yes</td>\n",
       "      <td>None</td>\n",
       "      <td>155</td>\n",
       "      <td>3.218876</td>\n",
       "      <td>66</td>\n",
       "      <td>1</td>\n",
       "      <td>2</td>\n",
       "      <td>N</td>\n",
       "      <td>F</td>\n",
       "      <td>25</td>\n",
       "    </tr>\n",
       "    <tr>\n",
       "      <th>3083465</th>\n",
       "      <td>1</td>\n",
       "      <td>1</td>\n",
       "      <td>37.4</td>\n",
       "      <td>None</td>\n",
       "      <td>4</td>\n",
       "      <td>25</td>\n",
       "      <td>4</td>\n",
       "      <td>1</td>\n",
       "      <td>1</td>\n",
       "      <td>0</td>\n",
       "      <td>0</td>\n",
       "      <td>0</td>\n",
       "      <td>0</td>\n",
       "      <td>N</td>\n",
       "      <td>N</td>\n",
       "      <td>25</td>\n",
       "      <td>0</td>\n",
       "      <td></td>\n",
       "      <td>1</td>\n",
       "      <td>3</td>\n",
       "      <td>0</td>\n",
       "      <td>1</td>\n",
       "      <td>N</td>\n",
       "      <td>1</td>\n",
       "      <td>1</td>\n",
       "      <td>1</td>\n",
       "      <td>2</td>\n",
       "      <td>3</td>\n",
       "      <td>13</td>\n",
       "      <td>None</td>\n",
       "      <td>None</td>\n",
       "      <td>Yes</td>\n",
       "      <td>218</td>\n",
       "      <td>3.621671</td>\n",
       "      <td>64</td>\n",
       "      <td>1</td>\n",
       "      <td>1</td>\n",
       "      <td>N</td>\n",
       "      <td>F</td>\n",
       "      <td>9</td>\n",
       "    </tr>\n",
       "    <tr>\n",
       "      <th>64636</th>\n",
       "      <td>1</td>\n",
       "      <td>1</td>\n",
       "      <td>28.2</td>\n",
       "      <td>None</td>\n",
       "      <td>12</td>\n",
       "      <td>33</td>\n",
       "      <td>6</td>\n",
       "      <td>1</td>\n",
       "      <td>0</td>\n",
       "      <td>0</td>\n",
       "      <td>0</td>\n",
       "      <td>0</td>\n",
       "      <td>0</td>\n",
       "      <td>N</td>\n",
       "      <td>N</td>\n",
       "      <td>30</td>\n",
       "      <td>0</td>\n",
       "      <td></td>\n",
       "      <td>1</td>\n",
       "      <td>4</td>\n",
       "      <td>0</td>\n",
       "      <td>1</td>\n",
       "      <td>N</td>\n",
       "      <td>1</td>\n",
       "      <td>1</td>\n",
       "      <td>0</td>\n",
       "      <td>1</td>\n",
       "      <td>1</td>\n",
       "      <td>11</td>\n",
       "      <td>None</td>\n",
       "      <td>Yes</td>\n",
       "      <td>Yes</td>\n",
       "      <td>154</td>\n",
       "      <td>3.339322</td>\n",
       "      <td>62</td>\n",
       "      <td>4</td>\n",
       "      <td>1</td>\n",
       "      <td>Y</td>\n",
       "      <td>F</td>\n",
       "      <td>11</td>\n",
       "    </tr>\n",
       "    <tr>\n",
       "      <th>1898366</th>\n",
       "      <td>1</td>\n",
       "      <td>1</td>\n",
       "      <td>21.0</td>\n",
       "      <td>None</td>\n",
       "      <td>4</td>\n",
       "      <td>43</td>\n",
       "      <td>3</td>\n",
       "      <td>1</td>\n",
       "      <td>0</td>\n",
       "      <td>0</td>\n",
       "      <td>0</td>\n",
       "      <td>0</td>\n",
       "      <td>1</td>\n",
       "      <td>N</td>\n",
       "      <td>Y</td>\n",
       "      <td>37</td>\n",
       "      <td>1</td>\n",
       "      <td></td>\n",
       "      <td>1</td>\n",
       "      <td>7</td>\n",
       "      <td>0</td>\n",
       "      <td>1</td>\n",
       "      <td>N</td>\n",
       "      <td>1</td>\n",
       "      <td>1</td>\n",
       "      <td>0</td>\n",
       "      <td>2</td>\n",
       "      <td>2</td>\n",
       "      <td>10</td>\n",
       "      <td>None</td>\n",
       "      <td>Yes</td>\n",
       "      <td>None</td>\n",
       "      <td>115</td>\n",
       "      <td>3.044522</td>\n",
       "      <td>62</td>\n",
       "      <td>1</td>\n",
       "      <td>2</td>\n",
       "      <td>N</td>\n",
       "      <td>F</td>\n",
       "      <td>32</td>\n",
       "    </tr>\n",
       "    <tr>\n",
       "      <th>1837169</th>\n",
       "      <td>1</td>\n",
       "      <td>1</td>\n",
       "      <td>33.1</td>\n",
       "      <td>None</td>\n",
       "      <td>4</td>\n",
       "      <td>52</td>\n",
       "      <td>3</td>\n",
       "      <td>2</td>\n",
       "      <td>0</td>\n",
       "      <td>0</td>\n",
       "      <td>0</td>\n",
       "      <td>0</td>\n",
       "      <td>0</td>\n",
       "      <td>N</td>\n",
       "      <td>N</td>\n",
       "      <td>31</td>\n",
       "      <td>0</td>\n",
       "      <td></td>\n",
       "      <td>1</td>\n",
       "      <td>3</td>\n",
       "      <td>0</td>\n",
       "      <td>2</td>\n",
       "      <td>N</td>\n",
       "      <td>1</td>\n",
       "      <td>1</td>\n",
       "      <td>1</td>\n",
       "      <td>1</td>\n",
       "      <td>3</td>\n",
       "      <td>14</td>\n",
       "      <td>None</td>\n",
       "      <td>Yes</td>\n",
       "      <td>Yes</td>\n",
       "      <td>193</td>\n",
       "      <td>3.499533</td>\n",
       "      <td>64</td>\n",
       "      <td>1</td>\n",
       "      <td>1</td>\n",
       "      <td>N</td>\n",
       "      <td>F</td>\n",
       "      <td>0</td>\n",
       "    </tr>\n",
       "    <tr>\n",
       "      <th>...</th>\n",
       "      <td>...</td>\n",
       "      <td>...</td>\n",
       "      <td>...</td>\n",
       "      <td>...</td>\n",
       "      <td>...</td>\n",
       "      <td>...</td>\n",
       "      <td>...</td>\n",
       "      <td>...</td>\n",
       "      <td>...</td>\n",
       "      <td>...</td>\n",
       "      <td>...</td>\n",
       "      <td>...</td>\n",
       "      <td>...</td>\n",
       "      <td>...</td>\n",
       "      <td>...</td>\n",
       "      <td>...</td>\n",
       "      <td>...</td>\n",
       "      <td>...</td>\n",
       "      <td>...</td>\n",
       "      <td>...</td>\n",
       "      <td>...</td>\n",
       "      <td>...</td>\n",
       "      <td>...</td>\n",
       "      <td>...</td>\n",
       "      <td>...</td>\n",
       "      <td>...</td>\n",
       "      <td>...</td>\n",
       "      <td>...</td>\n",
       "      <td>...</td>\n",
       "      <td>...</td>\n",
       "      <td>...</td>\n",
       "      <td>...</td>\n",
       "      <td>...</td>\n",
       "      <td>...</td>\n",
       "      <td>...</td>\n",
       "      <td>...</td>\n",
       "      <td>...</td>\n",
       "      <td>...</td>\n",
       "      <td>...</td>\n",
       "      <td>...</td>\n",
       "    </tr>\n",
       "    <tr>\n",
       "      <th>1418357</th>\n",
       "      <td>1</td>\n",
       "      <td>1</td>\n",
       "      <td>21.5</td>\n",
       "      <td>None</td>\n",
       "      <td>3</td>\n",
       "      <td>30</td>\n",
       "      <td>6</td>\n",
       "      <td>4</td>\n",
       "      <td>1</td>\n",
       "      <td>0</td>\n",
       "      <td>1</td>\n",
       "      <td>0</td>\n",
       "      <td>1</td>\n",
       "      <td>N</td>\n",
       "      <td>N</td>\n",
       "      <td>31</td>\n",
       "      <td>0</td>\n",
       "      <td></td>\n",
       "      <td>2</td>\n",
       "      <td>6</td>\n",
       "      <td>0</td>\n",
       "      <td>4</td>\n",
       "      <td>N</td>\n",
       "      <td>1</td>\n",
       "      <td>1</td>\n",
       "      <td>1</td>\n",
       "      <td>5</td>\n",
       "      <td>2</td>\n",
       "      <td>14</td>\n",
       "      <td>None</td>\n",
       "      <td>None</td>\n",
       "      <td>None</td>\n",
       "      <td>114</td>\n",
       "      <td>3.068053</td>\n",
       "      <td>61</td>\n",
       "      <td>3</td>\n",
       "      <td>1</td>\n",
       "      <td>N</td>\n",
       "      <td>M</td>\n",
       "      <td>46</td>\n",
       "    </tr>\n",
       "    <tr>\n",
       "      <th>148545</th>\n",
       "      <td>2</td>\n",
       "      <td>1</td>\n",
       "      <td>28.1</td>\n",
       "      <td>None</td>\n",
       "      <td>8</td>\n",
       "      <td>29</td>\n",
       "      <td>2</td>\n",
       "      <td>1</td>\n",
       "      <td>1</td>\n",
       "      <td>0</td>\n",
       "      <td>0</td>\n",
       "      <td>0</td>\n",
       "      <td>0</td>\n",
       "      <td>N</td>\n",
       "      <td>N</td>\n",
       "      <td>23</td>\n",
       "      <td>0</td>\n",
       "      <td></td>\n",
       "      <td>1</td>\n",
       "      <td>2</td>\n",
       "      <td>1</td>\n",
       "      <td>1</td>\n",
       "      <td>N</td>\n",
       "      <td>1</td>\n",
       "      <td>1</td>\n",
       "      <td>0</td>\n",
       "      <td>1</td>\n",
       "      <td>2</td>\n",
       "      <td>15</td>\n",
       "      <td>None</td>\n",
       "      <td>None</td>\n",
       "      <td>Yes</td>\n",
       "      <td>174</td>\n",
       "      <td>3.335770</td>\n",
       "      <td>66</td>\n",
       "      <td>1</td>\n",
       "      <td>1</td>\n",
       "      <td>N</td>\n",
       "      <td>M</td>\n",
       "      <td>21</td>\n",
       "    </tr>\n",
       "    <tr>\n",
       "      <th>3393158</th>\n",
       "      <td>1</td>\n",
       "      <td>1</td>\n",
       "      <td>19.5</td>\n",
       "      <td>None</td>\n",
       "      <td>9</td>\n",
       "      <td>33</td>\n",
       "      <td>4</td>\n",
       "      <td>4</td>\n",
       "      <td>0</td>\n",
       "      <td>0</td>\n",
       "      <td>0</td>\n",
       "      <td>0</td>\n",
       "      <td>1</td>\n",
       "      <td>N</td>\n",
       "      <td>N</td>\n",
       "      <td>28</td>\n",
       "      <td>0</td>\n",
       "      <td></td>\n",
       "      <td>2</td>\n",
       "      <td>4</td>\n",
       "      <td>9</td>\n",
       "      <td>4</td>\n",
       "      <td>N</td>\n",
       "      <td>1</td>\n",
       "      <td>1</td>\n",
       "      <td>0</td>\n",
       "      <td>1</td>\n",
       "      <td>4</td>\n",
       "      <td>6</td>\n",
       "      <td>None</td>\n",
       "      <td>Yes</td>\n",
       "      <td>None</td>\n",
       "      <td>110</td>\n",
       "      <td>2.970414</td>\n",
       "      <td>63</td>\n",
       "      <td>1</td>\n",
       "      <td>1</td>\n",
       "      <td>N</td>\n",
       "      <td>M</td>\n",
       "      <td>26</td>\n",
       "    </tr>\n",
       "    <tr>\n",
       "      <th>3150640</th>\n",
       "      <td>1</td>\n",
       "      <td>1</td>\n",
       "      <td>23.4</td>\n",
       "      <td>None</td>\n",
       "      <td>6</td>\n",
       "      <td>18</td>\n",
       "      <td>1</td>\n",
       "      <td>1</td>\n",
       "      <td>1</td>\n",
       "      <td>0</td>\n",
       "      <td>1</td>\n",
       "      <td>0</td>\n",
       "      <td>1</td>\n",
       "      <td>N</td>\n",
       "      <td>N</td>\n",
       "      <td>18</td>\n",
       "      <td>0</td>\n",
       "      <td></td>\n",
       "      <td>1</td>\n",
       "      <td>3</td>\n",
       "      <td>1</td>\n",
       "      <td>1</td>\n",
       "      <td>N</td>\n",
       "      <td>1</td>\n",
       "      <td>1</td>\n",
       "      <td>1</td>\n",
       "      <td>1</td>\n",
       "      <td>0</td>\n",
       "      <td>0</td>\n",
       "      <td>None</td>\n",
       "      <td>None</td>\n",
       "      <td>None</td>\n",
       "      <td>120</td>\n",
       "      <td>3.152736</td>\n",
       "      <td>60</td>\n",
       "      <td>3</td>\n",
       "      <td>1</td>\n",
       "      <td>N</td>\n",
       "      <td>M</td>\n",
       "      <td>9</td>\n",
       "    </tr>\n",
       "    <tr>\n",
       "      <th>249013</th>\n",
       "      <td>1</td>\n",
       "      <td>1</td>\n",
       "      <td>27.2</td>\n",
       "      <td>Daily</td>\n",
       "      <td>2</td>\n",
       "      <td>25</td>\n",
       "      <td>2</td>\n",
       "      <td>1</td>\n",
       "      <td>0</td>\n",
       "      <td>0</td>\n",
       "      <td>0</td>\n",
       "      <td>0</td>\n",
       "      <td>1</td>\n",
       "      <td>N</td>\n",
       "      <td>Y</td>\n",
       "      <td>24</td>\n",
       "      <td>0</td>\n",
       "      <td></td>\n",
       "      <td>1</td>\n",
       "      <td>3</td>\n",
       "      <td>1</td>\n",
       "      <td>1</td>\n",
       "      <td>N</td>\n",
       "      <td>1</td>\n",
       "      <td>1</td>\n",
       "      <td>1</td>\n",
       "      <td>6</td>\n",
       "      <td>2</td>\n",
       "      <td>21</td>\n",
       "      <td>None</td>\n",
       "      <td>Yes</td>\n",
       "      <td>None</td>\n",
       "      <td>149</td>\n",
       "      <td>3.303217</td>\n",
       "      <td>62</td>\n",
       "      <td>1</td>\n",
       "      <td>1</td>\n",
       "      <td>N</td>\n",
       "      <td>M</td>\n",
       "      <td>36</td>\n",
       "    </tr>\n",
       "  </tbody>\n",
       "</table>\n",
       "<p>85804 rows × 40 columns</p>\n",
       "</div>"
      ],
      "text/plain": [
       "         ATTEND  BFACIL   BMI smoked  DOB_MM  FAGECOMB  FEDUC  FRACE6  \\\n",
       "2745564       1       1  25.0   None       7        36      5       1   \n",
       "3083465       1       1  37.4   None       4        25      4       1   \n",
       "64636         1       1  28.2   None      12        33      6       1   \n",
       "1898366       1       1  21.0   None       4        43      3       1   \n",
       "1837169       1       1  33.1   None       4        52      3       2   \n",
       "...         ...     ...   ...    ...     ...       ...    ...     ...   \n",
       "1418357       1       1  21.5   None       3        30      6       4   \n",
       "148545        2       1  28.1   None       8        29      2       1   \n",
       "3393158       1       1  19.5   None       9        33      4       4   \n",
       "3150640       1       1  23.4   None       6        18      1       1   \n",
       "249013        1       1  27.2  Daily       2        25      2       1   \n",
       "\n",
       "         first_birth  plural_delivery  first_pregnancy  plural_delivery  \\\n",
       "2745564            0                0                0                0   \n",
       "3083465            1                0                0                0   \n",
       "64636              0                0                0                0   \n",
       "1898366            0                0                0                0   \n",
       "1837169            0                0                0                0   \n",
       "...              ...              ...              ...              ...   \n",
       "1418357            1                0                1                0   \n",
       "148545             1                0                0                0   \n",
       "3393158            0                0                0                0   \n",
       "3150640            1                0                1                0   \n",
       "249013             0                0                0                0   \n",
       "\n",
       "         first_natal IP_GON LD_INDL  MAGER  35AGE_older MAR_IMP  MBSTATE_REC  \\\n",
       "2745564            1      N       N     34            0                    1   \n",
       "3083465            0      N       N     25            0                    1   \n",
       "64636              0      N       N     30            0                    1   \n",
       "1898366            1      N       Y     37            1                    1   \n",
       "1837169            0      N       N     31            0                    1   \n",
       "...              ...    ...     ...    ...          ...     ...          ...   \n",
       "1418357            1      N       N     31            0                    2   \n",
       "148545             0      N       N     23            0                    1   \n",
       "3393158            1      N       N     28            0                    2   \n",
       "3150640            1      N       N     18            0                    1   \n",
       "249013             1      N       Y     24            0                    1   \n",
       "\n",
       "         MEDUC  MHISPX  MRAVE6 MTRAN  NO_INFEC  NO_MMORB  NO_RISKS  PAY  \\\n",
       "2745564      6       0       1     N         1         1         1    2   \n",
       "3083465      3       0       1     N         1         1         1    2   \n",
       "64636        4       0       1     N         1         1         0    1   \n",
       "1898366      7       0       1     N         1         1         0    2   \n",
       "1837169      3       0       2     N         1         1         1    1   \n",
       "...        ...     ...     ...   ...       ...       ...       ...  ...   \n",
       "1418357      6       0       4     N         1         1         1    5   \n",
       "148545       2       1       1     N         1         1         0    1   \n",
       "3393158      4       9       4     N         1         1         0    1   \n",
       "3150640      3       1       1     N         1         1         1    1   \n",
       "249013       3       1       1     N         1         1         1    6   \n",
       "\n",
       "         PRECARE  PREVIS PRIORDEAD_cat PRIORLIVE_cat PRIORTERM_cat  PWgt_R  \\\n",
       "2745564        2      12          None           Yes          None     155   \n",
       "3083465        3      13          None          None           Yes     218   \n",
       "64636          1      11          None           Yes           Yes     154   \n",
       "1898366        2      10          None           Yes          None     115   \n",
       "1837169        3      14          None           Yes           Yes     193   \n",
       "...          ...     ...           ...           ...           ...     ...   \n",
       "1418357        2      14          None          None          None     114   \n",
       "148545         2      15          None          None           Yes     174   \n",
       "3393158        4       6          None           Yes          None     110   \n",
       "3150640        0       0          None          None          None     120   \n",
       "249013         2      21          None           Yes          None     149   \n",
       "\n",
       "          BMI_log  M_Ht_In  RDMETH_REC  RESTATUS RF_CESAR SEX  WTGAIN  \n",
       "2745564  3.218876       66           1         2        N   F      25  \n",
       "3083465  3.621671       64           1         1        N   F       9  \n",
       "64636    3.339322       62           4         1        Y   F      11  \n",
       "1898366  3.044522       62           1         2        N   F      32  \n",
       "1837169  3.499533       64           1         1        N   F       0  \n",
       "...           ...      ...         ...       ...      ...  ..     ...  \n",
       "1418357  3.068053       61           3         1        N   M      46  \n",
       "148545   3.335770       66           1         1        N   M      21  \n",
       "3393158  2.970414       63           1         1        N   M      26  \n",
       "3150640  3.152736       60           3         1        N   M       9  \n",
       "249013   3.303217       62           1         1        N   M      36  \n",
       "\n",
       "[85804 rows x 40 columns]"
      ]
     },
     "execution_count": 245,
     "metadata": {},
     "output_type": "execute_result"
    }
   ],
   "source": [
    "X"
   ]
  },
  {
   "cell_type": "code",
   "execution_count": 246,
   "metadata": {},
   "outputs": [
    {
     "data": {
      "text/plain": [
       "<matplotlib.axes._subplots.AxesSubplot at 0x15d0c748>"
      ]
     },
     "execution_count": 246,
     "metadata": {},
     "output_type": "execute_result"
    },
    {
     "data": {
      "image/png": "[encoded data removed]",
      "text/plain": [
       "<Figure size 432x288 with 1 Axes>"
      ]
     },
     "metadata": {
      "needs_background": "light"
     },
     "output_type": "display_data"
    }
   ],
   "source": [
    "sns.scatterplot(y_test,y_test_pred)"
   ]
  },
  {
   "cell_type": "code",
   "execution_count": null,
   "metadata": {},
   "outputs": [],
   "source": []
  },
  {
   "cell_type": "code",
   "execution_count": 75,
   "metadata": {},
   "outputs": [],
   "source": [
    "# _coef_df.to_csv('_coef_df.csv',index=False, header=True)"
   ]
  },
  {
   "cell_type": "code",
   "execution_count": 76,
   "metadata": {},
   "outputs": [
    {
     "data": {
      "text/plain": [
       "(85804, 64)"
      ]
     },
     "execution_count": 76,
     "metadata": {},
     "output_type": "execute_result"
    }
   ],
   "source": [
    "df.shape"
   ]
  },
  {
   "cell_type": "code",
   "execution_count": 77,
   "metadata": {},
   "outputs": [
    {
     "data": {
      "text/plain": [
       "32    5216\n",
       "31    5165\n",
       "30    5105\n",
       "33    5047\n",
       "34    4764\n",
       "28    4747\n",
       "29    4711\n",
       "35    4521\n",
       "27    4325\n",
       "36    4024\n",
       "26    3753\n",
       "37    3479\n",
       "25    3322\n",
       "38    2969\n",
       "24    2892\n",
       "23    2426\n",
       "39    2391\n",
       "22    2106\n",
       "40    1983\n",
       "21    1698\n",
       "41    1682\n",
       "20    1266\n",
       "42    1263\n",
       "43    1056\n",
       "19     841\n",
       "44     764\n",
       "45     684\n",
       "46     569\n",
       "18     487\n",
       "47     472\n",
       "48     383\n",
       "49     269\n",
       "50     231\n",
       "17     203\n",
       "51     166\n",
       "52     133\n",
       "53     129\n",
       "54      94\n",
       "16      79\n",
       "56      77\n",
       "55      77\n",
       "58      47\n",
       "57      41\n",
       "59      27\n",
       "60      27\n",
       "15      22\n",
       "61      13\n",
       "63      12\n",
       "64       9\n",
       "65       8\n",
       "62       7\n",
       "67       5\n",
       "73       3\n",
       "66       3\n",
       "71       2\n",
       "68       2\n",
       "88       1\n",
       "98       1\n",
       "14       1\n",
       "13       1\n",
       "76       1\n",
       "74       1\n",
       "70       1\n",
       "Name: FAGECOMB, dtype: int64"
      ]
     },
     "execution_count": 77,
     "metadata": {},
     "output_type": "execute_result"
    }
   ],
   "source": [
    "df['FAGECOMB'].value_counts()"
   ]
  },
  {
   "cell_type": "code",
   "execution_count": 78,
   "metadata": {},
   "outputs": [
    {
     "data": {
      "text/plain": [
       "1    65374\n",
       "2    11109\n",
       "4     6270\n",
       "6     2078\n",
       "3      702\n",
       "5      271\n",
       "Name: MRAVE6, dtype: int64"
      ]
     },
     "execution_count": 78,
     "metadata": {},
     "output_type": "execute_result"
    }
   ],
   "source": [
    "df['MRAVE6'].value_counts()"
   ]
  },
  {
   "cell_type": "code",
   "execution_count": 79,
   "metadata": {},
   "outputs": [
    {
     "data": {
      "text/html": [
       "<div>\n",
       "<style scoped>\n",
       "    .dataframe tbody tr th:only-of-type {\n",
       "        vertical-align: middle;\n",
       "    }\n",
       "\n",
       "    .dataframe tbody tr th {\n",
       "        vertical-align: top;\n",
       "    }\n",
       "\n",
       "    .dataframe thead th {\n",
       "        text-align: right;\n",
       "    }\n",
       "</style>\n",
       "<table border=\"1\" class=\"dataframe\">\n",
       "  <thead>\n",
       "    <tr style=\"text-align: right;\">\n",
       "      <th></th>\n",
       "      <th>ATTEND</th>\n",
       "      <th>BFACIL</th>\n",
       "      <th>BMI</th>\n",
       "      <th>smoked</th>\n",
       "      <th>DOB_MM</th>\n",
       "      <th>FAGECOMB</th>\n",
       "      <th>FEDUC</th>\n",
       "      <th>FRACE6</th>\n",
       "      <th>first_birth</th>\n",
       "      <th>plural_delivery</th>\n",
       "      <th>first_pregnancy</th>\n",
       "      <th>plural_delivery</th>\n",
       "      <th>IP_GON</th>\n",
       "      <th>LD_INDL</th>\n",
       "      <th>MAGER</th>\n",
       "      <th>MAR_IMP</th>\n",
       "      <th>MBSTATE_REC</th>\n",
       "      <th>MEDUC</th>\n",
       "      <th>MHISPX</th>\n",
       "      <th>MRAVE6</th>\n",
       "      <th>MTRAN</th>\n",
       "      <th>NO_INFEC</th>\n",
       "      <th>NO_MMORB</th>\n",
       "      <th>NO_RISKS</th>\n",
       "      <th>PAY</th>\n",
       "      <th>PRECARE</th>\n",
       "      <th>PREVIS</th>\n",
       "      <th>PRIORDEAD_cat</th>\n",
       "      <th>PRIORLIVE_cat</th>\n",
       "      <th>PRIORTERM_cat</th>\n",
       "      <th>PWgt_R</th>\n",
       "      <th>RDMETH_REC</th>\n",
       "      <th>RESTATUS</th>\n",
       "      <th>RF_CESAR</th>\n",
       "      <th>SEX</th>\n",
       "      <th>WTGAIN</th>\n",
       "    </tr>\n",
       "  </thead>\n",
       "  <tbody>\n",
       "    <tr>\n",
       "      <th>2745564</th>\n",
       "      <td>1</td>\n",
       "      <td>1</td>\n",
       "      <td>25.0</td>\n",
       "      <td>None</td>\n",
       "      <td>7</td>\n",
       "      <td>36</td>\n",
       "      <td>5</td>\n",
       "      <td>1</td>\n",
       "      <td>0</td>\n",
       "      <td>0</td>\n",
       "      <td>0</td>\n",
       "      <td>0</td>\n",
       "      <td>N</td>\n",
       "      <td>N</td>\n",
       "      <td>34</td>\n",
       "      <td></td>\n",
       "      <td>1</td>\n",
       "      <td>6</td>\n",
       "      <td>0</td>\n",
       "      <td>1</td>\n",
       "      <td>N</td>\n",
       "      <td>1</td>\n",
       "      <td>1</td>\n",
       "      <td>1</td>\n",
       "      <td>2</td>\n",
       "      <td>2</td>\n",
       "      <td>12</td>\n",
       "      <td>None</td>\n",
       "      <td>Yes</td>\n",
       "      <td>None</td>\n",
       "      <td>155</td>\n",
       "      <td>1</td>\n",
       "      <td>2</td>\n",
       "      <td>N</td>\n",
       "      <td>F</td>\n",
       "      <td>25</td>\n",
       "    </tr>\n",
       "    <tr>\n",
       "      <th>3083465</th>\n",
       "      <td>1</td>\n",
       "      <td>1</td>\n",
       "      <td>37.4</td>\n",
       "      <td>None</td>\n",
       "      <td>4</td>\n",
       "      <td>25</td>\n",
       "      <td>4</td>\n",
       "      <td>1</td>\n",
       "      <td>1</td>\n",
       "      <td>0</td>\n",
       "      <td>0</td>\n",
       "      <td>0</td>\n",
       "      <td>N</td>\n",
       "      <td>N</td>\n",
       "      <td>25</td>\n",
       "      <td></td>\n",
       "      <td>1</td>\n",
       "      <td>3</td>\n",
       "      <td>0</td>\n",
       "      <td>1</td>\n",
       "      <td>N</td>\n",
       "      <td>1</td>\n",
       "      <td>1</td>\n",
       "      <td>1</td>\n",
       "      <td>2</td>\n",
       "      <td>3</td>\n",
       "      <td>13</td>\n",
       "      <td>None</td>\n",
       "      <td>None</td>\n",
       "      <td>Yes</td>\n",
       "      <td>218</td>\n",
       "      <td>1</td>\n",
       "      <td>1</td>\n",
       "      <td>N</td>\n",
       "      <td>F</td>\n",
       "      <td>9</td>\n",
       "    </tr>\n",
       "    <tr>\n",
       "      <th>64636</th>\n",
       "      <td>1</td>\n",
       "      <td>1</td>\n",
       "      <td>28.2</td>\n",
       "      <td>None</td>\n",
       "      <td>12</td>\n",
       "      <td>33</td>\n",
       "      <td>6</td>\n",
       "      <td>1</td>\n",
       "      <td>0</td>\n",
       "      <td>0</td>\n",
       "      <td>0</td>\n",
       "      <td>0</td>\n",
       "      <td>N</td>\n",
       "      <td>N</td>\n",
       "      <td>30</td>\n",
       "      <td></td>\n",
       "      <td>1</td>\n",
       "      <td>4</td>\n",
       "      <td>0</td>\n",
       "      <td>1</td>\n",
       "      <td>N</td>\n",
       "      <td>1</td>\n",
       "      <td>1</td>\n",
       "      <td>0</td>\n",
       "      <td>1</td>\n",
       "      <td>1</td>\n",
       "      <td>11</td>\n",
       "      <td>None</td>\n",
       "      <td>Yes</td>\n",
       "      <td>Yes</td>\n",
       "      <td>154</td>\n",
       "      <td>4</td>\n",
       "      <td>1</td>\n",
       "      <td>Y</td>\n",
       "      <td>F</td>\n",
       "      <td>11</td>\n",
       "    </tr>\n",
       "    <tr>\n",
       "      <th>1898366</th>\n",
       "      <td>1</td>\n",
       "      <td>1</td>\n",
       "      <td>21.0</td>\n",
       "      <td>None</td>\n",
       "      <td>4</td>\n",
       "      <td>43</td>\n",
       "      <td>3</td>\n",
       "      <td>1</td>\n",
       "      <td>0</td>\n",
       "      <td>0</td>\n",
       "      <td>0</td>\n",
       "      <td>0</td>\n",
       "      <td>N</td>\n",
       "      <td>Y</td>\n",
       "      <td>37</td>\n",
       "      <td></td>\n",
       "      <td>1</td>\n",
       "      <td>7</td>\n",
       "      <td>0</td>\n",
       "      <td>1</td>\n",
       "      <td>N</td>\n",
       "      <td>1</td>\n",
       "      <td>1</td>\n",
       "      <td>0</td>\n",
       "      <td>2</td>\n",
       "      <td>2</td>\n",
       "      <td>10</td>\n",
       "      <td>None</td>\n",
       "      <td>Yes</td>\n",
       "      <td>None</td>\n",
       "      <td>115</td>\n",
       "      <td>1</td>\n",
       "      <td>2</td>\n",
       "      <td>N</td>\n",
       "      <td>F</td>\n",
       "      <td>32</td>\n",
       "    </tr>\n",
       "    <tr>\n",
       "      <th>1837169</th>\n",
       "      <td>1</td>\n",
       "      <td>1</td>\n",
       "      <td>33.1</td>\n",
       "      <td>None</td>\n",
       "      <td>4</td>\n",
       "      <td>52</td>\n",
       "      <td>3</td>\n",
       "      <td>2</td>\n",
       "      <td>0</td>\n",
       "      <td>0</td>\n",
       "      <td>0</td>\n",
       "      <td>0</td>\n",
       "      <td>N</td>\n",
       "      <td>N</td>\n",
       "      <td>31</td>\n",
       "      <td></td>\n",
       "      <td>1</td>\n",
       "      <td>3</td>\n",
       "      <td>0</td>\n",
       "      <td>2</td>\n",
       "      <td>N</td>\n",
       "      <td>1</td>\n",
       "      <td>1</td>\n",
       "      <td>1</td>\n",
       "      <td>1</td>\n",
       "      <td>3</td>\n",
       "      <td>14</td>\n",
       "      <td>None</td>\n",
       "      <td>Yes</td>\n",
       "      <td>Yes</td>\n",
       "      <td>193</td>\n",
       "      <td>1</td>\n",
       "      <td>1</td>\n",
       "      <td>N</td>\n",
       "      <td>F</td>\n",
       "      <td>0</td>\n",
       "    </tr>\n",
       "    <tr>\n",
       "      <th>...</th>\n",
       "      <td>...</td>\n",
       "      <td>...</td>\n",
       "      <td>...</td>\n",
       "      <td>...</td>\n",
       "      <td>...</td>\n",
       "      <td>...</td>\n",
       "      <td>...</td>\n",
       "      <td>...</td>\n",
       "      <td>...</td>\n",
       "      <td>...</td>\n",
       "      <td>...</td>\n",
       "      <td>...</td>\n",
       "      <td>...</td>\n",
       "      <td>...</td>\n",
       "      <td>...</td>\n",
       "      <td>...</td>\n",
       "      <td>...</td>\n",
       "      <td>...</td>\n",
       "      <td>...</td>\n",
       "      <td>...</td>\n",
       "      <td>...</td>\n",
       "      <td>...</td>\n",
       "      <td>...</td>\n",
       "      <td>...</td>\n",
       "      <td>...</td>\n",
       "      <td>...</td>\n",
       "      <td>...</td>\n",
       "      <td>...</td>\n",
       "      <td>...</td>\n",
       "      <td>...</td>\n",
       "      <td>...</td>\n",
       "      <td>...</td>\n",
       "      <td>...</td>\n",
       "      <td>...</td>\n",
       "      <td>...</td>\n",
       "      <td>...</td>\n",
       "    </tr>\n",
       "    <tr>\n",
       "      <th>1418357</th>\n",
       "      <td>1</td>\n",
       "      <td>1</td>\n",
       "      <td>21.5</td>\n",
       "      <td>None</td>\n",
       "      <td>3</td>\n",
       "      <td>30</td>\n",
       "      <td>6</td>\n",
       "      <td>4</td>\n",
       "      <td>1</td>\n",
       "      <td>0</td>\n",
       "      <td>1</td>\n",
       "      <td>0</td>\n",
       "      <td>N</td>\n",
       "      <td>N</td>\n",
       "      <td>31</td>\n",
       "      <td></td>\n",
       "      <td>2</td>\n",
       "      <td>6</td>\n",
       "      <td>0</td>\n",
       "      <td>4</td>\n",
       "      <td>N</td>\n",
       "      <td>1</td>\n",
       "      <td>1</td>\n",
       "      <td>1</td>\n",
       "      <td>5</td>\n",
       "      <td>2</td>\n",
       "      <td>14</td>\n",
       "      <td>None</td>\n",
       "      <td>None</td>\n",
       "      <td>None</td>\n",
       "      <td>114</td>\n",
       "      <td>3</td>\n",
       "      <td>1</td>\n",
       "      <td>N</td>\n",
       "      <td>M</td>\n",
       "      <td>46</td>\n",
       "    </tr>\n",
       "    <tr>\n",
       "      <th>148545</th>\n",
       "      <td>2</td>\n",
       "      <td>1</td>\n",
       "      <td>28.1</td>\n",
       "      <td>None</td>\n",
       "      <td>8</td>\n",
       "      <td>29</td>\n",
       "      <td>2</td>\n",
       "      <td>1</td>\n",
       "      <td>1</td>\n",
       "      <td>0</td>\n",
       "      <td>0</td>\n",
       "      <td>0</td>\n",
       "      <td>N</td>\n",
       "      <td>N</td>\n",
       "      <td>23</td>\n",
       "      <td></td>\n",
       "      <td>1</td>\n",
       "      <td>2</td>\n",
       "      <td>1</td>\n",
       "      <td>1</td>\n",
       "      <td>N</td>\n",
       "      <td>1</td>\n",
       "      <td>1</td>\n",
       "      <td>0</td>\n",
       "      <td>1</td>\n",
       "      <td>2</td>\n",
       "      <td>15</td>\n",
       "      <td>None</td>\n",
       "      <td>None</td>\n",
       "      <td>Yes</td>\n",
       "      <td>174</td>\n",
       "      <td>1</td>\n",
       "      <td>1</td>\n",
       "      <td>N</td>\n",
       "      <td>M</td>\n",
       "      <td>21</td>\n",
       "    </tr>\n",
       "    <tr>\n",
       "      <th>3393158</th>\n",
       "      <td>1</td>\n",
       "      <td>1</td>\n",
       "      <td>19.5</td>\n",
       "      <td>None</td>\n",
       "      <td>9</td>\n",
       "      <td>33</td>\n",
       "      <td>4</td>\n",
       "      <td>4</td>\n",
       "      <td>0</td>\n",
       "      <td>0</td>\n",
       "      <td>0</td>\n",
       "      <td>0</td>\n",
       "      <td>N</td>\n",
       "      <td>N</td>\n",
       "      <td>28</td>\n",
       "      <td></td>\n",
       "      <td>2</td>\n",
       "      <td>4</td>\n",
       "      <td>9</td>\n",
       "      <td>4</td>\n",
       "      <td>N</td>\n",
       "      <td>1</td>\n",
       "      <td>1</td>\n",
       "      <td>0</td>\n",
       "      <td>1</td>\n",
       "      <td>4</td>\n",
       "      <td>6</td>\n",
       "      <td>None</td>\n",
       "      <td>Yes</td>\n",
       "      <td>None</td>\n",
       "      <td>110</td>\n",
       "      <td>1</td>\n",
       "      <td>1</td>\n",
       "      <td>N</td>\n",
       "      <td>M</td>\n",
       "      <td>26</td>\n",
       "    </tr>\n",
       "    <tr>\n",
       "      <th>3150640</th>\n",
       "      <td>1</td>\n",
       "      <td>1</td>\n",
       "      <td>23.4</td>\n",
       "      <td>None</td>\n",
       "      <td>6</td>\n",
       "      <td>18</td>\n",
       "      <td>1</td>\n",
       "      <td>1</td>\n",
       "      <td>1</td>\n",
       "      <td>0</td>\n",
       "      <td>1</td>\n",
       "      <td>0</td>\n",
       "      <td>N</td>\n",
       "      <td>N</td>\n",
       "      <td>18</td>\n",
       "      <td></td>\n",
       "      <td>1</td>\n",
       "      <td>3</td>\n",
       "      <td>1</td>\n",
       "      <td>1</td>\n",
       "      <td>N</td>\n",
       "      <td>1</td>\n",
       "      <td>1</td>\n",
       "      <td>1</td>\n",
       "      <td>1</td>\n",
       "      <td>0</td>\n",
       "      <td>0</td>\n",
       "      <td>None</td>\n",
       "      <td>None</td>\n",
       "      <td>None</td>\n",
       "      <td>120</td>\n",
       "      <td>3</td>\n",
       "      <td>1</td>\n",
       "      <td>N</td>\n",
       "      <td>M</td>\n",
       "      <td>9</td>\n",
       "    </tr>\n",
       "    <tr>\n",
       "      <th>249013</th>\n",
       "      <td>1</td>\n",
       "      <td>1</td>\n",
       "      <td>27.2</td>\n",
       "      <td>Daily</td>\n",
       "      <td>2</td>\n",
       "      <td>25</td>\n",
       "      <td>2</td>\n",
       "      <td>1</td>\n",
       "      <td>0</td>\n",
       "      <td>0</td>\n",
       "      <td>0</td>\n",
       "      <td>0</td>\n",
       "      <td>N</td>\n",
       "      <td>Y</td>\n",
       "      <td>24</td>\n",
       "      <td></td>\n",
       "      <td>1</td>\n",
       "      <td>3</td>\n",
       "      <td>1</td>\n",
       "      <td>1</td>\n",
       "      <td>N</td>\n",
       "      <td>1</td>\n",
       "      <td>1</td>\n",
       "      <td>1</td>\n",
       "      <td>6</td>\n",
       "      <td>2</td>\n",
       "      <td>21</td>\n",
       "      <td>None</td>\n",
       "      <td>Yes</td>\n",
       "      <td>None</td>\n",
       "      <td>149</td>\n",
       "      <td>1</td>\n",
       "      <td>1</td>\n",
       "      <td>N</td>\n",
       "      <td>M</td>\n",
       "      <td>36</td>\n",
       "    </tr>\n",
       "  </tbody>\n",
       "</table>\n",
       "<p>85804 rows × 36 columns</p>\n",
       "</div>"
      ],
      "text/plain": [
       "         ATTEND  BFACIL   BMI smoked  DOB_MM  FAGECOMB  FEDUC  FRACE6  \\\n",
       "2745564       1       1  25.0   None       7        36      5       1   \n",
       "3083465       1       1  37.4   None       4        25      4       1   \n",
       "64636         1       1  28.2   None      12        33      6       1   \n",
       "1898366       1       1  21.0   None       4        43      3       1   \n",
       "1837169       1       1  33.1   None       4        52      3       2   \n",
       "...         ...     ...   ...    ...     ...       ...    ...     ...   \n",
       "1418357       1       1  21.5   None       3        30      6       4   \n",
       "148545        2       1  28.1   None       8        29      2       1   \n",
       "3393158       1       1  19.5   None       9        33      4       4   \n",
       "3150640       1       1  23.4   None       6        18      1       1   \n",
       "249013        1       1  27.2  Daily       2        25      2       1   \n",
       "\n",
       "         first_birth  plural_delivery  first_pregnancy  plural_delivery  \\\n",
       "2745564            0                0                0                0   \n",
       "3083465            1                0                0                0   \n",
       "64636              0                0                0                0   \n",
       "1898366            0                0                0                0   \n",
       "1837169            0                0                0                0   \n",
       "...              ...              ...              ...              ...   \n",
       "1418357            1                0                1                0   \n",
       "148545             1                0                0                0   \n",
       "3393158            0                0                0                0   \n",
       "3150640            1                0                1                0   \n",
       "249013             0                0                0                0   \n",
       "\n",
       "        IP_GON LD_INDL  MAGER MAR_IMP  MBSTATE_REC  MEDUC  MHISPX  MRAVE6  \\\n",
       "2745564      N       N     34                    1      6       0       1   \n",
       "3083465      N       N     25                    1      3       0       1   \n",
       "64636        N       N     30                    1      4       0       1   \n",
       "1898366      N       Y     37                    1      7       0       1   \n",
       "1837169      N       N     31                    1      3       0       2   \n",
       "...        ...     ...    ...     ...          ...    ...     ...     ...   \n",
       "1418357      N       N     31                    2      6       0       4   \n",
       "148545       N       N     23                    1      2       1       1   \n",
       "3393158      N       N     28                    2      4       9       4   \n",
       "3150640      N       N     18                    1      3       1       1   \n",
       "249013       N       Y     24                    1      3       1       1   \n",
       "\n",
       "        MTRAN  NO_INFEC  NO_MMORB  NO_RISKS  PAY  PRECARE  PREVIS  \\\n",
       "2745564     N         1         1         1    2        2      12   \n",
       "3083465     N         1         1         1    2        3      13   \n",
       "64636       N         1         1         0    1        1      11   \n",
       "1898366     N         1         1         0    2        2      10   \n",
       "1837169     N         1         1         1    1        3      14   \n",
       "...       ...       ...       ...       ...  ...      ...     ...   \n",
       "1418357     N         1         1         1    5        2      14   \n",
       "148545      N         1         1         0    1        2      15   \n",
       "3393158     N         1         1         0    1        4       6   \n",
       "3150640     N         1         1         1    1        0       0   \n",
       "249013      N         1         1         1    6        2      21   \n",
       "\n",
       "        PRIORDEAD_cat PRIORLIVE_cat PRIORTERM_cat  PWgt_R  RDMETH_REC  \\\n",
       "2745564          None           Yes          None     155           1   \n",
       "3083465          None          None           Yes     218           1   \n",
       "64636            None           Yes           Yes     154           4   \n",
       "1898366          None           Yes          None     115           1   \n",
       "1837169          None           Yes           Yes     193           1   \n",
       "...               ...           ...           ...     ...         ...   \n",
       "1418357          None          None          None     114           3   \n",
       "148545           None          None           Yes     174           1   \n",
       "3393158          None           Yes          None     110           1   \n",
       "3150640          None          None          None     120           3   \n",
       "249013           None           Yes          None     149           1   \n",
       "\n",
       "         RESTATUS RF_CESAR SEX  WTGAIN  \n",
       "2745564         2        N   F      25  \n",
       "3083465         1        N   F       9  \n",
       "64636           1        Y   F      11  \n",
       "1898366         2        N   F      32  \n",
       "1837169         1        N   F       0  \n",
       "...           ...      ...  ..     ...  \n",
       "1418357         1        N   M      46  \n",
       "148545          1        N   M      21  \n",
       "3393158         1        N   M      26  \n",
       "3150640         1        N   M       9  \n",
       "249013          1        N   M      36  \n",
       "\n",
       "[85804 rows x 36 columns]"
      ]
     },
     "execution_count": 79,
     "metadata": {},
     "output_type": "execute_result"
    }
   ],
   "source": [
    "X"
   ]
  },
  {
   "cell_type": "code",
   "execution_count": 80,
   "metadata": {},
   "outputs": [
    {
     "data": {
      "text/plain": [
       "1    83908\n",
       "0     1764\n",
       "9      132\n",
       "Name: NO_INFEC, dtype: int64"
      ]
     },
     "execution_count": 80,
     "metadata": {},
     "output_type": "execute_result"
    }
   ],
   "source": [
    "df['NO_INFEC'].value_counts()"
   ]
  },
  {
   "cell_type": "code",
   "execution_count": 81,
   "metadata": {},
   "outputs": [
    {
     "data": {
      "text/plain": [
       "(85804, 64)"
      ]
     },
     "execution_count": 81,
     "metadata": {},
     "output_type": "execute_result"
    }
   ],
   "source": [
    "df.shape"
   ]
  },
  {
   "cell_type": "code",
   "execution_count": 82,
   "metadata": {},
   "outputs": [
    {
     "data": {
      "text/plain": [
       "0     79566\n",
       "20     1731\n",
       "10     1631\n",
       "5       604\n",
       "3       286\n",
       "99      252\n",
       "2       250\n",
       "1       213\n",
       "4       205\n",
       "6       188\n",
       "40      183\n",
       "15      159\n",
       "7       127\n",
       "8       105\n",
       "30      100\n",
       "12       47\n",
       "9        27\n",
       "60       22\n",
       "25       19\n",
       "98       18\n",
       "80       14\n",
       "11       11\n",
       "18        6\n",
       "16        6\n",
       "21        5\n",
       "50        5\n",
       "24        5\n",
       "13        3\n",
       "14        3\n",
       "35        2\n",
       "36        2\n",
       "19        2\n",
       "23        1\n",
       "88        1\n",
       "90        1\n",
       "27        1\n",
       "22        1\n",
       "42        1\n",
       "48        1\n",
       "Name: CIG_0, dtype: int64"
      ]
     },
     "execution_count": 82,
     "metadata": {},
     "output_type": "execute_result"
    }
   ],
   "source": [
    "df['CIG_0'].value_counts()"
   ]
  }
 ],
 "metadata": {
  "kernelspec": {
   "display_name": "Python 3",
   "language": "python",
   "name": "python3"
  },
  "language_info": {
   "codemirror_mode": {
    "name": "ipython",
    "version": 3
   },
   "file_extension": ".py",
   "mimetype": "text/x-python",
   "name": "python",
   "nbconvert_exporter": "python",
   "pygments_lexer": "ipython3",
   "version": "3.7.4"
  }
 },
 "nbformat": 4,
 "nbformat_minor": 4
}
