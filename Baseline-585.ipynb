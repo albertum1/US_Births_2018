{
 "cells": [
  {
   "cell_type": "code",
   "execution_count": 1,
   "metadata": {},
   "outputs": [],
   "source": [
    "import pandas as pd\n",
    "import numpy as np\n",
    "import matplotlib.pyplot as plt\n",
    "import seaborn as sns\n",
    "from sklearn.linear_model import LinearRegression\n",
    "from sklearn.model_selection import train_test_split\n",
    "from sklearn.linear_model import LassoCV\n",
    "from sklearn import metrics\n",
    "\n",
    "%matplotlib inline\n",
    "\n",
    "pd.set_option('display.max_columns',100)\n",
    "pd.set_option('display.max_rows',200)"
   ]
  },
  {
   "cell_type": "code",
   "execution_count": 2,
   "metadata": {},
   "outputs": [],
   "source": [
    "df = pd.read_csv('../US_births.csv', low_memory=False)"
   ]
  },
  {
   "cell_type": "code",
   "execution_count": 3,
   "metadata": {},
   "outputs": [],
   "source": [
    "df = df.sample(n=100_000)"
   ]
  },
  {
   "cell_type": "code",
   "execution_count": null,
   "metadata": {},
   "outputs": [],
   "source": []
  },
  {
   "cell_type": "code",
   "execution_count": 4,
   "metadata": {},
   "outputs": [
    {
     "data": {
      "text/plain": [
       "(1000000, 55)"
      ]
     },
     "execution_count": 4,
     "metadata": {},
     "output_type": "execute_result"
    }
   ],
   "source": [
    "df.shape"
   ]
  },
  {
   "cell_type": "code",
   "execution_count": 5,
   "metadata": {},
   "outputs": [],
   "source": [
    "df.drop(df[df['DBWT'].eq(9999)].index, inplace=True)"
   ]
  },
  {
   "cell_type": "code",
   "execution_count": 6,
   "metadata": {},
   "outputs": [],
   "source": [
    "df.drop(df[df['BMI'].eq(99.9)].index, inplace=True)\n",
    "df.drop(df[df['DBWT'].eq(9999)].index, inplace=True)\n",
    "df.drop(df[df['WTGAIN'].eq(99)].index, inplace=True)\n",
    "df.drop(df[df['PWgt_R'].eq(999)].index, inplace=True)\n",
    "df['binary_sex'] = np.where(df['SEX'] == 'M', 1, 0)"
   ]
  },
  {
   "cell_type": "code",
   "execution_count": 7,
   "metadata": {},
   "outputs": [
    {
     "data": {
      "text/plain": [
       "(966464, 56)"
      ]
     },
     "execution_count": 7,
     "metadata": {},
     "output_type": "execute_result"
    }
   ],
   "source": [
    "df.shape"
   ]
  },
  {
   "cell_type": "code",
   "execution_count": 8,
   "metadata": {},
   "outputs": [],
   "source": [
    "conditions = [df['CIG_0'].eq(0),\n",
    "              df['CIG_0'].eq(99),\n",
    "              \n",
    "    \n",
    "]\n",
    "choices = ['None',\n",
    "           'Unknown',\n",
    "]\n",
    "\n",
    "df['smoked'] = np.select(conditions, choices, 'Daily')"
   ]
  },
  {
   "cell_type": "code",
   "execution_count": 9,
   "metadata": {},
   "outputs": [],
   "source": [
    "conditions = [df['PRIORDEAD'].eq(0),\n",
    "              df['PRIORDEAD'].eq(99),\n",
    "              \n",
    "    \n",
    "]\n",
    "choices = ['None',\n",
    "           'Unknown',\n",
    "]\n",
    "\n",
    "df['PRIORDEAD_cat'] = np.select(conditions, choices, 'Yes')"
   ]
  },
  {
   "cell_type": "code",
   "execution_count": 10,
   "metadata": {},
   "outputs": [],
   "source": [
    "conditions = [df['PRIORTERM'].eq(0),\n",
    "              df['PRIORTERM'].eq(99),\n",
    "              \n",
    "    \n",
    "]\n",
    "choices = ['None',\n",
    "           'Unknown',\n",
    "]\n",
    "\n",
    "df['PRIORTERM_cat'] = np.select(conditions, choices, 'Yes')"
   ]
  },
  {
   "cell_type": "code",
   "execution_count": null,
   "metadata": {},
   "outputs": [],
   "source": []
  },
  {
   "cell_type": "code",
   "execution_count": null,
   "metadata": {},
   "outputs": [],
   "source": []
  },
  {
   "cell_type": "code",
   "execution_count": 11,
   "metadata": {},
   "outputs": [
    {
     "data": {
      "text/plain": [
       "<matplotlib.axes._subplots.AxesSubplot at 0x13483648>"
      ]
     },
     "execution_count": 11,
     "metadata": {},
     "output_type": "execute_result"
    },
    {
     "data": {
      "image/png": "[encoded data removed]",
      "text/plain": [
       "<Figure size 432x288 with 1 Axes>"
      ]
     },
     "metadata": {
      "needs_background": "light"
     },
     "output_type": "display_data"
    }
   ],
   "source": [
    "df[df['WTGAIN'].eq(99)]['BMI'].plot(kind='hist')"
   ]
  },
  {
   "cell_type": "code",
   "execution_count": 12,
   "metadata": {},
   "outputs": [
    {
     "data": {
      "text/plain": [
       "(966464, 59)"
      ]
     },
     "execution_count": 12,
     "metadata": {},
     "output_type": "execute_result"
    }
   ],
   "source": [
    "df.shape"
   ]
  },
  {
   "cell_type": "code",
   "execution_count": 13,
   "metadata": {},
   "outputs": [
    {
     "data": {
      "text/plain": [
       "<matplotlib.axes._subplots.AxesSubplot at 0x16d0f908>"
      ]
     },
     "execution_count": 13,
     "metadata": {},
     "output_type": "execute_result"
    },
    {
     "data": {
      "image/png": "[encoded data removed]",
      "text/plain": [
       "<Figure size 432x288 with 1 Axes>"
      ]
     },
     "metadata": {
      "needs_background": "light"
     },
     "output_type": "display_data"
    }
   ],
   "source": [
    "sns.distplot(df['BMI'])"
   ]
  },
  {
   "cell_type": "code",
   "execution_count": 14,
   "metadata": {},
   "outputs": [
    {
     "data": {
      "text/plain": [
       "<matplotlib.axes._subplots.AxesSubplot at 0x16e3db48>"
      ]
     },
     "execution_count": 14,
     "metadata": {},
     "output_type": "execute_result"
    },
    {
     "data": {
      "image/png": "[encoded data removed]",
      "text/plain": [
       "<Figure size 432x288 with 1 Axes>"
      ]
     },
     "metadata": {
      "needs_background": "light"
     },
     "output_type": "display_data"
    }
   ],
   "source": [
    "df['BMI_log'] = np.log(df['BMI'])\n",
    "sns.distplot(df['BMI_log'])"
   ]
  },
  {
   "cell_type": "code",
   "execution_count": 99,
   "metadata": {},
   "outputs": [
    {
     "data": {
      "text/plain": [
       "<seaborn.axisgrid.JointGrid at 0x185cfac8>"
      ]
     },
     "execution_count": 99,
     "metadata": {},
     "output_type": "execute_result"
    },
    {
     "data": {
      "image/png": "[encoded data removed]",
      "text/plain": [
       "<Figure size 432x432 with 3 Axes>"
      ]
     },
     "metadata": {
      "needs_background": "light"
     },
     "output_type": "display_data"
    }
   ],
   "source": [
    "sns.jointplot(x='BMI_log', y= 'DBWT', data =df, kind='reg')"
   ]
  },
  {
   "cell_type": "code",
   "execution_count": 15,
   "metadata": {},
   "outputs": [
    {
     "data": {
      "text/plain": [
       "<matplotlib.axes._subplots.AxesSubplot at 0x16eabd48>"
      ]
     },
     "execution_count": 15,
     "metadata": {},
     "output_type": "execute_result"
    },
    {
     "data": {
      "image/png": "[encoded data removed]",
      "text/plain": [
       "<Figure size 432x288 with 1 Axes>"
      ]
     },
     "metadata": {
      "needs_background": "light"
     },
     "output_type": "display_data"
    }
   ],
   "source": [
    "sns.distplot(df['DBWT'])"
   ]
  },
  {
   "cell_type": "code",
   "execution_count": 16,
   "metadata": {},
   "outputs": [
    {
     "data": {
      "text/plain": [
       "array(['F', 'M'], dtype=object)"
      ]
     },
     "execution_count": 16,
     "metadata": {},
     "output_type": "execute_result"
    }
   ],
   "source": [
    "df['SEX'].unique()"
   ]
  },
  {
   "cell_type": "code",
   "execution_count": 17,
   "metadata": {},
   "outputs": [],
   "source": [
    "_M_df = df[df['SEX'].eq('M')]\n",
    "_F_df = df[df['SEX'].eq('F')]"
   ]
  },
  {
   "cell_type": "code",
   "execution_count": 18,
   "metadata": {},
   "outputs": [
    {
     "data": {
      "text/plain": [
       "<matplotlib.axes._subplots.AxesSubplot at 0x17014a08>"
      ]
     },
     "execution_count": 18,
     "metadata": {},
     "output_type": "execute_result"
    },
    {
     "data": {
      "image/png": "[encoded data removed]",
      "text/plain": [
       "<Figure size 432x288 with 1 Axes>"
      ]
     },
     "metadata": {
      "needs_background": "light"
     },
     "output_type": "display_data"
    }
   ],
   "source": [
    "sns.distplot(_M_df['DBWT'])\n",
    "sns.distplot(_F_df['DBWT'])"
   ]
  },
  {
   "cell_type": "code",
   "execution_count": 19,
   "metadata": {},
   "outputs": [
    {
     "data": {
      "text/html": [
       "<table class=\"simpletable\">\n",
       "<caption>OLS Regression Results</caption>\n",
       "<tr>\n",
       "  <th>Dep. Variable:</th>          <td>DBWT</td>       <th>  R-squared:         </th>  <td>   0.009</td>  \n",
       "</tr>\n",
       "<tr>\n",
       "  <th>Model:</th>                   <td>OLS</td>       <th>  Adj. R-squared:    </th>  <td>   0.009</td>  \n",
       "</tr>\n",
       "<tr>\n",
       "  <th>Method:</th>             <td>Least Squares</td>  <th>  F-statistic:       </th>  <td>   9195.</td>  \n",
       "</tr>\n",
       "<tr>\n",
       "  <th>Date:</th>             <td>Wed, 29 Jul 2020</td> <th>  Prob (F-statistic):</th>   <td>  0.00</td>   \n",
       "</tr>\n",
       "<tr>\n",
       "  <th>Time:</th>                 <td>11:09:54</td>     <th>  Log-Likelihood:    </th> <td>-7.5266e+06</td>\n",
       "</tr>\n",
       "<tr>\n",
       "  <th>No. Observations:</th>      <td>966464</td>      <th>  AIC:               </th>  <td>1.505e+07</td> \n",
       "</tr>\n",
       "<tr>\n",
       "  <th>Df Residuals:</th>          <td>966462</td>      <th>  BIC:               </th>  <td>1.505e+07</td> \n",
       "</tr>\n",
       "<tr>\n",
       "  <th>Df Model:</th>              <td>     1</td>      <th>                     </th>      <td> </td>     \n",
       "</tr>\n",
       "<tr>\n",
       "  <th>Covariance Type:</th>      <td>nonrobust</td>    <th>                     </th>      <td> </td>     \n",
       "</tr>\n",
       "</table>\n",
       "<table class=\"simpletable\">\n",
       "<tr>\n",
       "       <td></td>         <th>coef</th>     <th>std err</th>      <th>t</th>      <th>P>|t|</th>  <th>[0.025</th>    <th>0.975]</th>  \n",
       "</tr>\n",
       "<tr>\n",
       "  <th>Intercept</th>  <td> 3206.9813</td> <td>    0.849</td> <td> 3776.978</td> <td> 0.000</td> <td> 3205.317</td> <td> 3208.646</td>\n",
       "</tr>\n",
       "<tr>\n",
       "  <th>binary_sex</th> <td>  113.8338</td> <td>    1.187</td> <td>   95.889</td> <td> 0.000</td> <td>  111.507</td> <td>  116.161</td>\n",
       "</tr>\n",
       "</table>\n",
       "<table class=\"simpletable\">\n",
       "<tr>\n",
       "  <th>Omnibus:</th>       <td>154020.382</td> <th>  Durbin-Watson:     </th>  <td>   2.000</td> \n",
       "</tr>\n",
       "<tr>\n",
       "  <th>Prob(Omnibus):</th>   <td> 0.000</td>   <th>  Jarque-Bera (JB):  </th> <td>428209.476</td>\n",
       "</tr>\n",
       "<tr>\n",
       "  <th>Skew:</th>            <td>-0.863</td>   <th>  Prob(JB):          </th>  <td>    0.00</td> \n",
       "</tr>\n",
       "<tr>\n",
       "  <th>Kurtosis:</th>        <td> 5.766</td>   <th>  Cond. No.          </th>  <td>    2.65</td> \n",
       "</tr>\n",
       "</table><br/><br/>Warnings:<br/>[1] Standard Errors assume that the covariance matrix of the errors is correctly specified."
      ],
      "text/plain": [
       "<class 'statsmodels.iolib.summary.Summary'>\n",
       "\"\"\"\n",
       "                            OLS Regression Results                            \n",
       "==============================================================================\n",
       "Dep. Variable:                   DBWT   R-squared:                       0.009\n",
       "Model:                            OLS   Adj. R-squared:                  0.009\n",
       "Method:                 Least Squares   F-statistic:                     9195.\n",
       "Date:                Wed, 29 Jul 2020   Prob (F-statistic):               0.00\n",
       "Time:                        11:09:54   Log-Likelihood:            -7.5266e+06\n",
       "No. Observations:              966464   AIC:                         1.505e+07\n",
       "Df Residuals:                  966462   BIC:                         1.505e+07\n",
       "Df Model:                           1                                         \n",
       "Covariance Type:            nonrobust                                         \n",
       "==============================================================================\n",
       "                 coef    std err          t      P>|t|      [0.025      0.975]\n",
       "------------------------------------------------------------------------------\n",
       "Intercept   3206.9813      0.849   3776.978      0.000    3205.317    3208.646\n",
       "binary_sex   113.8338      1.187     95.889      0.000     111.507     116.161\n",
       "==============================================================================\n",
       "Omnibus:                   154020.382   Durbin-Watson:                   2.000\n",
       "Prob(Omnibus):                  0.000   Jarque-Bera (JB):           428209.476\n",
       "Skew:                          -0.863   Prob(JB):                         0.00\n",
       "Kurtosis:                       5.766   Cond. No.                         2.65\n",
       "==============================================================================\n",
       "\n",
       "Warnings:\n",
       "[1] Standard Errors assume that the covariance matrix of the errors is correctly specified.\n",
       "\"\"\""
      ]
     },
     "execution_count": 19,
     "metadata": {},
     "output_type": "execute_result"
    }
   ],
   "source": [
    "from statsmodels.formula.api import ols\n",
    "formula = 'DBWT~binary_sex'\n",
    "model = ols(formula=formula, data = df).fit()\n",
    "model.summary()"
   ]
  },
  {
   "cell_type": "code",
   "execution_count": 20,
   "metadata": {},
   "outputs": [
    {
     "data": {
      "text/plain": [
       "F_onewayResult(statistic=9194.764706448046, pvalue=0.0)"
      ]
     },
     "execution_count": 20,
     "metadata": {},
     "output_type": "execute_result"
    }
   ],
   "source": [
    "from scipy import stats\n",
    "stats.f_oneway(_M_df['DBWT'], _F_df['DBWT'])"
   ]
  },
  {
   "cell_type": "code",
   "execution_count": null,
   "metadata": {},
   "outputs": [],
   "source": []
  },
  {
   "cell_type": "code",
   "execution_count": 21,
   "metadata": {},
   "outputs": [],
   "source": [
    "del _M_df\n",
    "del _F_df"
   ]
  },
  {
   "cell_type": "code",
   "execution_count": null,
   "metadata": {},
   "outputs": [],
   "source": []
  },
  {
   "cell_type": "code",
   "execution_count": null,
   "metadata": {},
   "outputs": [],
   "source": []
  },
  {
   "cell_type": "code",
   "execution_count": null,
   "metadata": {},
   "outputs": [],
   "source": []
  },
  {
   "cell_type": "code",
   "execution_count": 22,
   "metadata": {},
   "outputs": [
    {
     "data": {
      "text/plain": [
       "array([1, 4, 2, 3, 6, 5], dtype=int64)"
      ]
     },
     "execution_count": 22,
     "metadata": {},
     "output_type": "execute_result"
    }
   ],
   "source": [
    "df['MRAVE6'].unique()"
   ]
  },
  {
   "cell_type": "code",
   "execution_count": 23,
   "metadata": {},
   "outputs": [],
   "source": [
    "_1_race = df[df['MRAVE6'].eq(1)]\n",
    "_2_race = df[df['MRAVE6'].eq(2)]\n",
    "_3_race = df[df['MRAVE6'].eq(3)]\n",
    "_4_race = df[df['MRAVE6'].eq(4)]\n",
    "_5_race = df[df['MRAVE6'].eq(5)]\n",
    "_6_race = df[df['MRAVE6'].eq(6)]"
   ]
  },
  {
   "cell_type": "code",
   "execution_count": 24,
   "metadata": {},
   "outputs": [
    {
     "data": {
      "text/plain": [
       "<matplotlib.axes._subplots.AxesSubplot at 0x173bbbc8>"
      ]
     },
     "execution_count": 24,
     "metadata": {},
     "output_type": "execute_result"
    },
    {
     "data": {
      "image/png": "[encoded data removed]",
      "text/plain": [
       "<Figure size 432x288 with 1 Axes>"
      ]
     },
     "metadata": {
      "needs_background": "light"
     },
     "output_type": "display_data"
    }
   ],
   "source": [
    "sns.distplot(_1_race['DBWT'])\n",
    "sns.distplot(_2_race['DBWT'])\n",
    "sns.distplot(_3_race['DBWT'])\n",
    "sns.distplot(_4_race['DBWT'])\n",
    "sns.distplot(_5_race['DBWT'])\n",
    "sns.distplot(_6_race['DBWT'])"
   ]
  },
  {
   "cell_type": "code",
   "execution_count": 25,
   "metadata": {},
   "outputs": [
    {
     "data": {
      "text/plain": [
       "F_onewayResult(statistic=4402.862145606822, pvalue=0.0)"
      ]
     },
     "execution_count": 25,
     "metadata": {},
     "output_type": "execute_result"
    }
   ],
   "source": [
    "stats.f_oneway(_1_race['DBWT'], _2_race['DBWT'], _3_race['DBWT'], _4_race['DBWT'], _5_race['DBWT'], _6_race['DBWT'])"
   ]
  },
  {
   "cell_type": "code",
   "execution_count": null,
   "metadata": {},
   "outputs": [],
   "source": []
  },
  {
   "cell_type": "code",
   "execution_count": null,
   "metadata": {},
   "outputs": [],
   "source": []
  },
  {
   "cell_type": "code",
   "execution_count": 26,
   "metadata": {},
   "outputs": [],
   "source": [
    "del _1_race\n",
    "del _2_race\n",
    "del _3_race\n",
    "del _4_race\n",
    "del _5_race\n",
    "del _6_race"
   ]
  },
  {
   "cell_type": "code",
   "execution_count": null,
   "metadata": {},
   "outputs": [],
   "source": []
  },
  {
   "cell_type": "code",
   "execution_count": null,
   "metadata": {},
   "outputs": [],
   "source": []
  },
  {
   "cell_type": "code",
   "execution_count": 27,
   "metadata": {},
   "outputs": [
    {
     "data": {
      "text/plain": [
       "<matplotlib.axes._subplots.AxesSubplot at 0x173bb448>"
      ]
     },
     "execution_count": 27,
     "metadata": {},
     "output_type": "execute_result"
    },
    {
     "data": {
      "image/png": "[encoded data removed]",
      "text/plain": [
       "<Figure size 432x288 with 1 Axes>"
      ]
     },
     "metadata": {
      "needs_background": "light"
     },
     "output_type": "display_data"
    }
   ],
   "source": [
    "sns.distplot(df['MAGER'], bins = 39)"
   ]
  },
  {
   "cell_type": "code",
   "execution_count": null,
   "metadata": {},
   "outputs": [],
   "source": []
  },
  {
   "cell_type": "code",
   "execution_count": null,
   "metadata": {},
   "outputs": [],
   "source": []
  },
  {
   "cell_type": "code",
   "execution_count": 28,
   "metadata": {},
   "outputs": [
    {
     "data": {
      "text/plain": [
       "(966464, 60)"
      ]
     },
     "execution_count": 28,
     "metadata": {},
     "output_type": "execute_result"
    }
   ],
   "source": [
    "df.shape"
   ]
  },
  {
   "cell_type": "code",
   "execution_count": 29,
   "metadata": {},
   "outputs": [
    {
     "data": {
      "text/plain": [
       "1    938126\n",
       "0     26575\n",
       "9      1763\n",
       "Name: NO_INFEC, dtype: int64"
      ]
     },
     "execution_count": 29,
     "metadata": {},
     "output_type": "execute_result"
    }
   ],
   "source": [
    "df['NO_INFEC'].value_counts()"
   ]
  },
  {
   "cell_type": "code",
   "execution_count": 30,
   "metadata": {},
   "outputs": [
    {
     "data": {
      "text/plain": [
       "1    713023\n",
       "2    150768\n",
       "4     64883\n",
       "6     25599\n",
       "3      9259\n",
       "5      2932\n",
       "Name: MRAVE6, dtype: int64"
      ]
     },
     "execution_count": 30,
     "metadata": {},
     "output_type": "execute_result"
    }
   ],
   "source": [
    "df['MRAVE6'].value_counts()"
   ]
  },
  {
   "cell_type": "code",
   "execution_count": 31,
   "metadata": {},
   "outputs": [
    {
     "data": {
      "text/plain": [
       "0     700580\n",
       "1     172198\n",
       "2      58048\n",
       "3      20222\n",
       "4       7197\n",
       "5       2982\n",
       "99      2247\n",
       "6       1344\n",
       "7        645\n",
       "8        359\n",
       "9        237\n",
       "10       176\n",
       "11        80\n",
       "12        67\n",
       "13        27\n",
       "14        17\n",
       "17         9\n",
       "16         8\n",
       "15         7\n",
       "18         3\n",
       "21         3\n",
       "19         3\n",
       "28         1\n",
       "22         1\n",
       "24         1\n",
       "25         1\n",
       "26         1\n",
       "Name: PRIORTERM, dtype: int64"
      ]
     },
     "execution_count": 31,
     "metadata": {},
     "output_type": "execute_result"
    }
   ],
   "source": [
    "df['PRIORTERM'].value_counts()"
   ]
  },
  {
   "cell_type": "code",
   "execution_count": 32,
   "metadata": {},
   "outputs": [
    {
     "data": {
      "text/plain": [
       "1    591913\n",
       "9    171615\n",
       "2    119511\n",
       "4     54794\n",
       "6     20067\n",
       "3      6214\n",
       "5      2350\n",
       "Name: FRACE6, dtype: int64"
      ]
     },
     "execution_count": 32,
     "metadata": {},
     "output_type": "execute_result"
    }
   ],
   "source": [
    "df['FRACE6'].value_counts()\n"
   ]
  },
  {
   "cell_type": "code",
   "execution_count": 33,
   "metadata": {},
   "outputs": [
    {
     "data": {
      "text/plain": [
       "M    494411\n",
       "F    472053\n",
       "Name: SEX, dtype: int64"
      ]
     },
     "execution_count": 33,
     "metadata": {},
     "output_type": "execute_result"
    }
   ],
   "source": [
    "df['SEX'].value_counts()"
   ]
  },
  {
   "cell_type": "code",
   "execution_count": 34,
   "metadata": {},
   "outputs": [
    {
     "data": {
      "text/plain": [
       "2    478912\n",
       "1    404697\n",
       "3     40859\n",
       "8     17924\n",
       "5     11689\n",
       "6      7039\n",
       "9      4603\n",
       "4       741\n",
       "Name: PAY, dtype: int64"
      ]
     },
     "execution_count": 34,
     "metadata": {},
     "output_type": "execute_result"
    }
   ],
   "source": [
    "df['PAY'].value_counts()"
   ]
  },
  {
   "cell_type": "code",
   "execution_count": 35,
   "metadata": {},
   "outputs": [
    {
     "data": {
      "text/plain": [
       "array([' ', '1', '2'], dtype=object)"
      ]
     },
     "execution_count": 35,
     "metadata": {},
     "output_type": "execute_result"
    }
   ],
   "source": [
    "df['DMAR'].unique()"
   ]
  },
  {
   "cell_type": "code",
   "execution_count": 36,
   "metadata": {},
   "outputs": [
    {
     "data": {
      "text/plain": [
       "array(['N', 'Y', 'U'], dtype=object)"
      ]
     },
     "execution_count": 36,
     "metadata": {},
     "output_type": "execute_result"
    }
   ],
   "source": [
    "df['LD_INDL'].unique()"
   ]
  },
  {
   "cell_type": "code",
   "execution_count": 37,
   "metadata": {},
   "outputs": [
    {
     "data": {
      "text/plain": [
       "array(['N', 'Y', 'U'], dtype=object)"
      ]
     },
     "execution_count": 37,
     "metadata": {},
     "output_type": "execute_result"
    }
   ],
   "source": [
    "df['RF_CESAR'].unique()"
   ]
  },
  {
   "cell_type": "code",
   "execution_count": 38,
   "metadata": {},
   "outputs": [
    {
     "data": {
      "text/plain": [
       "array([1, 0, 9], dtype=int64)"
      ]
     },
     "execution_count": 38,
     "metadata": {},
     "output_type": "execute_result"
    }
   ],
   "source": [
    "df['NO_RISKS'].unique()"
   ]
  },
  {
   "cell_type": "code",
   "execution_count": 39,
   "metadata": {},
   "outputs": [
    {
     "data": {
      "text/plain": [
       "array([1, 0, 9], dtype=int64)"
      ]
     },
     "execution_count": 39,
     "metadata": {},
     "output_type": "execute_result"
    }
   ],
   "source": [
    "df['NO_MMORB'].unique()"
   ]
  },
  {
   "cell_type": "code",
   "execution_count": 40,
   "metadata": {},
   "outputs": [
    {
     "data": {
      "text/plain": [
       "array([' ', '1'], dtype=object)"
      ]
     },
     "execution_count": 40,
     "metadata": {},
     "output_type": "execute_result"
    }
   ],
   "source": [
    "df['MAGE_IMPFLG'].unique()"
   ]
  },
  {
   "cell_type": "code",
   "execution_count": 41,
   "metadata": {},
   "outputs": [],
   "source": [
    "df['BMI*SEX'] = np.where(df['SEX'].eq('M'), df['BMI'], 0)"
   ]
  },
  {
   "cell_type": "code",
   "execution_count": 42,
   "metadata": {},
   "outputs": [
    {
     "data": {
      "text/plain": [
       "array(['F', 'M'], dtype=object)"
      ]
     },
     "execution_count": 42,
     "metadata": {},
     "output_type": "execute_result"
    }
   ],
   "source": [
    "df['SEX'].unique()"
   ]
  },
  {
   "cell_type": "code",
   "execution_count": 43,
   "metadata": {},
   "outputs": [],
   "source": [
    "df['BMI*AGE'] = df['BMI'] * df['MAGER']"
   ]
  },
  {
   "cell_type": "code",
   "execution_count": 44,
   "metadata": {},
   "outputs": [],
   "source": [
    "df['over_35age'] = np.where(df['MAGER'].gt(35), 1, 0)"
   ]
  },
  {
   "cell_type": "code",
   "execution_count": 45,
   "metadata": {},
   "outputs": [],
   "source": [
    "df['WTGAIN*AGE'] = df['WTGAIN'] * df['MAGER']"
   ]
  },
  {
   "cell_type": "code",
   "execution_count": 46,
   "metadata": {},
   "outputs": [],
   "source": [
    "df['WTGAIN*BMI'] = df['WTGAIN'] * df['BMI']"
   ]
  },
  {
   "cell_type": "code",
   "execution_count": 71,
   "metadata": {},
   "outputs": [],
   "source": [
    "df['AGE*WTGAIN'] = df['WTGAIN'] = df['MAGER']"
   ]
  },
  {
   "cell_type": "code",
   "execution_count": null,
   "metadata": {},
   "outputs": [],
   "source": []
  },
  {
   "cell_type": "code",
   "execution_count": null,
   "metadata": {},
   "outputs": [],
   "source": []
  },
  {
   "cell_type": "code",
   "execution_count": 72,
   "metadata": {},
   "outputs": [],
   "source": [
    "X = df[['BMI','MAGER','smoked', 'PRIORDEAD_cat', 'WTGAIN','binary_sex','MRAVE6', 'PRIORTERM_cat','FRACE6', 'BMI*AGE', 'WTGAIN*AGE', 'WTGAIN*BMI',\n",
    "        'AGE*WTGAIN',\n",
    "        'FEDUC','DMAR','ATTEND', 'MTRAN', 'BMI*SEX', 'over_35age',\n",
    "       'LD_INDL','RF_CESAR','RDMETH_REC','NO_RISKS']]\n",
    "_X = pd.get_dummies(X, columns=['MRAVE6','smoked','FRACE6', 'PRIORDEAD_cat', 'PRIORTERM_cat',\n",
    "                               'FEDUC','DMAR','ATTEND', 'MTRAN',\n",
    "                               'LD_INDL','RF_CESAR','RDMETH_REC','NO_RISKS'])\n",
    "y = df['DBWT']"
   ]
  },
  {
   "cell_type": "code",
   "execution_count": 85,
   "metadata": {},
   "outputs": [
    {
     "data": {
      "text/plain": [
       "Index(['BMI', 'MAGER', 'WTGAIN', 'binary_sex', 'BMI*AGE', 'WTGAIN*AGE',\n",
       "       'WTGAIN*BMI', 'AGE*WTGAIN', 'BMI*SEX', 'over_35age', 'MRAVE6_1',\n",
       "       'MRAVE6_2', 'MRAVE6_3', 'MRAVE6_4', 'MRAVE6_5', 'MRAVE6_6',\n",
       "       'smoked_Daily', 'smoked_None', 'smoked_Unknown', 'FRACE6_1', 'FRACE6_2',\n",
       "       'FRACE6_3', 'FRACE6_4', 'FRACE6_5', 'FRACE6_6', 'FRACE6_9',\n",
       "       'PRIORDEAD_cat_None', 'PRIORDEAD_cat_Unknown', 'PRIORDEAD_cat_Yes',\n",
       "       'PRIORTERM_cat_None', 'PRIORTERM_cat_Unknown', 'PRIORTERM_cat_Yes',\n",
       "       'FEDUC_1', 'FEDUC_2', 'FEDUC_3', 'FEDUC_4', 'FEDUC_5', 'FEDUC_6',\n",
       "       'FEDUC_7', 'FEDUC_8', 'FEDUC_9', 'DMAR_ ', 'DMAR_1', 'DMAR_2',\n",
       "       'ATTEND_1', 'ATTEND_2', 'ATTEND_3', 'ATTEND_4', 'ATTEND_5', 'ATTEND_9',\n",
       "       'MTRAN_N', 'MTRAN_U', 'MTRAN_Y', 'LD_INDL_N', 'LD_INDL_U', 'LD_INDL_Y',\n",
       "       'RF_CESAR_N', 'RF_CESAR_U', 'RF_CESAR_Y', 'RDMETH_REC_1',\n",
       "       'RDMETH_REC_2', 'RDMETH_REC_3', 'RDMETH_REC_4', 'RDMETH_REC_5',\n",
       "       'RDMETH_REC_6', 'RDMETH_REC_9', 'NO_RISKS_0', 'NO_RISKS_1',\n",
       "       'NO_RISKS_9'],\n",
       "      dtype='object')"
      ]
     },
     "execution_count": 85,
     "metadata": {},
     "output_type": "execute_result"
    }
   ],
   "source": [
    "_X.columns\n"
   ]
  },
  {
   "cell_type": "code",
   "execution_count": 86,
   "metadata": {},
   "outputs": [],
   "source": [
    "_X['RACE_1*BMI'] = _X['MRAVE6_1'] * _X['BMI']\n",
    "_X['RACE_2*BMI'] = _X['MRAVE6_2'] * _X['BMI']\n",
    "_X['RACE_3*BMI'] = _X['MRAVE6_3'] * _X['BMI']\n",
    "_X['RACE_4*BMI'] = _X['MRAVE6_4'] * _X['BMI']\n",
    "_X['RACE_5*BMI'] = _X['MRAVE6_5'] * _X['BMI']\n",
    "_X['RACE_6*BMI'] = _X['MRAVE6_6'] * _X['BMI']"
   ]
  },
  {
   "cell_type": "code",
   "execution_count": null,
   "metadata": {},
   "outputs": [],
   "source": []
  },
  {
   "cell_type": "code",
   "execution_count": null,
   "metadata": {},
   "outputs": [],
   "source": []
  },
  {
   "cell_type": "code",
   "execution_count": null,
   "metadata": {},
   "outputs": [],
   "source": []
  },
  {
   "cell_type": "code",
   "execution_count": null,
   "metadata": {},
   "outputs": [],
   "source": []
  },
  {
   "cell_type": "code",
   "execution_count": null,
   "metadata": {},
   "outputs": [],
   "source": []
  },
  {
   "cell_type": "code",
   "execution_count": 87,
   "metadata": {},
   "outputs": [
    {
     "data": {
      "text/plain": [
       "(966464, 75)"
      ]
     },
     "execution_count": 87,
     "metadata": {},
     "output_type": "execute_result"
    }
   ],
   "source": [
    "_X.shape"
   ]
  },
  {
   "cell_type": "code",
   "execution_count": 88,
   "metadata": {},
   "outputs": [],
   "source": [
    "X_train, X_test, y_train, y_test = train_test_split(_X, y, random_state = 42, test_size= 0.2)\n"
   ]
  },
  {
   "cell_type": "code",
   "execution_count": 89,
   "metadata": {},
   "outputs": [],
   "source": [
    "from sklearn.preprocessing import StandardScaler\n",
    "scaler = StandardScaler()\n",
    "X_train = scaler.fit_transform(X_train)\n",
    "X_train = pd.DataFrame(data=X_train, columns = _X.columns)\n",
    "X_test = scaler.transform(X_test)\n",
    "X_test= pd.DataFrame(data=X_test, columns = _X.columns)"
   ]
  },
  {
   "cell_type": "code",
   "execution_count": 90,
   "metadata": {},
   "outputs": [],
   "source": [
    "# _X.corr()"
   ]
  },
  {
   "cell_type": "code",
   "execution_count": 91,
   "metadata": {},
   "outputs": [
    {
     "name": "stderr",
     "output_type": "stream",
     "text": [
      "[Parallel(n_jobs=1)]: Using backend SequentialBackend with 1 concurrent workers.\n",
      "....................................................................................................................................................................................................................................................................................................................................................................................................................................................................................................................[Parallel(n_jobs=1)]: Done   5 out of   5 | elapsed:   15.4s finished\n"
     ]
    },
    {
     "data": {
      "text/plain": [
       "LassoCV(alphas=None, copy_X=True, cv=5, eps=0.001, fit_intercept=True,\n",
       "        max_iter=1000, n_alphas=100, n_jobs=None, normalize=False,\n",
       "        positive=False, precompute='auto', random_state=42, selection='cyclic',\n",
       "        tol=0.001, verbose=1)"
      ]
     },
     "execution_count": 91,
     "metadata": {},
     "output_type": "execute_result"
    }
   ],
   "source": [
    "lasso_cv = LassoCV(cv=5, random_state=42, verbose=1, tol=0.001)\n",
    "lasso_cv.fit(X_train, y_train)"
   ]
  },
  {
   "cell_type": "code",
   "execution_count": 92,
   "metadata": {},
   "outputs": [],
   "source": [
    "y_train_pred = lasso_cv.predict(X_train)\n",
    "y_test_pred = lasso_cv.predict(X_test)"
   ]
  },
  {
   "cell_type": "code",
   "execution_count": 93,
   "metadata": {},
   "outputs": [
    {
     "data": {
      "text/plain": [
       "545.972559846089"
      ]
     },
     "execution_count": 93,
     "metadata": {},
     "output_type": "execute_result"
    }
   ],
   "source": [
    "np.sqrt(metrics.mean_squared_error(y_train,y_train_pred))"
   ]
  },
  {
   "cell_type": "code",
   "execution_count": 94,
   "metadata": {},
   "outputs": [
    {
     "data": {
      "text/plain": [
       "547.4276025011519"
      ]
     },
     "execution_count": 94,
     "metadata": {},
     "output_type": "execute_result"
    }
   ],
   "source": [
    "np.sqrt(metrics.mean_squared_error(y_test, y_test_pred))"
   ]
  },
  {
   "cell_type": "code",
   "execution_count": 95,
   "metadata": {},
   "outputs": [
    {
     "data": {
      "text/plain": [
       "count    966464.000000\n",
       "mean       3265.214908\n",
       "std         586.142638\n",
       "min         227.000000\n",
       "25%        2965.000000\n",
       "50%        3305.000000\n",
       "75%        3629.000000\n",
       "max        8165.000000\n",
       "Name: DBWT, dtype: float64"
      ]
     },
     "execution_count": 95,
     "metadata": {},
     "output_type": "execute_result"
    }
   ],
   "source": [
    "y.describe()"
   ]
  },
  {
   "cell_type": "code",
   "execution_count": 96,
   "metadata": {},
   "outputs": [
    {
     "data": {
      "text/html": [
       "<div>\n",
       "<style scoped>\n",
       "    .dataframe tbody tr th:only-of-type {\n",
       "        vertical-align: middle;\n",
       "    }\n",
       "\n",
       "    .dataframe tbody tr th {\n",
       "        vertical-align: top;\n",
       "    }\n",
       "\n",
       "    .dataframe thead th {\n",
       "        text-align: right;\n",
       "    }\n",
       "</style>\n",
       "<table border=\"1\" class=\"dataframe\">\n",
       "  <thead>\n",
       "    <tr style=\"text-align: right;\">\n",
       "      <th></th>\n",
       "      <th>variables</th>\n",
       "      <th>coefficients</th>\n",
       "    </tr>\n",
       "  </thead>\n",
       "  <tbody>\n",
       "    <tr>\n",
       "      <th>0</th>\n",
       "      <td>BMI</td>\n",
       "      <td>96.069305</td>\n",
       "    </tr>\n",
       "    <tr>\n",
       "      <th>1</th>\n",
       "      <td>MAGER</td>\n",
       "      <td>-0.062866</td>\n",
       "    </tr>\n",
       "    <tr>\n",
       "      <th>2</th>\n",
       "      <td>WTGAIN</td>\n",
       "      <td>-0.000000</td>\n",
       "    </tr>\n",
       "    <tr>\n",
       "      <th>3</th>\n",
       "      <td>binary_sex</td>\n",
       "      <td>59.392052</td>\n",
       "    </tr>\n",
       "    <tr>\n",
       "      <th>4</th>\n",
       "      <td>BMI*AGE</td>\n",
       "      <td>-3.266793</td>\n",
       "    </tr>\n",
       "    <tr>\n",
       "      <th>5</th>\n",
       "      <td>WTGAIN*AGE</td>\n",
       "      <td>103.735538</td>\n",
       "    </tr>\n",
       "    <tr>\n",
       "      <th>6</th>\n",
       "      <td>WTGAIN*BMI</td>\n",
       "      <td>16.225505</td>\n",
       "    </tr>\n",
       "    <tr>\n",
       "      <th>7</th>\n",
       "      <td>AGE*WTGAIN</td>\n",
       "      <td>-14.056955</td>\n",
       "    </tr>\n",
       "    <tr>\n",
       "      <th>8</th>\n",
       "      <td>BMI*SEX</td>\n",
       "      <td>-3.829002</td>\n",
       "    </tr>\n",
       "    <tr>\n",
       "      <th>9</th>\n",
       "      <td>over_35age</td>\n",
       "      <td>-13.460437</td>\n",
       "    </tr>\n",
       "    <tr>\n",
       "      <th>10</th>\n",
       "      <td>MRAVE6_1</td>\n",
       "      <td>18.038942</td>\n",
       "    </tr>\n",
       "    <tr>\n",
       "      <th>11</th>\n",
       "      <td>MRAVE6_2</td>\n",
       "      <td>-10.865436</td>\n",
       "    </tr>\n",
       "    <tr>\n",
       "      <th>12</th>\n",
       "      <td>MRAVE6_3</td>\n",
       "      <td>7.133454</td>\n",
       "    </tr>\n",
       "    <tr>\n",
       "      <th>13</th>\n",
       "      <td>MRAVE6_4</td>\n",
       "      <td>-0.000000</td>\n",
       "    </tr>\n",
       "    <tr>\n",
       "      <th>14</th>\n",
       "      <td>MRAVE6_5</td>\n",
       "      <td>-0.925095</td>\n",
       "    </tr>\n",
       "    <tr>\n",
       "      <th>15</th>\n",
       "      <td>MRAVE6_6</td>\n",
       "      <td>0.000000</td>\n",
       "    </tr>\n",
       "    <tr>\n",
       "      <th>16</th>\n",
       "      <td>smoked_Daily</td>\n",
       "      <td>-24.848297</td>\n",
       "    </tr>\n",
       "    <tr>\n",
       "      <th>17</th>\n",
       "      <td>smoked_None</td>\n",
       "      <td>12.494266</td>\n",
       "    </tr>\n",
       "    <tr>\n",
       "      <th>18</th>\n",
       "      <td>smoked_Unknown</td>\n",
       "      <td>-1.045634</td>\n",
       "    </tr>\n",
       "    <tr>\n",
       "      <th>19</th>\n",
       "      <td>FRACE6_1</td>\n",
       "      <td>18.183840</td>\n",
       "    </tr>\n",
       "    <tr>\n",
       "      <th>20</th>\n",
       "      <td>FRACE6_2</td>\n",
       "      <td>-2.989339</td>\n",
       "    </tr>\n",
       "    <tr>\n",
       "      <th>21</th>\n",
       "      <td>FRACE6_3</td>\n",
       "      <td>2.664181</td>\n",
       "    </tr>\n",
       "    <tr>\n",
       "      <th>22</th>\n",
       "      <td>FRACE6_4</td>\n",
       "      <td>-16.180959</td>\n",
       "    </tr>\n",
       "    <tr>\n",
       "      <th>23</th>\n",
       "      <td>FRACE6_5</td>\n",
       "      <td>0.591870</td>\n",
       "    </tr>\n",
       "    <tr>\n",
       "      <th>24</th>\n",
       "      <td>FRACE6_6</td>\n",
       "      <td>1.743801</td>\n",
       "    </tr>\n",
       "    <tr>\n",
       "      <th>25</th>\n",
       "      <td>FRACE6_9</td>\n",
       "      <td>-0.000000</td>\n",
       "    </tr>\n",
       "    <tr>\n",
       "      <th>26</th>\n",
       "      <td>PRIORDEAD_cat_None</td>\n",
       "      <td>0.000000</td>\n",
       "    </tr>\n",
       "    <tr>\n",
       "      <th>27</th>\n",
       "      <td>PRIORDEAD_cat_Unknown</td>\n",
       "      <td>0.466848</td>\n",
       "    </tr>\n",
       "    <tr>\n",
       "      <th>28</th>\n",
       "      <td>PRIORDEAD_cat_Yes</td>\n",
       "      <td>-10.881167</td>\n",
       "    </tr>\n",
       "    <tr>\n",
       "      <th>29</th>\n",
       "      <td>PRIORTERM_cat_None</td>\n",
       "      <td>0.000000</td>\n",
       "    </tr>\n",
       "    <tr>\n",
       "      <th>30</th>\n",
       "      <td>PRIORTERM_cat_Unknown</td>\n",
       "      <td>0.000000</td>\n",
       "    </tr>\n",
       "    <tr>\n",
       "      <th>31</th>\n",
       "      <td>PRIORTERM_cat_Yes</td>\n",
       "      <td>-4.498399</td>\n",
       "    </tr>\n",
       "    <tr>\n",
       "      <th>32</th>\n",
       "      <td>FEDUC_1</td>\n",
       "      <td>1.277536</td>\n",
       "    </tr>\n",
       "    <tr>\n",
       "      <th>33</th>\n",
       "      <td>FEDUC_2</td>\n",
       "      <td>-9.206441</td>\n",
       "    </tr>\n",
       "    <tr>\n",
       "      <th>34</th>\n",
       "      <td>FEDUC_3</td>\n",
       "      <td>-9.465772</td>\n",
       "    </tr>\n",
       "    <tr>\n",
       "      <th>35</th>\n",
       "      <td>FEDUC_4</td>\n",
       "      <td>-0.000000</td>\n",
       "    </tr>\n",
       "    <tr>\n",
       "      <th>36</th>\n",
       "      <td>FEDUC_5</td>\n",
       "      <td>3.350129</td>\n",
       "    </tr>\n",
       "    <tr>\n",
       "      <th>37</th>\n",
       "      <td>FEDUC_6</td>\n",
       "      <td>12.961487</td>\n",
       "    </tr>\n",
       "    <tr>\n",
       "      <th>38</th>\n",
       "      <td>FEDUC_7</td>\n",
       "      <td>9.161695</td>\n",
       "    </tr>\n",
       "    <tr>\n",
       "      <th>39</th>\n",
       "      <td>FEDUC_8</td>\n",
       "      <td>5.324821</td>\n",
       "    </tr>\n",
       "    <tr>\n",
       "      <th>40</th>\n",
       "      <td>FEDUC_9</td>\n",
       "      <td>-14.888392</td>\n",
       "    </tr>\n",
       "    <tr>\n",
       "      <th>41</th>\n",
       "      <td>DMAR_</td>\n",
       "      <td>-0.000000</td>\n",
       "    </tr>\n",
       "    <tr>\n",
       "      <th>42</th>\n",
       "      <td>DMAR_1</td>\n",
       "      <td>2.630575</td>\n",
       "    </tr>\n",
       "    <tr>\n",
       "      <th>43</th>\n",
       "      <td>DMAR_2</td>\n",
       "      <td>-20.181554</td>\n",
       "    </tr>\n",
       "    <tr>\n",
       "      <th>44</th>\n",
       "      <td>ATTEND_1</td>\n",
       "      <td>-5.769068</td>\n",
       "    </tr>\n",
       "    <tr>\n",
       "      <th>45</th>\n",
       "      <td>ATTEND_2</td>\n",
       "      <td>-0.000000</td>\n",
       "    </tr>\n",
       "    <tr>\n",
       "      <th>46</th>\n",
       "      <td>ATTEND_3</td>\n",
       "      <td>25.093691</td>\n",
       "    </tr>\n",
       "    <tr>\n",
       "      <th>47</th>\n",
       "      <td>ATTEND_4</td>\n",
       "      <td>18.422653</td>\n",
       "    </tr>\n",
       "    <tr>\n",
       "      <th>48</th>\n",
       "      <td>ATTEND_5</td>\n",
       "      <td>2.215597</td>\n",
       "    </tr>\n",
       "    <tr>\n",
       "      <th>49</th>\n",
       "      <td>ATTEND_9</td>\n",
       "      <td>0.184315</td>\n",
       "    </tr>\n",
       "    <tr>\n",
       "      <th>50</th>\n",
       "      <td>MTRAN_N</td>\n",
       "      <td>41.104929</td>\n",
       "    </tr>\n",
       "    <tr>\n",
       "      <th>51</th>\n",
       "      <td>MTRAN_U</td>\n",
       "      <td>9.932985</td>\n",
       "    </tr>\n",
       "    <tr>\n",
       "      <th>52</th>\n",
       "      <td>MTRAN_Y</td>\n",
       "      <td>-18.926302</td>\n",
       "    </tr>\n",
       "    <tr>\n",
       "      <th>53</th>\n",
       "      <td>LD_INDL_N</td>\n",
       "      <td>-32.291628</td>\n",
       "    </tr>\n",
       "    <tr>\n",
       "      <th>54</th>\n",
       "      <td>LD_INDL_U</td>\n",
       "      <td>-3.110777</td>\n",
       "    </tr>\n",
       "    <tr>\n",
       "      <th>55</th>\n",
       "      <td>LD_INDL_Y</td>\n",
       "      <td>4.301452</td>\n",
       "    </tr>\n",
       "    <tr>\n",
       "      <th>56</th>\n",
       "      <td>RF_CESAR_N</td>\n",
       "      <td>-58.637243</td>\n",
       "    </tr>\n",
       "    <tr>\n",
       "      <th>57</th>\n",
       "      <td>RF_CESAR_U</td>\n",
       "      <td>-1.389880</td>\n",
       "    </tr>\n",
       "    <tr>\n",
       "      <th>58</th>\n",
       "      <td>RF_CESAR_Y</td>\n",
       "      <td>3.891534</td>\n",
       "    </tr>\n",
       "    <tr>\n",
       "      <th>59</th>\n",
       "      <td>RDMETH_REC_1</td>\n",
       "      <td>0.000000</td>\n",
       "    </tr>\n",
       "    <tr>\n",
       "      <th>60</th>\n",
       "      <td>RDMETH_REC_2</td>\n",
       "      <td>-0.000000</td>\n",
       "    </tr>\n",
       "    <tr>\n",
       "      <th>61</th>\n",
       "      <td>RDMETH_REC_3</td>\n",
       "      <td>-55.243715</td>\n",
       "    </tr>\n",
       "    <tr>\n",
       "      <th>62</th>\n",
       "      <td>RDMETH_REC_4</td>\n",
       "      <td>1.242926</td>\n",
       "    </tr>\n",
       "    <tr>\n",
       "      <th>63</th>\n",
       "      <td>RDMETH_REC_5</td>\n",
       "      <td>-1.895907</td>\n",
       "    </tr>\n",
       "    <tr>\n",
       "      <th>64</th>\n",
       "      <td>RDMETH_REC_6</td>\n",
       "      <td>-3.771649</td>\n",
       "    </tr>\n",
       "    <tr>\n",
       "      <th>65</th>\n",
       "      <td>RDMETH_REC_9</td>\n",
       "      <td>0.290502</td>\n",
       "    </tr>\n",
       "    <tr>\n",
       "      <th>66</th>\n",
       "      <td>NO_RISKS_0</td>\n",
       "      <td>-93.292429</td>\n",
       "    </tr>\n",
       "    <tr>\n",
       "      <th>67</th>\n",
       "      <td>NO_RISKS_1</td>\n",
       "      <td>2.831361</td>\n",
       "    </tr>\n",
       "    <tr>\n",
       "      <th>68</th>\n",
       "      <td>NO_RISKS_9</td>\n",
       "      <td>-0.000000</td>\n",
       "    </tr>\n",
       "    <tr>\n",
       "      <th>69</th>\n",
       "      <td>RACE_1*BMI</td>\n",
       "      <td>0.000000</td>\n",
       "    </tr>\n",
       "    <tr>\n",
       "      <th>70</th>\n",
       "      <td>RACE_2*BMI</td>\n",
       "      <td>-35.094070</td>\n",
       "    </tr>\n",
       "    <tr>\n",
       "      <th>71</th>\n",
       "      <td>RACE_3*BMI</td>\n",
       "      <td>3.437710</td>\n",
       "    </tr>\n",
       "    <tr>\n",
       "      <th>72</th>\n",
       "      <td>RACE_4*BMI</td>\n",
       "      <td>1.942968</td>\n",
       "    </tr>\n",
       "    <tr>\n",
       "      <th>73</th>\n",
       "      <td>RACE_5*BMI</td>\n",
       "      <td>2.964548</td>\n",
       "    </tr>\n",
       "    <tr>\n",
       "      <th>74</th>\n",
       "      <td>RACE_6*BMI</td>\n",
       "      <td>0.000000</td>\n",
       "    </tr>\n",
       "  </tbody>\n",
       "</table>\n",
       "</div>"
      ],
      "text/plain": [
       "                variables  coefficients\n",
       "0                     BMI     96.069305\n",
       "1                   MAGER     -0.062866\n",
       "2                  WTGAIN     -0.000000\n",
       "3              binary_sex     59.392052\n",
       "4                 BMI*AGE     -3.266793\n",
       "5              WTGAIN*AGE    103.735538\n",
       "6              WTGAIN*BMI     16.225505\n",
       "7              AGE*WTGAIN    -14.056955\n",
       "8                 BMI*SEX     -3.829002\n",
       "9              over_35age    -13.460437\n",
       "10               MRAVE6_1     18.038942\n",
       "11               MRAVE6_2    -10.865436\n",
       "12               MRAVE6_3      7.133454\n",
       "13               MRAVE6_4     -0.000000\n",
       "14               MRAVE6_5     -0.925095\n",
       "15               MRAVE6_6      0.000000\n",
       "16           smoked_Daily    -24.848297\n",
       "17            smoked_None     12.494266\n",
       "18         smoked_Unknown     -1.045634\n",
       "19               FRACE6_1     18.183840\n",
       "20               FRACE6_2     -2.989339\n",
       "21               FRACE6_3      2.664181\n",
       "22               FRACE6_4    -16.180959\n",
       "23               FRACE6_5      0.591870\n",
       "24               FRACE6_6      1.743801\n",
       "25               FRACE6_9     -0.000000\n",
       "26     PRIORDEAD_cat_None      0.000000\n",
       "27  PRIORDEAD_cat_Unknown      0.466848\n",
       "28      PRIORDEAD_cat_Yes    -10.881167\n",
       "29     PRIORTERM_cat_None      0.000000\n",
       "30  PRIORTERM_cat_Unknown      0.000000\n",
       "31      PRIORTERM_cat_Yes     -4.498399\n",
       "32                FEDUC_1      1.277536\n",
       "33                FEDUC_2     -9.206441\n",
       "34                FEDUC_3     -9.465772\n",
       "35                FEDUC_4     -0.000000\n",
       "36                FEDUC_5      3.350129\n",
       "37                FEDUC_6     12.961487\n",
       "38                FEDUC_7      9.161695\n",
       "39                FEDUC_8      5.324821\n",
       "40                FEDUC_9    -14.888392\n",
       "41                 DMAR_      -0.000000\n",
       "42                 DMAR_1      2.630575\n",
       "43                 DMAR_2    -20.181554\n",
       "44               ATTEND_1     -5.769068\n",
       "45               ATTEND_2     -0.000000\n",
       "46               ATTEND_3     25.093691\n",
       "47               ATTEND_4     18.422653\n",
       "48               ATTEND_5      2.215597\n",
       "49               ATTEND_9      0.184315\n",
       "50                MTRAN_N     41.104929\n",
       "51                MTRAN_U      9.932985\n",
       "52                MTRAN_Y    -18.926302\n",
       "53              LD_INDL_N    -32.291628\n",
       "54              LD_INDL_U     -3.110777\n",
       "55              LD_INDL_Y      4.301452\n",
       "56             RF_CESAR_N    -58.637243\n",
       "57             RF_CESAR_U     -1.389880\n",
       "58             RF_CESAR_Y      3.891534\n",
       "59           RDMETH_REC_1      0.000000\n",
       "60           RDMETH_REC_2     -0.000000\n",
       "61           RDMETH_REC_3    -55.243715\n",
       "62           RDMETH_REC_4      1.242926\n",
       "63           RDMETH_REC_5     -1.895907\n",
       "64           RDMETH_REC_6     -3.771649\n",
       "65           RDMETH_REC_9      0.290502\n",
       "66             NO_RISKS_0    -93.292429\n",
       "67             NO_RISKS_1      2.831361\n",
       "68             NO_RISKS_9     -0.000000\n",
       "69             RACE_1*BMI      0.000000\n",
       "70             RACE_2*BMI    -35.094070\n",
       "71             RACE_3*BMI      3.437710\n",
       "72             RACE_4*BMI      1.942968\n",
       "73             RACE_5*BMI      2.964548\n",
       "74             RACE_6*BMI      0.000000"
      ]
     },
     "execution_count": 96,
     "metadata": {},
     "output_type": "execute_result"
    }
   ],
   "source": [
    "_coef_df = pd.DataFrame()\n",
    "_coef_df['variables'] = _X.columns\n",
    "_coef_df['coefficients'] = lasso_cv.coef_\n",
    "_coef_df.sort_values(by='coefficients')"
   ]
  },
  {
   "cell_type": "code",
   "execution_count": 97,
   "metadata": {},
   "outputs": [
    {
     "data": {
      "text/html": [
       "<div>\n",
       "<style scoped>\n",
       "    .dataframe tbody tr th:only-of-type {\n",
       "        vertical-align: middle;\n",
       "    }\n",
       "\n",
       "    .dataframe tbody tr th {\n",
       "        vertical-align: top;\n",
       "    }\n",
       "\n",
       "    .dataframe thead th {\n",
       "        text-align: right;\n",
       "    }\n",
       "</style>\n",
       "<table border=\"1\" class=\"dataframe\">\n",
       "  <thead>\n",
       "    <tr style=\"text-align: right;\">\n",
       "      <th></th>\n",
       "      <th>BMI</th>\n",
       "      <th>MAGER</th>\n",
       "      <th>smoked</th>\n",
       "      <th>PRIORDEAD_cat</th>\n",
       "      <th>WTGAIN</th>\n",
       "      <th>binary_sex</th>\n",
       "      <th>MRAVE6</th>\n",
       "      <th>PRIORTERM_cat</th>\n",
       "      <th>FRACE6</th>\n",
       "      <th>BMI*AGE</th>\n",
       "      <th>WTGAIN*AGE</th>\n",
       "      <th>WTGAIN*BMI</th>\n",
       "      <th>AGE*WTGAIN</th>\n",
       "      <th>FEDUC</th>\n",
       "      <th>DMAR</th>\n",
       "      <th>ATTEND</th>\n",
       "      <th>MTRAN</th>\n",
       "      <th>BMI*SEX</th>\n",
       "      <th>over_35age</th>\n",
       "      <th>LD_INDL</th>\n",
       "      <th>RF_CESAR</th>\n",
       "      <th>RDMETH_REC</th>\n",
       "      <th>NO_RISKS</th>\n",
       "    </tr>\n",
       "  </thead>\n",
       "  <tbody>\n",
       "    <tr>\n",
       "      <th>367964</th>\n",
       "      <td>20.4</td>\n",
       "      <td>39</td>\n",
       "      <td>None</td>\n",
       "      <td>None</td>\n",
       "      <td>39</td>\n",
       "      <td>0</td>\n",
       "      <td>1</td>\n",
       "      <td>None</td>\n",
       "      <td>1</td>\n",
       "      <td>795.6</td>\n",
       "      <td>273</td>\n",
       "      <td>142.8</td>\n",
       "      <td>39</td>\n",
       "      <td>6</td>\n",
       "      <td></td>\n",
       "      <td>1</td>\n",
       "      <td>N</td>\n",
       "      <td>0.0</td>\n",
       "      <td>1</td>\n",
       "      <td>N</td>\n",
       "      <td>N</td>\n",
       "      <td>1</td>\n",
       "      <td>1</td>\n",
       "    </tr>\n",
       "    <tr>\n",
       "      <th>816207</th>\n",
       "      <td>23.6</td>\n",
       "      <td>35</td>\n",
       "      <td>None</td>\n",
       "      <td>None</td>\n",
       "      <td>35</td>\n",
       "      <td>0</td>\n",
       "      <td>1</td>\n",
       "      <td>None</td>\n",
       "      <td>1</td>\n",
       "      <td>826.0</td>\n",
       "      <td>875</td>\n",
       "      <td>590.0</td>\n",
       "      <td>35</td>\n",
       "      <td>6</td>\n",
       "      <td>1</td>\n",
       "      <td>1</td>\n",
       "      <td>N</td>\n",
       "      <td>0.0</td>\n",
       "      <td>0</td>\n",
       "      <td>Y</td>\n",
       "      <td>N</td>\n",
       "      <td>1</td>\n",
       "      <td>0</td>\n",
       "    </tr>\n",
       "    <tr>\n",
       "      <th>3173343</th>\n",
       "      <td>25.1</td>\n",
       "      <td>25</td>\n",
       "      <td>None</td>\n",
       "      <td>None</td>\n",
       "      <td>25</td>\n",
       "      <td>1</td>\n",
       "      <td>1</td>\n",
       "      <td>None</td>\n",
       "      <td>1</td>\n",
       "      <td>627.5</td>\n",
       "      <td>225</td>\n",
       "      <td>225.9</td>\n",
       "      <td>25</td>\n",
       "      <td>4</td>\n",
       "      <td>1</td>\n",
       "      <td>2</td>\n",
       "      <td>N</td>\n",
       "      <td>25.1</td>\n",
       "      <td>0</td>\n",
       "      <td>N</td>\n",
       "      <td>N</td>\n",
       "      <td>1</td>\n",
       "      <td>1</td>\n",
       "    </tr>\n",
       "    <tr>\n",
       "      <th>285541</th>\n",
       "      <td>34.5</td>\n",
       "      <td>30</td>\n",
       "      <td>None</td>\n",
       "      <td>None</td>\n",
       "      <td>30</td>\n",
       "      <td>1</td>\n",
       "      <td>1</td>\n",
       "      <td>None</td>\n",
       "      <td>1</td>\n",
       "      <td>1035.0</td>\n",
       "      <td>1020</td>\n",
       "      <td>1173.0</td>\n",
       "      <td>30</td>\n",
       "      <td>3</td>\n",
       "      <td></td>\n",
       "      <td>1</td>\n",
       "      <td>N</td>\n",
       "      <td>34.5</td>\n",
       "      <td>0</td>\n",
       "      <td>N</td>\n",
       "      <td>N</td>\n",
       "      <td>1</td>\n",
       "      <td>1</td>\n",
       "    </tr>\n",
       "    <tr>\n",
       "      <th>2828181</th>\n",
       "      <td>22.6</td>\n",
       "      <td>34</td>\n",
       "      <td>None</td>\n",
       "      <td>None</td>\n",
       "      <td>34</td>\n",
       "      <td>1</td>\n",
       "      <td>1</td>\n",
       "      <td>None</td>\n",
       "      <td>1</td>\n",
       "      <td>768.4</td>\n",
       "      <td>850</td>\n",
       "      <td>565.0</td>\n",
       "      <td>34</td>\n",
       "      <td>6</td>\n",
       "      <td>1</td>\n",
       "      <td>1</td>\n",
       "      <td>N</td>\n",
       "      <td>22.6</td>\n",
       "      <td>0</td>\n",
       "      <td>N</td>\n",
       "      <td>N</td>\n",
       "      <td>1</td>\n",
       "      <td>1</td>\n",
       "    </tr>\n",
       "    <tr>\n",
       "      <th>...</th>\n",
       "      <td>...</td>\n",
       "      <td>...</td>\n",
       "      <td>...</td>\n",
       "      <td>...</td>\n",
       "      <td>...</td>\n",
       "      <td>...</td>\n",
       "      <td>...</td>\n",
       "      <td>...</td>\n",
       "      <td>...</td>\n",
       "      <td>...</td>\n",
       "      <td>...</td>\n",
       "      <td>...</td>\n",
       "      <td>...</td>\n",
       "      <td>...</td>\n",
       "      <td>...</td>\n",
       "      <td>...</td>\n",
       "      <td>...</td>\n",
       "      <td>...</td>\n",
       "      <td>...</td>\n",
       "      <td>...</td>\n",
       "      <td>...</td>\n",
       "      <td>...</td>\n",
       "      <td>...</td>\n",
       "    </tr>\n",
       "    <tr>\n",
       "      <th>1232020</th>\n",
       "      <td>20.1</td>\n",
       "      <td>30</td>\n",
       "      <td>None</td>\n",
       "      <td>None</td>\n",
       "      <td>30</td>\n",
       "      <td>0</td>\n",
       "      <td>1</td>\n",
       "      <td>None</td>\n",
       "      <td>1</td>\n",
       "      <td>603.0</td>\n",
       "      <td>960</td>\n",
       "      <td>643.2</td>\n",
       "      <td>30</td>\n",
       "      <td>2</td>\n",
       "      <td>1</td>\n",
       "      <td>1</td>\n",
       "      <td>N</td>\n",
       "      <td>0.0</td>\n",
       "      <td>0</td>\n",
       "      <td>N</td>\n",
       "      <td>N</td>\n",
       "      <td>1</td>\n",
       "      <td>1</td>\n",
       "    </tr>\n",
       "    <tr>\n",
       "      <th>3763594</th>\n",
       "      <td>30.0</td>\n",
       "      <td>32</td>\n",
       "      <td>None</td>\n",
       "      <td>None</td>\n",
       "      <td>32</td>\n",
       "      <td>1</td>\n",
       "      <td>1</td>\n",
       "      <td>Yes</td>\n",
       "      <td>1</td>\n",
       "      <td>960.0</td>\n",
       "      <td>1856</td>\n",
       "      <td>1740.0</td>\n",
       "      <td>32</td>\n",
       "      <td>4</td>\n",
       "      <td>2</td>\n",
       "      <td>1</td>\n",
       "      <td>N</td>\n",
       "      <td>30.0</td>\n",
       "      <td>0</td>\n",
       "      <td>N</td>\n",
       "      <td>Y</td>\n",
       "      <td>2</td>\n",
       "      <td>0</td>\n",
       "    </tr>\n",
       "    <tr>\n",
       "      <th>260205</th>\n",
       "      <td>25.1</td>\n",
       "      <td>35</td>\n",
       "      <td>None</td>\n",
       "      <td>None</td>\n",
       "      <td>35</td>\n",
       "      <td>1</td>\n",
       "      <td>1</td>\n",
       "      <td>Yes</td>\n",
       "      <td>1</td>\n",
       "      <td>878.5</td>\n",
       "      <td>525</td>\n",
       "      <td>376.5</td>\n",
       "      <td>35</td>\n",
       "      <td>4</td>\n",
       "      <td></td>\n",
       "      <td>3</td>\n",
       "      <td>N</td>\n",
       "      <td>25.1</td>\n",
       "      <td>0</td>\n",
       "      <td>N</td>\n",
       "      <td>N</td>\n",
       "      <td>1</td>\n",
       "      <td>1</td>\n",
       "    </tr>\n",
       "    <tr>\n",
       "      <th>1234550</th>\n",
       "      <td>32.3</td>\n",
       "      <td>23</td>\n",
       "      <td>None</td>\n",
       "      <td>None</td>\n",
       "      <td>23</td>\n",
       "      <td>1</td>\n",
       "      <td>1</td>\n",
       "      <td>None</td>\n",
       "      <td>9</td>\n",
       "      <td>742.9</td>\n",
       "      <td>828</td>\n",
       "      <td>1162.8</td>\n",
       "      <td>23</td>\n",
       "      <td>9</td>\n",
       "      <td>2</td>\n",
       "      <td>1</td>\n",
       "      <td>N</td>\n",
       "      <td>32.3</td>\n",
       "      <td>0</td>\n",
       "      <td>N</td>\n",
       "      <td>N</td>\n",
       "      <td>3</td>\n",
       "      <td>1</td>\n",
       "    </tr>\n",
       "    <tr>\n",
       "      <th>2346265</th>\n",
       "      <td>20.8</td>\n",
       "      <td>25</td>\n",
       "      <td>None</td>\n",
       "      <td>None</td>\n",
       "      <td>25</td>\n",
       "      <td>1</td>\n",
       "      <td>1</td>\n",
       "      <td>None</td>\n",
       "      <td>1</td>\n",
       "      <td>520.0</td>\n",
       "      <td>800</td>\n",
       "      <td>665.6</td>\n",
       "      <td>25</td>\n",
       "      <td>8</td>\n",
       "      <td>1</td>\n",
       "      <td>3</td>\n",
       "      <td>N</td>\n",
       "      <td>20.8</td>\n",
       "      <td>0</td>\n",
       "      <td>N</td>\n",
       "      <td>N</td>\n",
       "      <td>1</td>\n",
       "      <td>1</td>\n",
       "    </tr>\n",
       "  </tbody>\n",
       "</table>\n",
       "<p>966464 rows × 23 columns</p>\n",
       "</div>"
      ],
      "text/plain": [
       "          BMI  MAGER smoked PRIORDEAD_cat  WTGAIN  binary_sex  MRAVE6  \\\n",
       "367964   20.4     39   None          None      39           0       1   \n",
       "816207   23.6     35   None          None      35           0       1   \n",
       "3173343  25.1     25   None          None      25           1       1   \n",
       "285541   34.5     30   None          None      30           1       1   \n",
       "2828181  22.6     34   None          None      34           1       1   \n",
       "...       ...    ...    ...           ...     ...         ...     ...   \n",
       "1232020  20.1     30   None          None      30           0       1   \n",
       "3763594  30.0     32   None          None      32           1       1   \n",
       "260205   25.1     35   None          None      35           1       1   \n",
       "1234550  32.3     23   None          None      23           1       1   \n",
       "2346265  20.8     25   None          None      25           1       1   \n",
       "\n",
       "        PRIORTERM_cat  FRACE6  BMI*AGE  WTGAIN*AGE  WTGAIN*BMI  AGE*WTGAIN  \\\n",
       "367964           None       1    795.6         273       142.8          39   \n",
       "816207           None       1    826.0         875       590.0          35   \n",
       "3173343          None       1    627.5         225       225.9          25   \n",
       "285541           None       1   1035.0        1020      1173.0          30   \n",
       "2828181          None       1    768.4         850       565.0          34   \n",
       "...               ...     ...      ...         ...         ...         ...   \n",
       "1232020          None       1    603.0         960       643.2          30   \n",
       "3763594           Yes       1    960.0        1856      1740.0          32   \n",
       "260205            Yes       1    878.5         525       376.5          35   \n",
       "1234550          None       9    742.9         828      1162.8          23   \n",
       "2346265          None       1    520.0         800       665.6          25   \n",
       "\n",
       "         FEDUC DMAR  ATTEND MTRAN  BMI*SEX  over_35age LD_INDL RF_CESAR  \\\n",
       "367964       6            1     N      0.0           1       N        N   \n",
       "816207       6    1       1     N      0.0           0       Y        N   \n",
       "3173343      4    1       2     N     25.1           0       N        N   \n",
       "285541       3            1     N     34.5           0       N        N   \n",
       "2828181      6    1       1     N     22.6           0       N        N   \n",
       "...        ...  ...     ...   ...      ...         ...     ...      ...   \n",
       "1232020      2    1       1     N      0.0           0       N        N   \n",
       "3763594      4    2       1     N     30.0           0       N        Y   \n",
       "260205       4            3     N     25.1           0       N        N   \n",
       "1234550      9    2       1     N     32.3           0       N        N   \n",
       "2346265      8    1       3     N     20.8           0       N        N   \n",
       "\n",
       "         RDMETH_REC  NO_RISKS  \n",
       "367964            1         1  \n",
       "816207            1         0  \n",
       "3173343           1         1  \n",
       "285541            1         1  \n",
       "2828181           1         1  \n",
       "...             ...       ...  \n",
       "1232020           1         1  \n",
       "3763594           2         0  \n",
       "260205            1         1  \n",
       "1234550           3         1  \n",
       "2346265           1         1  \n",
       "\n",
       "[966464 rows x 23 columns]"
      ]
     },
     "execution_count": 97,
     "metadata": {},
     "output_type": "execute_result"
    }
   ],
   "source": [
    "X"
   ]
  },
  {
   "cell_type": "code",
   "execution_count": 98,
   "metadata": {},
   "outputs": [
    {
     "data": {
      "text/plain": [
       "<matplotlib.axes._subplots.AxesSubplot at 0x149b0fc8>"
      ]
     },
     "execution_count": 98,
     "metadata": {},
     "output_type": "execute_result"
    },
    {
     "data": {
      "image/png": "[encoded data removed]",
      "text/plain": [
       "<Figure size 432x288 with 1 Axes>"
      ]
     },
     "metadata": {
      "needs_background": "light"
     },
     "output_type": "display_data"
    }
   ],
   "source": [
    "sns.scatterplot(y_test,y_test_pred)"
   ]
  },
  {
   "cell_type": "code",
   "execution_count": 49,
   "metadata": {},
   "outputs": [
    {
     "data": {
      "text/plain": [
       "(966517, 64)"
      ]
     },
     "execution_count": 49,
     "metadata": {},
     "output_type": "execute_result"
    }
   ],
   "source": [
    "df.shape"
   ]
  },
  {
   "cell_type": "code",
   "execution_count": null,
   "metadata": {},
   "outputs": [],
   "source": [
    "df['FAGECOMB'].value_counts()"
   ]
  },
  {
   "cell_type": "code",
   "execution_count": null,
   "metadata": {},
   "outputs": [],
   "source": [
    "df['MRAVE6'].value_counts()"
   ]
  },
  {
   "cell_type": "code",
   "execution_count": null,
   "metadata": {},
   "outputs": [],
   "source": [
    "X"
   ]
  },
  {
   "cell_type": "code",
   "execution_count": null,
   "metadata": {},
   "outputs": [],
   "source": [
    "df['NO_INFEC'].value_counts()"
   ]
  },
  {
   "cell_type": "code",
   "execution_count": null,
   "metadata": {},
   "outputs": [],
   "source": [
    "df.shape"
   ]
  },
  {
   "cell_type": "code",
   "execution_count": null,
   "metadata": {},
   "outputs": [],
   "source": [
    "df['CIG_0'].value_counts()"
   ]
  }
 ],
 "metadata": {
  "kernelspec": {
   "display_name": "Python 3",
   "language": "python",
   "name": "python3"
  },
  "language_info": {
   "codemirror_mode": {
    "name": "ipython",
    "version": 3
   },
   "file_extension": ".py",
   "mimetype": "text/x-python",
   "name": "python",
   "nbconvert_exporter": "python",
   "pygments_lexer": "ipython3",
   "version": "3.7.4"
  }
 },
 "nbformat": 4,
 "nbformat_minor": 4
}
